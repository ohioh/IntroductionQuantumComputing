{
 "cells": [
  {
   "cell_type": "markdown",
   "metadata": {},
   "source": [
    "ReinforcementLearning\n",
    "\n",
    "@Author: Tjark Ziehm\n",
    "@Version: 0.01 / 27.11.2021\n",
    "\n",
    "\n"
   ]
  },
  {
   "cell_type": "markdown",
   "metadata": {},
   "source": [
    "\n",
    "\n",
    "#########################################################################################################################################################\n",
    "#\n",
    "# *  Reinforcement Learning @ Graphs\n",
    "# *  \n",
    "# *  @file ReinforcementLearning with Graphs\n",
    "# *  @author Tjark Ziehm\n",
    "# *  @version 0.1 \n",
    "# *  http://proceedings.mlr.press/v89/madjiheurem19a/madjiheurem19a.pdf\n",
    "# *  file:///home/tjarkziehm/Downloads/ZR_08_26.pdf\n",
    "# *  https://studyflix.de/informatik/bellman-ford-algorithmus-1294\n",
    "#*\n",
    "#*   Visualisation of the learning process based on a visualized model\n",
    "#*\n",
    "#*   Enviroment:\n",
    "#*   State:\n",
    "#*   Action:\n",
    "#*   Reward/Penalty:\n",
    "#*   Policy:\n",
    "#*    \n",
    "The Reinforcement Learning is a subfield between Supervised and Unsupervised Learning.\n",
    "It has the task to optimize the Being greedy doesn't always work aspect\n",
    "For this the need for historical state persepctive is needed. For comparison the time or/ and steps of state are important too.\n",
    "# * \n",
    "#########################################################################################################################################################\n",
    "\n"
   ]
  },
  {
   "cell_type": "markdown",
   "metadata": {},
   "source": [
    "<img src=\"Reinforcement-Learning-Animation.gif\" width=\"750\" align=\"center\">"
   ]
  },
  {
   "cell_type": "code",
   "execution_count": null,
   "metadata": {},
   "outputs": [],
   "source": []
  },
  {
   "cell_type": "code",
   "execution_count": null,
   "metadata": {},
   "outputs": [],
   "source": []
  }
 ],
 "metadata": {
  "interpreter": {
   "hash": "f03641a20875eb31c895993e5eeebc7974b2c64ea578c5e1228c985863a9ec3b"
  },
  "kernelspec": {
   "display_name": "Python 3.10.0 64-bit ('datascience': conda)",
   "language": "python",
   "name": "python3"
  },
  "language_info": {
   "codemirror_mode": {
    "name": "ipython",
    "version": 3
   },
   "file_extension": ".py",
   "mimetype": "text/x-python",
   "name": "python",
   "nbconvert_exporter": "python",
   "pygments_lexer": "ipython3",
   "version": "3.10.0"
  },
  "orig_nbformat": 4
 },
 "nbformat": 4,
 "nbformat_minor": 2
}
