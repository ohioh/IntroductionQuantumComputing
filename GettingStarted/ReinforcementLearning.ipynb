{
 "cells": [
  {
   "cell_type": "markdown",
   "metadata": {},
   "source": [
    "ReinforcementLearning\n",
    "\n",
    "@Author: Tjark Ziehm\n",
    "@Version: 0.01 / 27.11.2021\n",
    "\n",
    "Visualisation of the learning process based on a visualized model\n",
    "\n",
    "Enviroment:\n",
    "State:\n",
    "Action:\n",
    "Reward/Penalty:\n",
    "Policy:\n",
    "\n",
    "The Reinforcement Learning is a subfield between Supervised and Unsupervised Learning.\n",
    "It has the task to optimize the Being greedy doesn't always work aspect\n",
    "For this the need for historical state persepctive is needed. For comparison the time or/ and steps of state are important too.\n"
   ]
  },
  {
   "cell_type": "markdown",
   "metadata": {},
   "source": [
    "\n",
    "![SegmentLocal](Reinforcement-Learning-Animation.gif \"segment\")"
   ]
  },
  {
   "cell_type": "markdown",
   "metadata": {},
   "source": [
    "<img src=\"Reinforcement-Learning-Animation.gif\" width=\"750\" align=\"center\">"
   ]
  },
  {
   "cell_type": "code",
   "execution_count": 1,
   "metadata": {},
   "outputs": [
    {
     "ename": "ModuleNotFoundError",
     "evalue": "No module named 'matplotlib'",
     "output_type": "error",
     "traceback": [
      "\u001b[0;31m---------------------------------------------------------------------------\u001b[0m",
      "\u001b[0;31mModuleNotFoundError\u001b[0m                       Traceback (most recent call last)",
      "\u001b[0;32m/tmp/ipykernel_31742/322768712.py\u001b[0m in \u001b[0;36m<module>\u001b[0;34m\u001b[0m\n\u001b[0;32m----> 1\u001b[0;31m \u001b[0;32mimport\u001b[0m \u001b[0mmatplotlib\u001b[0m\u001b[0;34m.\u001b[0m\u001b[0mpyplot\u001b[0m \u001b[0;32mas\u001b[0m \u001b[0mplt\u001b[0m\u001b[0;34m\u001b[0m\u001b[0;34m\u001b[0m\u001b[0m\n\u001b[0m",
      "\u001b[0;31mModuleNotFoundError\u001b[0m: No module named 'matplotlib'"
     ]
    }
   ],
   "source": [
    "import matplotlib.pyplot as plt\n",
    "import matplotlib.image as mpimg"
   ]
  },
  {
   "cell_type": "code",
   "execution_count": null,
   "metadata": {},
   "outputs": [],
   "source": [
    "img = mpimg.imread(\"Reinforcement-Learning-Animation.gif\")\n",
    "\n",
    "plt.imshow(img)"
   ]
  }
 ],
 "metadata": {
  "interpreter": {
   "hash": "f03641a20875eb31c895993e5eeebc7974b2c64ea578c5e1228c985863a9ec3b"
  },
  "kernelspec": {
   "display_name": "Python 3.10.0 64-bit ('datascience': conda)",
   "language": "python",
   "name": "python3"
  },
  "language_info": {
   "codemirror_mode": {
    "name": "ipython",
    "version": 3
   },
   "file_extension": ".py",
   "mimetype": "text/x-python",
   "name": "python",
   "nbconvert_exporter": "python",
   "pygments_lexer": "ipython3",
   "version": "3.10.0"
  },
  "orig_nbformat": 4
 },
 "nbformat": 4,
 "nbformat_minor": 2
}
