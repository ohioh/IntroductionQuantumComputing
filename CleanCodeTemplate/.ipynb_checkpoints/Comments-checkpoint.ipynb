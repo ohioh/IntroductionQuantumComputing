{
 "cells": [
  {
   "cell_type": "code",
   "execution_count": 1,
   "id": "2065c8da",
   "metadata": {},
   "outputs": [
    {
     "data": {
      "text/plain": [
       "'\\n|| Lokaler Kommentar und Notizbereich\\n|| This event is defined but not used in the code. No\\n|| point in wasting codespace on it.\\n||\\n'"
      ]
     },
     "execution_count": 1,
     "metadata": {},
     "output_type": "execute_result"
    }
   ],
   "source": [
    "#########################################################################################################################################################\n",
    "#\n",
    "# * TAKE CARE ABOUT YOUR CLEAN CODE - Kapitel\n",
    "# *  Nutzen und Einsatz von verschiedenen Kommentaren\n",
    "# *  Purpose: beeing able to create well understandable code\n",
    "# *  \n",
    "# *  @file kommentare.py\n",
    "# *  @author Tjark Ziehm\n",
    "# *  @version 0.9 15.Oktober 2015 \n",
    "# *\n",
    "# * Developed for the LSST Data Management System.\n",
    "# * This product includes software developed by the LSST Project\n",
    "# * (https://www.lsst.org).\n",
    "# * See the COPYRIGHT file at the top-level directory of this distribution\n",
    "# * for details of code ownership.\n",
    "# *\n",
    "# * This program is free software: you can redistribute it and/or modify\n",
    "# * it under the terms of the GNU General Public License as published by\n",
    "# * the Free Software Foundation, either version 3 of the License, or\n",
    "# * (at your option) any later version.\n",
    "# *\n",
    "# * This program is distributed in the hope that it will be useful,\n",
    "# * but WITHOUT ANY WARRANTY; without even the implied warranty of\n",
    "# * MERCHANTABILITY or FITNESS FOR A PARTICULAR PURPOSE.  See the\n",
    "# * GNU General Public License for more details.\n",
    "# *\n",
    "# * You should have received a copy of the GNU General Public License\n",
    "# * along with this program.  If not, see <https://www.gnu.org/licenses/>.\n",
    "# */\n",
    "#########################################################################################################################################################\n",
    "'''1 Leerzeile'''\n",
    "# Test-Wert für print-Test\n",
    "zahl = 1;\n",
    "'''2 Leerzeilen nach dem Ende'''\n",
    "\n",
    "#############################################Segment#############################################################################################\n",
    "\n",
    "#**************************************************************************/\n",
    "#    Funktionsbenennung\n",
    "#    @brief  seperation logical blocks\n",
    "#    @param  line of single deviding commenting symbol like /,# or /* and */    \n",
    "#\n",
    "#**************************************************************************/\n",
    "\n",
    "\n",
    "'''\n",
    "|| Lokaler Kommentar und Notizbereich\n",
    "|| This event is defined but not used in the code. No\n",
    "|| point in wasting codespace on it.\n",
    "||\n",
    "'''"
   ]
  },
  {
   "cell_type": "code",
   "execution_count": null,
   "id": "ad845f60",
   "metadata": {},
   "outputs": [],
   "source": []
  }
 ],
 "metadata": {
  "kernelspec": {
   "display_name": "Python 3 (Spyder)",
   "language": "python3",
   "name": "python3"
  },
  "language_info": {
   "codemirror_mode": {
    "name": "ipython",
    "version": 3
   },
   "file_extension": ".py",
   "mimetype": "text/x-python",
   "name": "python",
   "nbconvert_exporter": "python",
   "pygments_lexer": "ipython3",
   "version": "3.8.12"
  }
 },
 "nbformat": 4,
 "nbformat_minor": 5
}
