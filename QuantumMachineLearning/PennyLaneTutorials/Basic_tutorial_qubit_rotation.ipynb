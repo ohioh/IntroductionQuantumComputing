{
 "cells": [
  {
   "cell_type": "markdown",
   "metadata": {},
   "source": [
    "#####################################################################################\n",
    "#\n",
    "#   Pennylane Basic Tutorial Qubit Rotations\n",
    "#   @Text Tjark Ziehm\n",
    "#   @Version 0.01 Dez 2021\n",
    "#   @Creater Xanadu/Pennylane-Team\n",
    "#   @Documentation\n",
    "#   -Optimizer @ Pennylane: \n",
    "#         https://pennylane.readthedocs.io/en/stable/introduction/optimizers.html\n",
    "#   -@BQP-Docs:   \n",
    "#      https://docs.google.com/document/d/1YYOCEOMKd2cmsvEPfVoHobVOthlL9vW2XdDjT-pToCs/edit?usp=sharing     \n",
    "#   -@BQP-Book\n",
    "#  https://quantum-research.gitbook.io/introduction-to-quantum-computing/quantum-machine-learning/optimizer\n",
    "#\n",
    "#   @Science \n",
    "#\n",
    "#   @Guide\n",
    "#\n",
    "#   @Goal\n",
    "#\n",
    "#   @DataSet:\n",
    "#             \n",
    "#\n",
    "#\n",
    "#####################################################################################"
   ]
  },
  {
   "cell_type": "code",
   "execution_count": 3,
   "metadata": {},
   "outputs": [],
   "source": [
    "import pennylane as qml\n",
    "from pennylane import numpy as np"
   ]
  },
  {
   "cell_type": "code",
   "execution_count": 4,
   "metadata": {},
   "outputs": [],
   "source": [
    "dev1 = qml.device(\"default.qubit\", wires=1)"
   ]
  },
  {
   "cell_type": "code",
   "execution_count": 5,
   "metadata": {},
   "outputs": [],
   "source": [
    "def circuit(params):\n",
    "    qml.RX(params[0], wires=0)\n",
    "    qml.RY(params[1], wires=0)\n",
    "    return qml.expval(qml.PauliZ(0))"
   ]
  },
  {
   "cell_type": "code",
   "execution_count": 6,
   "metadata": {},
   "outputs": [],
   "source": [
    "@qml.qnode(dev1)\n",
    "def circuit(params):\n",
    "    qml.RX(params[0], wires=0)\n",
    "    qml.RY(params[1], wires=0)\n",
    "    return qml.expval(qml.PauliZ(0))"
   ]
  },
  {
   "cell_type": "code",
   "execution_count": 7,
   "metadata": {},
   "outputs": [
    {
     "name": "stdout",
     "output_type": "stream",
     "text": [
      "0.8515405859048366\n"
     ]
    }
   ],
   "source": [
    "print(circuit([0.54, 0.12]))"
   ]
  },
  {
   "cell_type": "markdown",
   "metadata": {},
   "source": [
    "Calculating quantum gradients"
   ]
  },
  {
   "cell_type": "code",
   "execution_count": 8,
   "metadata": {},
   "outputs": [],
   "source": [
    "dcircuit = qml.grad(circuit, argnum=0)"
   ]
  },
  {
   "cell_type": "code",
   "execution_count": 9,
   "metadata": {},
   "outputs": [
    {
     "name": "stdout",
     "output_type": "stream",
     "text": [
      "[array(-0.51043865), array(-0.1026782)]\n"
     ]
    }
   ],
   "source": [
    "print(dcircuit([0.54, 0.12]))"
   ]
  },
  {
   "cell_type": "code",
   "execution_count": 10,
   "metadata": {},
   "outputs": [],
   "source": [
    "@qml.qnode(dev1)\n",
    "def circuit2(phi1, phi2):\n",
    "    qml.RX(phi1, wires=0)\n",
    "    qml.RY(phi2, wires=0)\n",
    "    return qml.expval(qml.PauliZ(0))"
   ]
  },
  {
   "cell_type": "code",
   "execution_count": 11,
   "metadata": {},
   "outputs": [
    {
     "name": "stdout",
     "output_type": "stream",
     "text": [
      "(array(-0.51043865), array(-0.1026782))\n"
     ]
    }
   ],
   "source": [
    "dcircuit = qml.grad(circuit2, argnum=[0, 1])\n",
    "print(dcircuit(0.54, 0.12))"
   ]
  }
 ],
 "metadata": {
  "interpreter": {
   "hash": "1622268285166788291671b77bbf30ad1eec64d9cddc99c16596b1b1231b1a74"
  },
  "kernelspec": {
   "display_name": "Python 3.9.7 64-bit ('base': conda)",
   "language": "python",
   "name": "python3"
  },
  "language_info": {
   "codemirror_mode": {
    "name": "ipython",
    "version": 3
   },
   "file_extension": ".py",
   "mimetype": "text/x-python",
   "name": "python",
   "nbconvert_exporter": "python",
   "pygments_lexer": "ipython3",
   "version": "3.9.7"
  },
  "orig_nbformat": 4
 },
 "nbformat": 4,
 "nbformat_minor": 2
}
