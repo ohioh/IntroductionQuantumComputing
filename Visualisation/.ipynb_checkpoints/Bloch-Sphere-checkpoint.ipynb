{
 "cells": [
  {
   "cell_type": "code",
   "execution_count": null,
   "metadata": {},
   "outputs": [],
   "source": [
    "##########################################################################################\n",
    "#\n",
    "#   The Bloch-Sphere Tutorial\n",
    "#   @Author: Tjark Ziehm\n",
    "#   \n",
    "#\n",
    "#   There are some tools to visualisation of single Qubit quantum systems.\n",
    "#   3 of them I wish to present here:\n",
    "#   \n",
    "#   1.  \n",
    "#   2.\n",
    "#   3\n",
    "#\n",
    "#\n",
    "#\n",
    "#\n",
    "###########################################################################################"
   ]
  },
  {
   "cell_type": "markdown",
   "metadata": {},
   "source": [
    "You are able to create an bloch sphere state as an *.gif.\n",
    "and run this internal as an Markdown inline gif."
   ]
  },
  {
   "cell_type": "markdown",
   "metadata": {},
   "source": [
    "# Bloch Sphere Visualizations for some Common Quantum Gates\n",
    "\n",
    "### X gate (classical NOT bit flip)\n",
    "\n",
    "![X gate](https://raw.githubusercontent.com/cduck/bloch_sphere/master/examples/xx_gate.gif)\n",
    "\n",
    "### Z gate (quantum phase flip)\n",
    "\n",
    "![Z gate](https://raw.githubusercontent.com/cduck/bloch_sphere/master/examples/zz_gate.gif)\n",
    "\n",
    "### Y gate (bit and phase flip)\n",
    "\n",
    "![Y gate](https://raw.githubusercontent.com/cduck/bloch_sphere/master/examples/yy_gate.gif)\n",
    "\n",
    "### Hadamard gate (Z/X axis swap)\n",
    "\n",
    "![Hadamard gate](https://raw.githubusercontent.com/cduck/bloch_sphere/master/examples/hh_gate.gif)\n",
    "\n",
    "### 1/2-X gate (square root of NOT)\n",
    "\n",
    "![Half-X gate](https://raw.githubusercontent.com/cduck/bloch_sphere/master/examples/sqrt_xxxx_gate.gif)\n",
    "\n",
    "### S and T gates (1/2-Z and 1/4-Z)\n",
    "\n",
    "![S and T gates](https://raw.githubusercontent.com/cduck/bloch_sphere/master/examples/ststs_gate.gif)\n",
    "\n",
    "### Y gate (bit flip with phase)\n",
    "\n",
    "![Y gate comparison with XZ](https://raw.githubusercontent.com/cduck/bloch_sphere/master/examples/xz_y_compare.gif)"
   ]
  },
  {
   "cell_type": "markdown",
   "metadata": {},
   "source": [
    "![SegmentLocal](hadamad.gif \"segment\")"
   ]
  },
  {
   "cell_type": "code",
   "execution_count": null,
   "metadata": {},
   "outputs": [],
   "source": [
    "import matplotlib as mpl\n",
    "from pylab import *\n",
    "from qutip import *\n",
    "from matplotlib import cm\n",
    "import imageio\n",
    "\n",
    "def animate_bloch(states, duration=0.1, save_all=False):\n",
    "\n",
    "    b = Bloch()\n",
    "    b.vector_color = ['r']\n",
    "    b.view = [-40,30]\n",
    "    images=[]\n",
    "    try:\n",
    "        length = len(states)\n",
    "    except:\n",
    "        length = 1\n",
    "        states = [states]\n",
    "    ## normalize colors to the length of data ##\n",
    "    nrm = mpl.colors.Normalize(0,length)\n",
    "    colors = cm.cool(nrm(range(length))) # options: cool, summer, winter, autumn etc.\n",
    "\n",
    "    ## customize sphere properties ##\n",
    "    b.point_color = list(colors) # options: 'r', 'g', 'b' etc.\n",
    "    b.point_marker = ['o']\n",
    "    b.point_size = [30]\n",
    "    \n",
    "    for i in range(length):\n",
    "        b.clear()\n",
    "        b.add_states(states[i])\n",
    "        b.add_states(states[:(i+1)],'point')\n",
    "        if save_all:\n",
    "            b.save(dirc='tmp') #saving images to tmp directory\n",
    "            filename=\"tmp/bloch_%01d.png\" % i\n",
    "        else:\n",
    "            filename='temp_file.png'\n",
    "            b.save(filename)\n",
    "        images.append(imageio.imread(filename))\n",
    "    imageio.mimsave('bloch_anim.gif', images, duration=duration)\n"
   ]
  },
  {
   "cell_type": "code",
   "execution_count": null,
   "metadata": {},
   "outputs": [],
   "source": []
  }
 ],
 "metadata": {
  "kernelspec": {
   "display_name": "Python 3",
   "language": "python",
   "name": "python3"
  },
  "language_info": {
   "codemirror_mode": {
    "name": "ipython",
    "version": 3
   },
   "file_extension": ".py",
   "mimetype": "text/x-python",
   "name": "python",
   "nbconvert_exporter": "python",
   "pygments_lexer": "ipython3",
   "version": "3.7.3"
  }
 },
 "nbformat": 4,
 "nbformat_minor": 2
}
