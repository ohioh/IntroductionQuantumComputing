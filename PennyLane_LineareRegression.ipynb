{
 "cells": [
  {
   "cell_type": "code",
   "execution_count": null,
   "id": "d7814742",
   "metadata": {},
   "outputs": [],
   "source": [
    "#####################################################################################\n",
    "#\n",
    "#   Pennylane Linear Regression\n",
    "#   @Text: Tjark Ziehm\n",
    "#   @Creater: Xanadu/Pennylane-Team\n",
    "#   @Dokumentation: \n",
    "#             https://arxiv.org/abs/1402.0660\n",
    "#   @Science: https://iopscience.iop.org/article/10.1088/1742-6596/1738/1/012063/pdf\n",
    "#             https://arxiv.org/pdf/quant-ph/0509168.pdf\n",
    "#             https://arxiv.org/abs/1811.04968\n",
    "#             https://arxiv.org/abs/1804.03159\n",
    "#\n",
    "#####################################################################################"
   ]
  },
  {
   "cell_type": "code",
   "execution_count": 13,
   "id": "e2db8072",
   "metadata": {},
   "outputs": [],
   "source": [
    "import pennylane as qml\n",
    "from pennylane import numpy as np\n",
    "import matplotlib.pyplot as plt"
   ]
  },
  {
   "cell_type": "markdown",
   "id": "bd8b6acf",
   "metadata": {},
   "source": [
    "### Varialben"
   ]
  },
  {
   "cell_type": "code",
   "execution_count": 14,
   "id": "8a38e59c",
   "metadata": {},
   "outputs": [],
   "source": [
    "x = np.linspace(-1,1,10)\n",
    "\n",
    "#\"Random\" Zahlen -Editor\n",
    "np.random.seed(0)\n",
    "\n",
    "\n",
    "steigung,versatz = 0.5, 1.2  #Was wäre besser zu schreiben\n",
    "zufallswert =  np.random.randn(10)\n",
    "streuung = 0.1 * zufallswert\n",
    "\n",
    "optimizationSteps = 20\n",
    "\n",
    "#Linear Regression formula\n",
    "y_data = steigung * x + versatz + streuung \n",
    "\n",
    "#Optimization\n",
    "opt = qml.GradientDescentOptimizer(0.5)\n",
    "\n",
    "#Defining the starting values\n",
    "init_weights = [0.0, 0.0]\n",
    "weights = init_weights"
   ]
  },
  {
   "cell_type": "code",
   "execution_count": 15,
   "id": "62db3eff",
   "metadata": {},
   "outputs": [
    {
     "name": "stdout",
     "output_type": "stream",
     "text": [
      "0.03261643837838472\n",
      "0.01597249410699671\n",
      "0.010127707092627274\n",
      "0.008075216728184785\n",
      "0.007354451936281802\n",
      "0.007101343861210234\n",
      "0.007012460915780452\n",
      "0.006981248249072593\n",
      "0.006970287422354877\n",
      "0.006966438352890225\n",
      "0.006965086690636507\n",
      "0.006964612032835484\n",
      "0.006964445349163245\n",
      "0.006964386815528009\n",
      "0.006964366260506569\n",
      "0.006964359042282306\n",
      "0.00696435650748752\n",
      "0.00696435561735381\n",
      "0.006964355304769129\n",
      "0.00696435519500003\n"
     ]
    }
   ],
   "source": [
    "def y_prediction(weights):\n",
    "    return weights[0] * x + weights[1]\n",
    "\n",
    "def cost(weights):\n",
    "    y_prediction2 = y_prediction(weights)\n",
    "    mse = np.mean((y_data - y_prediction2) ** 2)\n",
    "    return mse\n",
    "\n",
    "for step in range(optimizationSteps):\n",
    "    weights = opt.step(cost, weights)\n",
    "    print(cost(weights))"
   ]
  },
  {
   "cell_type": "code",
   "execution_count": 16,
   "id": "313e5cbd",
   "metadata": {},
   "outputs": [
    {
     "data": {
      "text/plain": [
       "[<matplotlib.lines.Line2D at 0x7f72f00b07c0>]"
      ]
     },
     "execution_count": 16,
     "metadata": {},
     "output_type": "execute_result"
    },
    {
     "data": {
      "image/png": "[encoded data removed]",
      "text/plain": [
       "<Figure size 432x288 with 1 Axes>"
      ]
     },
     "metadata": {},
     "output_type": "display_data"
    }
   ],
   "source": [
    "plt.scatter(x,y_data)\n",
    "plt.plot(x, y_pred(weights),'b')"
   ]
  },
  {
   "cell_type": "code",
   "execution_count": 17,
   "id": "294f168e",
   "metadata": {},
   "outputs": [
    {
     "name": "stdout",
     "output_type": "stream",
     "text": [
      "0.03261643837838472\n",
      "0.01597249410699671\n",
      "0.010127707092627274\n",
      "0.008075216728184785\n",
      "0.007354451936281802\n",
      "0.007101343861210234\n",
      "0.007012460915780452\n",
      "0.006981248249072593\n",
      "0.006970287422354877\n",
      "0.006966438352890225\n",
      "0.006965086690636507\n",
      "0.006964612032835484\n",
      "0.006964445349163245\n",
      "0.006964386815528009\n",
      "0.006964366260506569\n",
      "0.006964359042282306\n",
      "0.00696435650748752\n",
      "0.00696435561735381\n",
      "0.006964355304769129\n",
      "0.00696435519500003\n"
     ]
    },
    {
     "data": {
      "text/plain": [
       "[<matplotlib.lines.Line2D at 0x7f72dde8ceb0>]"
      ]
     },
     "execution_count": 17,
     "metadata": {},
     "output_type": "execute_result"
    },
    {
     "data": {
      "image/png": "[encoded data removed]",
      "text/plain": [
       "<Figure size 432x288 with 1 Axes>"
      ]
     },
     "metadata": {},
     "output_type": "display_data"
    }
   ],
   "source": [
    "x = np.linspace(-1,1,10)\n",
    "np.random.seed(0)\n",
    "steigung, versatz = 0.5, 1.2\n",
    "variable = 0.1\n",
    "\n",
    "y_data = m * x + b + variable * np.random.randn(10)\n",
    "\n",
    "def y_pred(weights):\n",
    "    return weights[0] * x + weights[1]\n",
    "\n",
    "def cost(weights):\n",
    "    y_pred_ = y_pred(weights)\n",
    "    mse = np.mean((y_data - y_pred_) ** 2)\n",
    "    return mse\n",
    "\n",
    "\n",
    "'''\n",
    "\n",
    "'''\n",
    "opt = qml.GradientDescentOptimizer(0.5)\n",
    "\n",
    "init_weights = [0.0, 0.0]\n",
    "\n",
    "weights = init_weights\n",
    "\n",
    "for step in range(20):\n",
    "    weights = opt.step(cost, weights)\n",
    "    print(cost(weights))\n",
    "\n",
    "\n",
    "plt.scatter(x,y_data)\n",
    "plt.plot(x, y_pred(weights),'r')\n"
   ]
  }
 ],
 "metadata": {
  "kernelspec": {
   "display_name": "Python 3 (Spyder)",
   "language": "python3",
   "name": "python3"
  },
  "language_info": {
   "codemirror_mode": {
    "name": "ipython",
    "version": 3
   },
   "file_extension": ".py",
   "mimetype": "text/x-python",
   "name": "python",
   "nbconvert_exporter": "python",
   "pygments_lexer": "ipython3",
   "version": "3.8.12"
  }
 },
 "nbformat": 4,
 "nbformat_minor": 5
}
