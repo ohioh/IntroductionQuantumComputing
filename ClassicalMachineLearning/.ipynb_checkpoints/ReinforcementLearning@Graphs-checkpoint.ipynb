{
 "cells": [
  {
   "cell_type": "code",
   "execution_count": null,
   "id": "ea4a7da9",
   "metadata": {},
   "outputs": [],
   "source": [
    "#########################################################################################################################################################\n",
    "#\n",
    "# *  Reinforcement Learning at Graphs\n",
    "# *  \n",
    "# *  @file ReinforcementLearning with Graphs\n",
    "# *  @author Tjark Ziehm\n",
    "# *  @version 0.1 \n",
    "# *  http://proceedings.mlr.press/v89/madjiheurem19a/madjiheurem19a.pdf\n",
    "# *  file:///home/tjarkziehm/Downloads/ZR_08_26.pdf\n",
    "# *  https://studyflix.de/informatik/bellman-ford-algorithmus-1294\n",
    "# * \n",
    "#########################################################################################################################################################"
   ]
  }
 ],
 "metadata": {
  "kernelspec": {
   "display_name": "Python 3 (ipykernel)",
   "language": "python",
   "name": "python3"
  },
  "language_info": {
   "codemirror_mode": {
    "name": "ipython",
    "version": 3
   },
   "file_extension": ".py",
   "mimetype": "text/x-python",
   "name": "python",
   "nbconvert_exporter": "python",
   "pygments_lexer": "ipython3",
   "version": "3.9.7"
  }
 },
 "nbformat": 4,
 "nbformat_minor": 5
}
