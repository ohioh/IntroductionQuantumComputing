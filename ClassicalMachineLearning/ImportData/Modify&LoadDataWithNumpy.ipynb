{
 "cells": [
  {
   "cell_type": "code",
   "execution_count": null,
   "id": "828e1890",
   "metadata": {},
   "outputs": [],
   "source": [
    "##########################################################################################################################\n",
    "#* \n",
    "#*   Import Data with Pandas\n",
    "#*   @author Tjark Ziehm\n",
    "#*   @version 0.01 25.11.2021\n",
    "#*\n",
    "#*   @version numpy 1.21.1\n",
    "#*   Why use NumPy?\n",
    "#*\n",
    "#*  NumPy arrays are faster and more compact than Python lists. An array consumes less memory and is convenient to use.\n",
    "#*  NumPy uses much less memory to store data and it provides a mechanism of specifying the data types.\n",
    "#*  This allows the code to be optimized even further.\n",
    "#*\n",
    "#*  Glimpse: Numpy is an awesome builder for arrays\n",
    "#*  @doc https://numpy.org/doc/stable/index.html\n",
    "#*  we call array data ( pandas is dataframe )\n",
    "#*\n",
    "#*  Themes:\n",
    "#*\n",
    "#*\n",
    "#*  Modify array the z and x dimension:\n",
    "#*    stack\n",
    "#*    splitt \n",
    "#*  Basic array operations\n",
    "#*  More useful array operations\n",
    "#*  transpose\n",
    "#*  reverse\n",
    "#*  formula\n",
    "#*  Save & Load Arrays\n",
    "##########################################################################################################################"
   ]
  },
  {
   "cell_type": "code",
   "execution_count": 1,
   "id": "1d889d60",
   "metadata": {},
   "outputs": [],
   "source": [
    "import numpy as np\n"
   ]
  },
  {
   "cell_type": "code",
   "execution_count": 3,
   "id": "16968683",
   "metadata": {},
   "outputs": [],
   "source": [
    "givenData = [ 1,3,5 ]  #The way how an array ( or list ) is represented in python [array] ( not numpy/pandas yet)"
   ]
  },
  {
   "cell_type": "code",
   "execution_count": 15,
   "id": "9c0fcff6",
   "metadata": {},
   "outputs": [
    {
     "name": "stdout",
     "output_type": "stream",
     "text": [
      "[1, 3, 5]\n"
     ]
    },
    {
     "data": {
      "text/plain": [
       "list"
      ]
     },
     "execution_count": 15,
     "metadata": {},
     "output_type": "execute_result"
    }
   ],
   "source": [
    "print(givenData)\n",
    "type(givenData)"
   ]
  },
  {
   "cell_type": "markdown",
   "id": "10b099a3",
   "metadata": {},
   "source": [
    "#### Lets convert this python array to a numpy array now"
   ]
  },
  {
   "cell_type": "code",
   "execution_count": 9,
   "id": "d00e8370",
   "metadata": {},
   "outputs": [],
   "source": [
    "numpyArray = np.array(givenData)"
   ]
  },
  {
   "cell_type": "code",
   "execution_count": 43,
   "id": "1b22c7ec",
   "metadata": {},
   "outputs": [
    {
     "name": "stdout",
     "output_type": "stream",
     "text": [
      "[1 3 5]\n"
     ]
    },
    {
     "data": {
      "text/plain": [
       "numpy.ndarray"
      ]
     },
     "execution_count": 43,
     "metadata": {},
     "output_type": "execute_result"
    }
   ],
   "source": [
    "# The print result will look different now\n",
    "print(numpyArray) \n",
    "\n",
    "type(numpyArray)"
   ]
  },
  {
   "attachments": {
    "image.png": {
     "image/png": "[encoded data removed]"
    }
   },
   "cell_type": "markdown",
   "id": "0f4140b3",
   "metadata": {},
   "source": [
    "### This an a column vector/ list / array\n",
    "![image.png](attachment:image.png)"
   ]
  },
  {
   "cell_type": "markdown",
   "id": "32b8dac4",
   "metadata": {},
   "source": [
    "#### Now lets make the array more powerfull with new dimension"
   ]
  },
  {
   "cell_type": "code",
   "execution_count": 27,
   "id": "434a8192",
   "metadata": {},
   "outputs": [],
   "source": [
    "dim2Array = np.array([[2,3,4],[5,6,7],[8,9,10]])"
   ]
  },
  {
   "cell_type": "code",
   "execution_count": 29,
   "id": "e2b2bc90",
   "metadata": {},
   "outputs": [
    {
     "data": {
      "text/plain": [
       "array([[ 2,  3,  4],\n",
       "       [ 5,  6,  7],\n",
       "       [ 8,  9, 10]])"
      ]
     },
     "execution_count": 29,
     "metadata": {},
     "output_type": "execute_result"
    }
   ],
   "source": [
    "dim2Array"
   ]
  },
  {
   "cell_type": "code",
   "execution_count": 31,
   "id": "bcf2b77e",
   "metadata": {},
   "outputs": [],
   "source": [
    "pythonArray = [[ 2,  3,  4],\n",
    "       [ 5,  6,  7],\n",
    "       [ 8,  9, 10]]"
   ]
  },
  {
   "cell_type": "code",
   "execution_count": 34,
   "id": "31477698",
   "metadata": {},
   "outputs": [
    {
     "data": {
      "text/plain": [
       "[[2, 3, 4], [5, 6, 7], [8, 9, 10]]"
      ]
     },
     "execution_count": 34,
     "metadata": {},
     "output_type": "execute_result"
    }
   ],
   "source": [
    "#the normal Python array looks much like a list and can be confusing\n",
    "pythonArray"
   ]
  },
  {
   "cell_type": "markdown",
   "id": "1e7c3726",
   "metadata": {},
   "source": [
    "#### Not very challenging yet"
   ]
  },
  {
   "cell_type": "code",
   "execution_count": 37,
   "id": "fe751daf",
   "metadata": {},
   "outputs": [],
   "source": [
    "column1 =  np.linspace(1,10,1)"
   ]
  },
  {
   "cell_type": "code",
   "execution_count": 38,
   "id": "e60a9327",
   "metadata": {},
   "outputs": [],
   "source": [
    "column2 = column1 * column1"
   ]
  },
  {
   "cell_type": "code",
   "execution_count": 40,
   "id": "b879be86",
   "metadata": {},
   "outputs": [],
   "source": [
    "column3 =  np.sqrt(column1)"
   ]
  },
  {
   "cell_type": "markdown",
   "id": "35824f09",
   "metadata": {},
   "source": [
    "#### all are numpy arrays now"
   ]
  },
  {
   "cell_type": "code",
   "execution_count": 41,
   "id": "a5fc4bf1",
   "metadata": {},
   "outputs": [
    {
     "data": {
      "text/plain": [
       "numpy.ndarray"
      ]
     },
     "execution_count": 41,
     "metadata": {},
     "output_type": "execute_result"
    }
   ],
   "source": [
    "type(column3)"
   ]
  },
  {
   "cell_type": "code",
   "execution_count": 64,
   "id": "8bdc7739",
   "metadata": {},
   "outputs": [
    {
     "data": {
      "text/plain": [
       "array([[[1, 2, 1, 9],\n",
       "        [4, 9, 3, 6],\n",
       "        [7, 7, 0, 9]],\n",
       "\n",
       "       [[2, 1, 2, 3],\n",
       "        [3, 5, 6, 7],\n",
       "        [4, 5, 2, 8]]])"
      ]
     },
     "execution_count": 64,
     "metadata": {},
     "output_type": "execute_result"
    }
   ],
   "source": [
    "array_example = np.array([\n",
    "                            [\n",
    "                                [1, 2, 1, 9],\n",
    "                                [4, 9, 3, 6],\n",
    "                                [7, 7, 0, 9]\n",
    "                            ],\n",
    "\n",
    "                            [\n",
    "                                [2, 1, 2, 3],\n",
    "                                [3, 5, 6, 7],\n",
    "                                [4, 5, 2, 8]\n",
    "                            ]                         \n",
    "                         ])\n",
    "array_example"
   ]
  },
  {
   "cell_type": "code",
   "execution_count": 104,
   "id": "b0adfa30",
   "metadata": {},
   "outputs": [
    {
     "data": {
      "text/plain": [
       "(2, 3, 4)"
      ]
     },
     "execution_count": 104,
     "metadata": {},
     "output_type": "execute_result"
    }
   ],
   "source": [
    "array_example.shape #-x(2)deep, y(1)wide, z(0)high ( elements )"
   ]
  },
  {
   "cell_type": "code",
   "execution_count": 65,
   "id": "cf9477a1",
   "metadata": {},
   "outputs": [
    {
     "data": {
      "text/plain": [
       "3"
      ]
     },
     "execution_count": 65,
     "metadata": {},
     "output_type": "execute_result"
    }
   ],
   "source": [
    "array_example.ndim"
   ]
  },
  {
   "cell_type": "code",
   "execution_count": 66,
   "id": "0189816b",
   "metadata": {},
   "outputs": [
    {
     "data": {
      "text/plain": [
       "numpy.ndarray"
      ]
     },
     "execution_count": 66,
     "metadata": {},
     "output_type": "execute_result"
    }
   ],
   "source": [
    "type(array_example)"
   ]
  },
  {
   "cell_type": "markdown",
   "id": "b2c5e3ba",
   "metadata": {},
   "source": [
    "#### Lets get the sum of all elements in the array"
   ]
  },
  {
   "cell_type": "code",
   "execution_count": 67,
   "id": "ff1c6f3d",
   "metadata": {},
   "outputs": [
    {
     "data": {
      "text/plain": [
       "24"
      ]
     },
     "execution_count": 67,
     "metadata": {},
     "output_type": "execute_result"
    }
   ],
   "source": [
    "array_example.size"
   ]
  },
  {
   "cell_type": "markdown",
   "id": "17c5259e",
   "metadata": {},
   "source": [
    "#### But what is the shape of the array ?"
   ]
  },
  {
   "cell_type": "code",
   "execution_count": 103,
   "id": "ab38b588",
   "metadata": {},
   "outputs": [
    {
     "data": {
      "text/plain": [
       "(2, 3, 4)"
      ]
     },
     "execution_count": 103,
     "metadata": {},
     "output_type": "execute_result"
    }
   ],
   "source": [
    "\n"
   ]
  },
  {
   "cell_type": "markdown",
   "id": "e96e849f",
   "metadata": {},
   "source": [
    "#### Do you see the output logic ? 3 elements, and 2 elements and 4 elements in the list"
   ]
  },
  {
   "attachments": {
    "image-2.png": {
     "image/png": "[encoded data removed]"
    }
   },
   "cell_type": "markdown",
   "id": "b7b9e85e",
   "metadata": {},
   "source": [
    "\n",
    "![image-2.png](attachment:image-2.png)"
   ]
  },
  {
   "cell_type": "code",
   "execution_count": 100,
   "id": "029cb5d9",
   "metadata": {},
   "outputs": [
    {
     "data": {
      "text/plain": [
       "array([[[1, 2, 1, 9],\n",
       "        [4, 9, 3, 6]],\n",
       "\n",
       "       [[7, 7, 0, 9],\n",
       "        [2, 1, 2, 3]],\n",
       "\n",
       "       [[3, 5, 6, 7],\n",
       "        [4, 5, 2, 8]]])"
      ]
     },
     "execution_count": 100,
     "metadata": {},
     "output_type": "execute_result"
    }
   ],
   "source": [
    "b = array_example.reshape(3, 2, 4)  #-x(2), y(1), z(0)\n",
    "\n",
    "b"
   ]
  },
  {
   "cell_type": "markdown",
   "id": "a7706e36",
   "metadata": {},
   "source": [
    "#### Look carefully to ([[[ ... : ([<-axis x [<- axis y [<- axis z   "
   ]
  },
  {
   "cell_type": "code",
   "execution_count": 113,
   "id": "0607d23f",
   "metadata": {},
   "outputs": [],
   "source": [
    "elements = np.array([2,3,4,5])\n",
    "elements.reshape(4,1) #z,x\n",
    "elements\n",
    "elementsOnes = np.ones(4)"
   ]
  },
  {
   "cell_type": "code",
   "execution_count": 114,
   "id": "991ef2a9",
   "metadata": {},
   "outputs": [
    {
     "data": {
      "text/plain": [
       "array([1., 1., 1., 1.])"
      ]
     },
     "execution_count": 114,
     "metadata": {},
     "output_type": "execute_result"
    }
   ],
   "source": [
    "elementsOnes"
   ]
  },
  {
   "cell_type": "code",
   "execution_count": 110,
   "id": "8040712c",
   "metadata": {},
   "outputs": [
    {
     "data": {
      "text/plain": [
       "(2, 4)"
      ]
     },
     "execution_count": 110,
     "metadata": {},
     "output_type": "execute_result"
    }
   ],
   "source": [
    "elementsX = np.array([x,[6,7,8,9]])\n",
    "elementsX.shape"
   ]
  },
  {
   "cell_type": "code",
   "execution_count": 124,
   "id": "e0b7b11e",
   "metadata": {},
   "outputs": [
    {
     "data": {
      "text/plain": [
       "array([[[ 2.,  3.,  4.,  5.],\n",
       "        [ 1.,  1.,  1.,  1.],\n",
       "        [ 1.,  1.,  1.,  1.],\n",
       "        [ 1.,  1.,  1.,  1.]],\n",
       "\n",
       "       [[10., 11., 12., 13.],\n",
       "        [ 1.,  1.,  1.,  1.],\n",
       "        [ 1.,  1.,  1.,  1.],\n",
       "        [ 1.,  1.,  1.,  1.]]])"
      ]
     },
     "execution_count": 124,
     "metadata": {},
     "output_type": "execute_result"
    }
   ],
   "source": [
    "elementsYX = np.array([\n",
    "    [\n",
    "        elements,\n",
    "        elementsOnes,\n",
    "        elementsOnes,\n",
    "        elementsOnes\n",
    "    ],\n",
    "    \n",
    "    [\n",
    "        [10,11,12,13],\n",
    "        elementsOnes,\n",
    "        elementsOnes,\n",
    "        elementsOnes\n",
    "    ]\n",
    "    \n",
    "])\n",
    "elementsYX"
   ]
  },
  {
   "cell_type": "code",
   "execution_count": 130,
   "id": "db83cde3",
   "metadata": {},
   "outputs": [
    {
     "data": {
      "text/plain": [
       "(2, 4, 4)"
      ]
     },
     "execution_count": 130,
     "metadata": {},
     "output_type": "execute_result"
    }
   ],
   "source": [
    "elementsYX.shape #z,y,x"
   ]
  },
  {
   "cell_type": "code",
   "execution_count": 125,
   "id": "547f85f8",
   "metadata": {},
   "outputs": [],
   "source": [
    "#### Reshaping is building the element array together in new form "
   ]
  },
  {
   "cell_type": "code",
   "execution_count": 133,
   "id": "e60d4ad6",
   "metadata": {},
   "outputs": [],
   "source": [
    "elementsYXReshaped = np.reshape(elementsYX, newshape=(4,2,4), order='C')"
   ]
  },
  {
   "cell_type": "code",
   "execution_count": 135,
   "id": "37cc4aad",
   "metadata": {},
   "outputs": [
    {
     "data": {
      "text/plain": [
       "array([[[ 2.,  3.,  4.,  5.],\n",
       "        [ 1.,  1.,  1.,  1.]],\n",
       "\n",
       "       [[ 1.,  1.,  1.,  1.],\n",
       "        [ 1.,  1.,  1.,  1.]],\n",
       "\n",
       "       [[10., 11., 12., 13.],\n",
       "        [ 1.,  1.,  1.,  1.]],\n",
       "\n",
       "       [[ 1.,  1.,  1.,  1.],\n",
       "        [ 1.,  1.,  1.,  1.]]])"
      ]
     },
     "execution_count": 135,
     "metadata": {},
     "output_type": "execute_result"
    }
   ],
   "source": [
    "elementsYXReshaped"
   ]
  },
  {
   "cell_type": "code",
   "execution_count": 137,
   "id": "daefa827",
   "metadata": {},
   "outputs": [
    {
     "data": {
      "text/plain": [
       "(4, 2, 4)"
      ]
     },
     "execution_count": 137,
     "metadata": {},
     "output_type": "execute_result"
    }
   ],
   "source": [
    "elementsYXReshaped.shape"
   ]
  },
  {
   "cell_type": "code",
   "execution_count": 156,
   "id": "31b518fb",
   "metadata": {},
   "outputs": [
    {
     "data": {
      "text/plain": [
       "array([[[ 2.,  3.],\n",
       "        [ 4.,  5.],\n",
       "        [ 1.,  1.],\n",
       "        [ 1.,  1.],\n",
       "        [ 1.,  1.],\n",
       "        [ 1.,  1.],\n",
       "        [ 1.,  1.],\n",
       "        [ 1.,  1.]],\n",
       "\n",
       "       [[10., 11.],\n",
       "        [12., 13.],\n",
       "        [ 1.,  1.],\n",
       "        [ 1.,  1.],\n",
       "        [ 1.,  1.],\n",
       "        [ 1.,  1.],\n",
       "        [ 1.,  1.],\n",
       "        [ 1.,  1.]]])"
      ]
     },
     "execution_count": 156,
     "metadata": {},
     "output_type": "execute_result"
    }
   ],
   "source": [
    "elementsYXReshaped2 = np.reshape(elementsYXReshaped, newshape=(2,8,2), order='C') # ReshapeProdukt has to be the same here 32\n",
    "elementsYXReshaped2"
   ]
  },
  {
   "cell_type": "code",
   "execution_count": 157,
   "id": "6c78032a",
   "metadata": {},
   "outputs": [
    {
     "data": {
      "text/plain": [
       "32"
      ]
     },
     "execution_count": 157,
     "metadata": {},
     "output_type": "execute_result"
    }
   ],
   "source": [
    "elementsYXReshaped2.size"
   ]
  },
  {
   "cell_type": "code",
   "execution_count": 159,
   "id": "20d16fd1",
   "metadata": {},
   "outputs": [],
   "source": [
    "elementsYXReshaped3 = np.reshape(elementsYXReshaped, newshape=(4,4,2), order='C')\n"
   ]
  },
  {
   "cell_type": "code",
   "execution_count": 160,
   "id": "aebcb654",
   "metadata": {},
   "outputs": [
    {
     "data": {
      "text/plain": [
       "32"
      ]
     },
     "execution_count": 160,
     "metadata": {},
     "output_type": "execute_result"
    }
   ],
   "source": [
    "elementsYXReshaped3.size"
   ]
  },
  {
   "cell_type": "code",
   "execution_count": 162,
   "id": "9a4ee65d",
   "metadata": {},
   "outputs": [
    {
     "data": {
      "text/plain": [
       "array([[[ 2.,  3.],\n",
       "        [ 4.,  5.],\n",
       "        [ 1.,  1.],\n",
       "        [ 1.,  1.]],\n",
       "\n",
       "       [[ 1.,  1.],\n",
       "        [ 1.,  1.],\n",
       "        [ 1.,  1.],\n",
       "        [ 1.,  1.]],\n",
       "\n",
       "       [[10., 11.],\n",
       "        [12., 13.],\n",
       "        [ 1.,  1.],\n",
       "        [ 1.,  1.]],\n",
       "\n",
       "       [[ 1.,  1.],\n",
       "        [ 1.,  1.],\n",
       "        [ 1.,  1.],\n",
       "        [ 1.,  1.]]])"
      ]
     },
     "execution_count": 162,
     "metadata": {},
     "output_type": "execute_result"
    }
   ],
   "source": [
    "elementsYXReshaped3"
   ]
  },
  {
   "cell_type": "code",
   "execution_count": 163,
   "id": "3fe71bdc",
   "metadata": {},
   "outputs": [],
   "source": [
    "#### Adding new axis to a new arrary"
   ]
  },
  {
   "cell_type": "code",
   "execution_count": 166,
   "id": "000f967d",
   "metadata": {},
   "outputs": [
    {
     "data": {
      "text/plain": [
       "(6,)"
      ]
     },
     "execution_count": 166,
     "metadata": {},
     "output_type": "execute_result"
    }
   ],
   "source": [
    "a = np.array([1, 2, 3, 4, 5, 6])\n",
    "a.shape"
   ]
  },
  {
   "cell_type": "code",
   "execution_count": 168,
   "id": "b10ec0a9",
   "metadata": {},
   "outputs": [
    {
     "data": {
      "text/plain": [
       "(1, 6)"
      ]
     },
     "execution_count": 168,
     "metadata": {},
     "output_type": "execute_result"
    }
   ],
   "source": [
    "a2 = a[np.newaxis, :]\n",
    "a2.shape\n"
   ]
  },
  {
   "cell_type": "code",
   "execution_count": 178,
   "id": "59d798ab",
   "metadata": {},
   "outputs": [
    {
     "data": {
      "text/plain": [
       "array([[1, 2, 3, 4, 5, 6]])"
      ]
     },
     "execution_count": 178,
     "metadata": {},
     "output_type": "execute_result"
    }
   ],
   "source": [
    "row_vector = a[np.newaxis, :]\n",
    "row_vector"
   ]
  },
  {
   "cell_type": "code",
   "execution_count": 175,
   "id": "c9149820",
   "metadata": {},
   "outputs": [
    {
     "data": {
      "text/plain": [
       "(1, 6)"
      ]
     },
     "execution_count": 175,
     "metadata": {},
     "output_type": "execute_result"
    }
   ],
   "source": [
    "row_vector.shape"
   ]
  },
  {
   "cell_type": "code",
   "execution_count": 179,
   "id": "47d2cba2",
   "metadata": {},
   "outputs": [
    {
     "data": {
      "text/plain": [
       "array([[1],\n",
       "       [2],\n",
       "       [3],\n",
       "       [4],\n",
       "       [5],\n",
       "       [6]])"
      ]
     },
     "execution_count": 179,
     "metadata": {},
     "output_type": "execute_result"
    }
   ],
   "source": [
    "col_vector = a[:, np.newaxis]\n",
    "col_vector"
   ]
  },
  {
   "cell_type": "code",
   "execution_count": 180,
   "id": "d79465cb",
   "metadata": {},
   "outputs": [
    {
     "data": {
      "text/plain": [
       "(6, 1)"
      ]
     },
     "execution_count": 180,
     "metadata": {},
     "output_type": "execute_result"
    }
   ],
   "source": [
    "col_vector.shape"
   ]
  },
  {
   "cell_type": "code",
   "execution_count": 182,
   "id": "9f762da9",
   "metadata": {},
   "outputs": [],
   "source": [
    "#### Or on a different way"
   ]
  },
  {
   "cell_type": "code",
   "execution_count": 187,
   "id": "b1a85706",
   "metadata": {},
   "outputs": [
    {
     "data": {
      "text/plain": [
       "array([1, 2, 3, 4, 5, 6])"
      ]
     },
     "execution_count": 187,
     "metadata": {},
     "output_type": "execute_result"
    }
   ],
   "source": [
    "a = np.array([1, 2, 3, 4, 5, 6])\n",
    "a"
   ]
  },
  {
   "cell_type": "code",
   "execution_count": 188,
   "id": "c50e06e9",
   "metadata": {},
   "outputs": [
    {
     "data": {
      "text/plain": [
       "array([[1],\n",
       "       [2],\n",
       "       [3],\n",
       "       [4],\n",
       "       [5],\n",
       "       [6]])"
      ]
     },
     "execution_count": 188,
     "metadata": {},
     "output_type": "execute_result"
    }
   ],
   "source": [
    "b = np.expand_dims(a, axis=1)\n",
    "b"
   ]
  },
  {
   "cell_type": "code",
   "execution_count": 192,
   "id": "3d63fa85",
   "metadata": {},
   "outputs": [
    {
     "data": {
      "text/plain": [
       "array([[1, 2, 3, 4, 5, 6]])"
      ]
     },
     "execution_count": 192,
     "metadata": {},
     "output_type": "execute_result"
    }
   ],
   "source": [
    "c = np.expand_dims(a, axis=0)\n",
    "c"
   ]
  },
  {
   "cell_type": "code",
   "execution_count": 194,
   "id": "7cca8057",
   "metadata": {},
   "outputs": [],
   "source": [
    "#### INdexing and Slicing as the tools to handle and convert data"
   ]
  },
  {
   "cell_type": "code",
   "execution_count": 196,
   "id": "0de69500",
   "metadata": {},
   "outputs": [],
   "source": [
    "data = np.array([1, 2, 3])"
   ]
  },
  {
   "cell_type": "code",
   "execution_count": 198,
   "id": "26592346",
   "metadata": {},
   "outputs": [
    {
     "data": {
      "text/plain": [
       "1"
      ]
     },
     "execution_count": 198,
     "metadata": {},
     "output_type": "execute_result"
    }
   ],
   "source": [
    "data[0]"
   ]
  },
  {
   "cell_type": "code",
   "execution_count": 203,
   "id": "e168ed05",
   "metadata": {},
   "outputs": [
    {
     "data": {
      "text/plain": [
       "array([2, 3])"
      ]
     },
     "execution_count": 203,
     "metadata": {},
     "output_type": "execute_result"
    }
   ],
   "source": [
    "data[1:] # from0 : till the end"
   ]
  },
  {
   "cell_type": "code",
   "execution_count": 204,
   "id": "629e4cc1",
   "metadata": {},
   "outputs": [
    {
     "data": {
      "text/plain": [
       "array([2, 3])"
      ]
     },
     "execution_count": 204,
     "metadata": {},
     "output_type": "execute_result"
    }
   ],
   "source": [
    "data[-2:]"
   ]
  },
  {
   "cell_type": "code",
   "execution_count": 212,
   "id": "bf5d94e4",
   "metadata": {},
   "outputs": [],
   "source": [
    "#### Filter the array with logic by boolian logic"
   ]
  },
  {
   "cell_type": "code",
   "execution_count": 210,
   "id": "dd7ad9e4",
   "metadata": {},
   "outputs": [
    {
     "data": {
      "text/plain": [
       "array([[False, False, False, False],\n",
       "       [ True,  True,  True,  True],\n",
       "       [ True,  True,  True,  True]])"
      ]
     },
     "execution_count": 210,
     "metadata": {},
     "output_type": "execute_result"
    }
   ],
   "source": [
    "a = np.array([[1 , 2, 3, 4], [5, 6, 7, 8], [9, 10, 11, 12]])\n",
    "five_up = (a >= 5)\n",
    "five_up"
   ]
  },
  {
   "cell_type": "code",
   "execution_count": 213,
   "id": "6f0b0b63",
   "metadata": {},
   "outputs": [
    {
     "name": "stdout",
     "output_type": "stream",
     "text": [
      "[ 5  6  7  8  9 10 11 12]\n"
     ]
    }
   ],
   "source": [
    "print(a[five_up])"
   ]
  },
  {
   "cell_type": "code",
   "execution_count": 216,
   "id": "661e9e3c",
   "metadata": {},
   "outputs": [
    {
     "name": "stdout",
     "output_type": "stream",
     "text": [
      "[ 2  4  6  8 10 12]\n"
     ]
    }
   ],
   "source": [
    "divisible_by_2 = a[a%2==0]\n",
    "print(divisible_by_2)"
   ]
  },
  {
   "cell_type": "markdown",
   "id": "8bc3d092",
   "metadata": {},
   "source": [
    "#### Modify array the z and x dimension"
   ]
  },
  {
   "cell_type": "code",
   "execution_count": 219,
   "id": "f2294aa2",
   "metadata": {},
   "outputs": [],
   "source": [
    "a = np.array([[1, 2, 3, 4], [5, 6, 7, 8], [9, 10, 11, 12]])"
   ]
  },
  {
   "cell_type": "code",
   "execution_count": 236,
   "id": "2fc338c1",
   "metadata": {},
   "outputs": [],
   "source": [
    "b = np.nonzero(a >= 5) "
   ]
  },
  {
   "cell_type": "code",
   "execution_count": 237,
   "id": "04dab53f",
   "metadata": {},
   "outputs": [
    {
     "name": "stdout",
     "output_type": "stream",
     "text": [
      "(array([1, 1, 1, 1, 2, 2, 2, 2], dtype=int64), array([0, 1, 2, 3, 0, 1, 2, 3], dtype=int64))\n"
     ]
    }
   ],
   "source": [
    "print(b)"
   ]
  },
  {
   "cell_type": "code",
   "execution_count": 241,
   "id": "9595011f",
   "metadata": {},
   "outputs": [
    {
     "data": {
      "text/plain": [
       "(array([0, 0, 0, 0], dtype=int64), array([0, 1, 2, 3], dtype=int64))"
      ]
     },
     "execution_count": 241,
     "metadata": {},
     "output_type": "execute_result"
    }
   ],
   "source": [
    "c = np.nonzero(a < 5) \n",
    "c"
   ]
  },
  {
   "cell_type": "code",
   "execution_count": 244,
   "id": "c4602a6c",
   "metadata": {},
   "outputs": [
    {
     "name": "stdout",
     "output_type": "stream",
     "text": [
      "(1, 0)\n",
      "(1, 1)\n",
      "(1, 2)\n",
      "(1, 3)\n",
      "(2, 0)\n",
      "(2, 1)\n",
      "(2, 2)\n",
      "(2, 3)\n"
     ]
    }
   ],
   "source": [
    "list_of_coordinates= list(zip(b[0], b[1]))\n",
    "for coord in list_of_coordinates:\n",
    "    print(coord)"
   ]
  },
  {
   "cell_type": "code",
   "execution_count": null,
   "id": "abd099cd",
   "metadata": {},
   "outputs": [],
   "source": []
  },
  {
   "cell_type": "code",
   "execution_count": 250,
   "id": "9ede1d76",
   "metadata": {},
   "outputs": [
    {
     "data": {
      "text/plain": [
       "array([[1, 1],\n",
       "       [2, 2]])"
      ]
     },
     "execution_count": 250,
     "metadata": {},
     "output_type": "execute_result"
    }
   ],
   "source": [
    "a1 = np.array([[1, 1],\n",
    "           [2, 2]])\n",
    "\n",
    "a2 = np.array([[3, 3],\n",
    "               [4, 4]])\n",
    "\n",
    "a1"
   ]
  },
  {
   "cell_type": "code",
   "execution_count": 252,
   "id": "673dd1cb",
   "metadata": {},
   "outputs": [
    {
     "data": {
      "text/plain": [
       "array([[3, 3],\n",
       "       [4, 4]])"
      ]
     },
     "execution_count": 252,
     "metadata": {},
     "output_type": "execute_result"
    }
   ],
   "source": [
    "a2"
   ]
  },
  {
   "cell_type": "markdown",
   "id": "1f362cf4",
   "metadata": {},
   "source": [
    "#### vertical splitt "
   ]
  },
  {
   "cell_type": "code",
   "execution_count": 267,
   "id": "990eb35c",
   "metadata": {},
   "outputs": [
    {
     "data": {
      "text/plain": [
       "array([[1, 1],\n",
       "       [2, 2],\n",
       "       [3, 3],\n",
       "       [4, 4]])"
      ]
     },
     "execution_count": 267,
     "metadata": {},
     "output_type": "execute_result"
    }
   ],
   "source": [
    "a3 = np.vstack((a1,a2)) #vertical stack\n",
    "a3"
   ]
  },
  {
   "cell_type": "markdown",
   "id": "5220a3cb",
   "metadata": {},
   "source": [
    "#### Horizontal stack"
   ]
  },
  {
   "cell_type": "code",
   "execution_count": 269,
   "id": "c87ce0b5",
   "metadata": {},
   "outputs": [
    {
     "data": {
      "text/plain": [
       "array([[1, 1, 3, 3],\n",
       "       [2, 2, 4, 4]])"
      ]
     },
     "execution_count": 269,
     "metadata": {},
     "output_type": "execute_result"
    }
   ],
   "source": [
    "a4 = np.hstack((a1, a2)) #horizontal stack\n",
    "a4"
   ]
  },
  {
   "cell_type": "markdown",
   "id": "4777dab9",
   "metadata": {},
   "source": [
    "#### Horizontal splitt "
   ]
  },
  {
   "cell_type": "code",
   "execution_count": 271,
   "id": "2f56a571",
   "metadata": {},
   "outputs": [],
   "source": [
    "x = np.arange(1, 25).reshape(2, 12)"
   ]
  },
  {
   "cell_type": "code",
   "execution_count": 274,
   "id": "8ba75d7f",
   "metadata": {},
   "outputs": [
    {
     "data": {
      "text/plain": [
       "[array([[ 1,  2,  3,  4],\n",
       "        [13, 14, 15, 16]]),\n",
       " array([[ 5,  6,  7,  8],\n",
       "        [17, 18, 19, 20]]),\n",
       " array([[ 9, 10, 11, 12],\n",
       "        [21, 22, 23, 24]])]"
      ]
     },
     "execution_count": 274,
     "metadata": {},
     "output_type": "execute_result"
    }
   ],
   "source": [
    "np.hsplit(x, 3)"
   ]
  },
  {
   "cell_type": "markdown",
   "id": "5ab29834",
   "metadata": {},
   "source": [
    "#### Basic array operations"
   ]
  },
  {
   "cell_type": "code",
   "execution_count": 276,
   "id": "77dff541",
   "metadata": {},
   "outputs": [],
   "source": [
    "data = np.array([1,2])"
   ]
  },
  {
   "cell_type": "code",
   "execution_count": 278,
   "id": "0bdaf9e1",
   "metadata": {},
   "outputs": [],
   "source": [
    "ones = np.ones(2, dtype=int)"
   ]
  },
  {
   "cell_type": "code",
   "execution_count": 286,
   "id": "c0b24ca2",
   "metadata": {},
   "outputs": [
    {
     "data": {
      "text/plain": [
       "array([2, 3])"
      ]
     },
     "execution_count": 286,
     "metadata": {},
     "output_type": "execute_result"
    }
   ],
   "source": [
    "data + ones"
   ]
  },
  {
   "cell_type": "code",
   "execution_count": 287,
   "id": "13b2c204",
   "metadata": {},
   "outputs": [
    {
     "data": {
      "text/plain": [
       "array([0, 1])"
      ]
     },
     "execution_count": 287,
     "metadata": {},
     "output_type": "execute_result"
    }
   ],
   "source": [
    "data - ones"
   ]
  },
  {
   "cell_type": "code",
   "execution_count": 290,
   "id": "169a7a37",
   "metadata": {},
   "outputs": [
    {
     "data": {
      "text/plain": [
       "array([1, 2])"
      ]
     },
     "execution_count": 290,
     "metadata": {},
     "output_type": "execute_result"
    }
   ],
   "source": [
    "data * ones\n"
   ]
  },
  {
   "cell_type": "code",
   "execution_count": 292,
   "id": "5e031fe2",
   "metadata": {},
   "outputs": [
    {
     "data": {
      "text/plain": [
       "array([0, 0], dtype=int32)"
      ]
     },
     "execution_count": 292,
     "metadata": {},
     "output_type": "execute_result"
    }
   ],
   "source": [
    "data % ones  # this is module"
   ]
  },
  {
   "cell_type": "code",
   "execution_count": 294,
   "id": "cf4f0a6f",
   "metadata": {},
   "outputs": [
    {
     "data": {
      "text/plain": [
       "array([1., 2.])"
      ]
     },
     "execution_count": 294,
     "metadata": {},
     "output_type": "execute_result"
    }
   ],
   "source": [
    "data / ones # this is division"
   ]
  },
  {
   "cell_type": "code",
   "execution_count": 296,
   "id": "cd4974f1",
   "metadata": {},
   "outputs": [
    {
     "data": {
      "text/plain": [
       "3"
      ]
     },
     "execution_count": 296,
     "metadata": {},
     "output_type": "execute_result"
    }
   ],
   "source": [
    "data.sum()"
   ]
  },
  {
   "cell_type": "code",
   "execution_count": 302,
   "id": "56a1f068",
   "metadata": {},
   "outputs": [
    {
     "data": {
      "text/plain": [
       "array([[1, 2],\n",
       "       [1, 1]])"
      ]
     },
     "execution_count": 302,
     "metadata": {},
     "output_type": "execute_result"
    }
   ],
   "source": [
    "b = np.array([data, ones])\n",
    "b"
   ]
  },
  {
   "cell_type": "code",
   "execution_count": 304,
   "id": "5a5d8409",
   "metadata": {},
   "outputs": [
    {
     "data": {
      "text/plain": [
       "5"
      ]
     },
     "execution_count": 304,
     "metadata": {},
     "output_type": "execute_result"
    }
   ],
   "source": [
    "b.sum()"
   ]
  },
  {
   "cell_type": "code",
   "execution_count": 308,
   "id": "12e05900",
   "metadata": {},
   "outputs": [
    {
     "data": {
      "text/plain": [
       "array([3, 2])"
      ]
     },
     "execution_count": 308,
     "metadata": {},
     "output_type": "execute_result"
    }
   ],
   "source": [
    "b.sum(axis=1)"
   ]
  },
  {
   "cell_type": "markdown",
   "id": "78c8ea7d",
   "metadata": {},
   "source": [
    "#### More useful array operations"
   ]
  },
  {
   "cell_type": "code",
   "execution_count": 310,
   "id": "71f7a70d",
   "metadata": {},
   "outputs": [
    {
     "data": {
      "text/plain": [
       "24"
      ]
     },
     "execution_count": 310,
     "metadata": {},
     "output_type": "execute_result"
    }
   ],
   "source": [
    "x.max()"
   ]
  },
  {
   "cell_type": "code",
   "execution_count": 311,
   "id": "4b929034",
   "metadata": {},
   "outputs": [
    {
     "data": {
      "text/plain": [
       "1"
      ]
     },
     "execution_count": 311,
     "metadata": {},
     "output_type": "execute_result"
    }
   ],
   "source": [
    "x.min()"
   ]
  },
  {
   "cell_type": "code",
   "execution_count": 313,
   "id": "7d0008ad",
   "metadata": {},
   "outputs": [
    {
     "data": {
      "text/plain": [
       "300"
      ]
     },
     "execution_count": 313,
     "metadata": {},
     "output_type": "execute_result"
    }
   ],
   "source": [
    "x.sum()"
   ]
  },
  {
   "cell_type": "code",
   "execution_count": 319,
   "id": "f8862e27",
   "metadata": {},
   "outputs": [
    {
     "data": {
      "text/plain": [
       "array([0.63696169, 0.26978671, 0.04097352])"
      ]
     },
     "execution_count": 319,
     "metadata": {},
     "output_type": "execute_result"
    }
   ],
   "source": [
    "seed = 0\n",
    "rng = np.random.default_rng(seed)\n",
    "rng.random(3)"
   ]
  },
  {
   "cell_type": "code",
   "execution_count": 323,
   "id": "18407d82",
   "metadata": {},
   "outputs": [
    {
     "data": {
      "text/plain": [
       "array([[[0.72148834, 0.52535432],\n",
       "        [0.31024188, 0.48583536],\n",
       "        [0.88948783, 0.93404352]],\n",
       "\n",
       "       [[0.3577952 , 0.57152983],\n",
       "        [0.32186939, 0.59430003],\n",
       "        [0.33791123, 0.391619  ]],\n",
       "\n",
       "       [[0.89027435, 0.22715759],\n",
       "        [0.62318714, 0.08401534],\n",
       "        [0.83264415, 0.78709831]],\n",
       "\n",
       "       [[0.23936944, 0.87648423],\n",
       "        [0.05856803, 0.33611706],\n",
       "        [0.15027947, 0.45033937]]])"
      ]
     },
     "execution_count": 323,
     "metadata": {},
     "output_type": "execute_result"
    }
   ],
   "source": [
    "rng.random((4,3, 2))"
   ]
  },
  {
   "cell_type": "code",
   "execution_count": 328,
   "id": "e4915746",
   "metadata": {},
   "outputs": [
    {
     "data": {
      "text/plain": [
       "array([[2, 4, 0, 2],\n",
       "       [0, 2, 4, 3]], dtype=int64)"
      ]
     },
     "execution_count": 328,
     "metadata": {},
     "output_type": "execute_result"
    }
   ],
   "source": [
    "rng.integers(5, size=(2, 4)) #5 = 0->4 size means z and x"
   ]
  },
  {
   "cell_type": "markdown",
   "id": "f3fe9049",
   "metadata": {},
   "source": [
    "#### Transpose"
   ]
  },
  {
   "cell_type": "code",
   "execution_count": 344,
   "id": "db0494eb",
   "metadata": {},
   "outputs": [
    {
     "data": {
      "text/plain": [
       "array([4, 3, 2, 8, 8, 1], dtype=int64)"
      ]
     },
     "execution_count": 344,
     "metadata": {},
     "output_type": "execute_result"
    }
   ],
   "source": [
    "transposeData = rng.integers(10, size=(6))\n",
    "transposeData"
   ]
  },
  {
   "cell_type": "code",
   "execution_count": 348,
   "id": "4836e1f5",
   "metadata": {},
   "outputs": [],
   "source": [
    "transposedData = transposeData.reshape(2,3)"
   ]
  },
  {
   "attachments": {
    "image.png": {
     "image/png": "[encoded data removed]"
    }
   },
   "cell_type": "markdown",
   "id": "2ba59354",
   "metadata": {},
   "source": [
    "![image.png](attachment:image.png)"
   ]
  },
  {
   "cell_type": "code",
   "execution_count": 349,
   "id": "4e6ae3b5",
   "metadata": {},
   "outputs": [
    {
     "data": {
      "text/plain": [
       "array([[4, 3, 2],\n",
       "       [8, 8, 1]], dtype=int64)"
      ]
     },
     "execution_count": 349,
     "metadata": {},
     "output_type": "execute_result"
    }
   ],
   "source": [
    "transposedData"
   ]
  },
  {
   "cell_type": "code",
   "execution_count": 350,
   "id": "6c34d9c5",
   "metadata": {},
   "outputs": [
    {
     "data": {
      "text/plain": [
       "array([[4, 8],\n",
       "       [3, 8],\n",
       "       [2, 1]], dtype=int64)"
      ]
     },
     "execution_count": 350,
     "metadata": {},
     "output_type": "execute_result"
    }
   ],
   "source": [
    "transposedData.transpose()"
   ]
  },
  {
   "cell_type": "code",
   "execution_count": 351,
   "id": "38edc3a0",
   "metadata": {},
   "outputs": [
    {
     "data": {
      "text/plain": [
       "array([[4, 8],\n",
       "       [3, 8],\n",
       "       [2, 1]], dtype=int64)"
      ]
     },
     "execution_count": 351,
     "metadata": {},
     "output_type": "execute_result"
    }
   ],
   "source": [
    "transposedData.T"
   ]
  },
  {
   "cell_type": "markdown",
   "id": "24996d89",
   "metadata": {},
   "source": [
    "#### Reverse an array"
   ]
  },
  {
   "cell_type": "code",
   "execution_count": 352,
   "id": "891cf9c0",
   "metadata": {},
   "outputs": [],
   "source": [
    "arr = np.array([1, 2, 3, 4, 5, 6, 7, 8])"
   ]
  },
  {
   "cell_type": "code",
   "execution_count": 353,
   "id": "60db7a28",
   "metadata": {},
   "outputs": [],
   "source": [
    "reversed_arr = np.flip(arr)"
   ]
  },
  {
   "cell_type": "code",
   "execution_count": 356,
   "id": "3fcea5e1",
   "metadata": {},
   "outputs": [
    {
     "name": "stdout",
     "output_type": "stream",
     "text": [
      "Reversed Array:  [8 7 6 5 4 3 2 1]\n"
     ]
    }
   ],
   "source": [
    "print('Reversed Array: ', reversed_arr)"
   ]
  },
  {
   "attachments": {
    "image.png": {
     "image/png": "[encoded data removed]"
    }
   },
   "cell_type": "markdown",
   "id": "6f445544",
   "metadata": {},
   "source": [
    "![image.png](attachment:image.png)"
   ]
  },
  {
   "cell_type": "markdown",
   "id": "d2a01b2e",
   "metadata": {},
   "source": [
    "#### Save & Load Arrays"
   ]
  },
  {
   "cell_type": "code",
   "execution_count": 361,
   "id": "c5ffb633",
   "metadata": {},
   "outputs": [],
   "source": [
    "np.save('NUMPY_ARRAY', a)"
   ]
  },
  {
   "cell_type": "code",
   "execution_count": 362,
   "id": "f4b06f6d",
   "metadata": {},
   "outputs": [],
   "source": [
    "b = np.load('NUMPY_ARRAY.npy')"
   ]
  },
  {
   "cell_type": "code",
   "execution_count": 363,
   "id": "cece66fd",
   "metadata": {},
   "outputs": [
    {
     "name": "stdout",
     "output_type": "stream",
     "text": [
      "[[ 1  2  3  4]\n",
      " [ 5  6  7  8]\n",
      " [ 9 10 11 12]]\n"
     ]
    }
   ],
   "source": [
    "print(b)"
   ]
  },
  {
   "cell_type": "code",
   "execution_count": 365,
   "id": "3cfd963e",
   "metadata": {},
   "outputs": [],
   "source": [
    "np.savetxt('new_file.csv', b)"
   ]
  },
  {
   "cell_type": "code",
   "execution_count": 366,
   "id": "550a9dc4",
   "metadata": {},
   "outputs": [
    {
     "data": {
      "text/plain": [
       "array([[ 1.,  2.,  3.,  4.],\n",
       "       [ 5.,  6.,  7.,  8.],\n",
       "       [ 9., 10., 11., 12.]])"
      ]
     },
     "execution_count": 366,
     "metadata": {},
     "output_type": "execute_result"
    }
   ],
   "source": [
    "np.loadtxt('new_file.csv')"
   ]
  }
 ],
 "metadata": {
  "kernelspec": {
   "display_name": "Python 3 (ipykernel)",
   "language": "python",
   "name": "python3"
  },
  "language_info": {
   "codemirror_mode": {
    "name": "ipython",
    "version": 3
   },
   "file_extension": ".py",
   "mimetype": "text/x-python",
   "name": "python",
   "nbconvert_exporter": "python",
   "pygments_lexer": "ipython3",
   "version": "3.8.12"
  }
 },
 "nbformat": 4,
 "nbformat_minor": 5
}
