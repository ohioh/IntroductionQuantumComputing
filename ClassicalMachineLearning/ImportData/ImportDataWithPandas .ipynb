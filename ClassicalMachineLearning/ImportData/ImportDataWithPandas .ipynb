{
 "cells": [
  {
   "cell_type": "code",
   "execution_count": 154,
   "id": "eee058c1",
   "metadata": {},
   "outputs": [],
   "source": [
    "##########################################################################################################################\n",
    "#* \n",
    "#*   Import Data with Pandas\n",
    "#*   @author Tjark Ziehm\n",
    "#*   @version 0.01 25.11.2021\n",
    "#*\n",
    "#*   We all know about arrays from math or matrices. The way we can transform data are very similar and helpful to understand\n",
    "#*   them. This is an important Part of DataScience work and is influencing the result at our work result much.\n",
    "#*   Here we will now look how to import data from a file in a well form ( dataframe ). After this step we have to controll the\n",
    "#*   data in quality, maybe transform / splitt them and clean up. So lets start\n",
    "#*   Search in dataframes is fast too\n",
    "\n",
    "#*   @version pandas 1.3.0 \n",
    "#*   \n",
    "#*   Pandas is perfect for working, calculating and deeper modify arrays in the view\n",
    "#*   of columns and rows based on the concept of a dataframe.\n",
    "#*   Aspecially getting data from special formats like databased or the web pandas is awesome\n",
    "#*   I really like the fast plot and draws instead of matplotlib \n",
    "#*  \n",
    "#*   Themes:\n",
    "#* \n",
    "#*   handle arrays\n",
    "#*   import with pandas:\n",
    "#*   read_csv() \n",
    "#*   work with excel files\n",
    "#*   dataframe infos\n",
    "#*   Getting a subset from the dataframe\n",
    "#*   Modify with shape  ( for deeper data understanding )\n",
    "#*   filter specific rows from a DataFrame\n",
    "#*   Filter deeper \n",
    "#*   More specific Search with more parameters\n",
    "#*   Specific rows with specific colomns\n",
    "#*   Search for parameter\n",
    "#*   Visualize with pandas\n",
    "#*   create new columns derived from existing columns\n",
    "#*   rename the data columns\n",
    "#*   calculate summary statistics\n",
    "#*\n",
    "##########################################################################################################################"
   ]
  },
  {
   "attachments": {
    "image.png": {
     "image/png": "[encoded data removed]"
    }
   },
   "cell_type": "markdown",
   "id": "d9a740ab",
   "metadata": {},
   "source": [
    "![image.png](attachment:image.png)"
   ]
  },
  {
   "cell_type": "code",
   "execution_count": 28,
   "id": "8bc8351a",
   "metadata": {},
   "outputs": [],
   "source": [
    "import pandas as pd\n",
    "import numpy as np"
   ]
  },
  {
   "cell_type": "code",
   "execution_count": 29,
   "id": "93bf897f",
   "metadata": {},
   "outputs": [],
   "source": [
    "givenData = [ 1,3,5 ]  #The way how an array ( or list ) is represented in python [array] ( not numpy/pandas yet)\n",
    "givenData2 = [[2,3,4],[5,6,7],[8,9,10]]"
   ]
  },
  {
   "cell_type": "code",
   "execution_count": 30,
   "id": "603f0130",
   "metadata": {},
   "outputs": [
    {
     "name": "stdout",
     "output_type": "stream",
     "text": [
      "[1, 3, 5]\n"
     ]
    },
    {
     "data": {
      "text/plain": [
       "list"
      ]
     },
     "execution_count": 30,
     "metadata": {},
     "output_type": "execute_result"
    }
   ],
   "source": [
    "print(givenData)\n",
    "type(givenData)"
   ]
  },
  {
   "cell_type": "code",
   "execution_count": 9,
   "id": "305a701e",
   "metadata": {},
   "outputs": [],
   "source": [
    "#Now lets make the array more powerfull with new dimension\n"
   ]
  },
  {
   "cell_type": "code",
   "execution_count": 31,
   "id": "60d72c74",
   "metadata": {},
   "outputs": [],
   "source": [
    "dim2Array = pd.array([[2,3,4],[5,6,7],[8,9,10]])"
   ]
  },
  {
   "cell_type": "code",
   "execution_count": 32,
   "id": "15d067bc",
   "metadata": {},
   "outputs": [],
   "source": [
    "dim2ArrayfromPythonArray = pd.array(givenData2)"
   ]
  },
  {
   "cell_type": "code",
   "execution_count": null,
   "id": "fdec93cb",
   "metadata": {},
   "outputs": [],
   "source": [
    "# we are very free to define panda arrays as we need"
   ]
  },
  {
   "cell_type": "code",
   "execution_count": 33,
   "id": "4ab6b0bc",
   "metadata": {},
   "outputs": [
    {
     "data": {
      "text/plain": [
       "<PandasArray>\n",
       "[[2, 3, 4], [5, 6, 7], [8, 9, 10]]\n",
       "Length: 3, dtype: object"
      ]
     },
     "execution_count": 33,
     "metadata": {},
     "output_type": "execute_result"
    }
   ],
   "source": [
    "dim2Array"
   ]
  },
  {
   "cell_type": "code",
   "execution_count": 34,
   "id": "a6c49ddf",
   "metadata": {},
   "outputs": [
    {
     "data": {
      "text/plain": [
       "<PandasArray>\n",
       "[[2, 3, 4], [5, 6, 7], [8, 9, 10]]\n",
       "Length: 3, dtype: object"
      ]
     },
     "execution_count": 34,
     "metadata": {},
     "output_type": "execute_result"
    }
   ],
   "source": [
    "dim2ArrayfromPythonArray"
   ]
  },
  {
   "cell_type": "code",
   "execution_count": 37,
   "id": "923a61e3",
   "metadata": {},
   "outputs": [],
   "source": [
    "# Not very challenging yet"
   ]
  },
  {
   "cell_type": "code",
   "execution_count": 38,
   "id": "97de55f3",
   "metadata": {},
   "outputs": [],
   "source": [
    "#here we see about the need to connect the tool numpy and pandas"
   ]
  },
  {
   "cell_type": "code",
   "execution_count": 40,
   "id": "b28a80cf",
   "metadata": {},
   "outputs": [],
   "source": [
    "column1 =  np.linspace(1,10,1)  #numpy create a list from 1 till 10 in steps of 1"
   ]
  },
  {
   "cell_type": "code",
   "execution_count": 42,
   "id": "e0dd175d",
   "metadata": {},
   "outputs": [],
   "source": [
    "column2 = column1 * column1"
   ]
  },
  {
   "cell_type": "code",
   "execution_count": 41,
   "id": "d6c0cef4",
   "metadata": {},
   "outputs": [],
   "source": [
    "column3 =  np.sqrt(column1)"
   ]
  },
  {
   "cell_type": "markdown",
   "id": "9f0ae87f",
   "metadata": {},
   "source": [
    "#### Import with pandas"
   ]
  },
  {
   "cell_type": "code",
   "execution_count": 281,
   "id": "f5477e59",
   "metadata": {},
   "outputs": [],
   "source": [
    "iris = pd.read_csv(\"data/iris.csv\")"
   ]
  },
  {
   "cell_type": "code",
   "execution_count": 50,
   "id": "4fa7ed63",
   "metadata": {},
   "outputs": [
    {
     "data": {
      "text/html": [
       "<div>\n",
       "<style scoped>\n",
       "    .dataframe tbody tr th:only-of-type {\n",
       "        vertical-align: middle;\n",
       "    }\n",
       "\n",
       "    .dataframe tbody tr th {\n",
       "        vertical-align: top;\n",
       "    }\n",
       "\n",
       "    .dataframe thead th {\n",
       "        text-align: right;\n",
       "    }\n",
       "</style>\n",
       "<table border=\"1\" class=\"dataframe\">\n",
       "  <thead>\n",
       "    <tr style=\"text-align: right;\">\n",
       "      <th></th>\n",
       "      <th>sepal.length</th>\n",
       "      <th>sepal.width</th>\n",
       "      <th>petal.length</th>\n",
       "      <th>petal.width</th>\n",
       "      <th>variety</th>\n",
       "    </tr>\n",
       "  </thead>\n",
       "  <tbody>\n",
       "    <tr>\n",
       "      <th>0</th>\n",
       "      <td>5.1</td>\n",
       "      <td>3.5</td>\n",
       "      <td>1.4</td>\n",
       "      <td>0.2</td>\n",
       "      <td>Setosa</td>\n",
       "    </tr>\n",
       "    <tr>\n",
       "      <th>1</th>\n",
       "      <td>4.9</td>\n",
       "      <td>3.0</td>\n",
       "      <td>1.4</td>\n",
       "      <td>0.2</td>\n",
       "      <td>Setosa</td>\n",
       "    </tr>\n",
       "    <tr>\n",
       "      <th>2</th>\n",
       "      <td>4.7</td>\n",
       "      <td>3.2</td>\n",
       "      <td>1.3</td>\n",
       "      <td>0.2</td>\n",
       "      <td>Setosa</td>\n",
       "    </tr>\n",
       "    <tr>\n",
       "      <th>3</th>\n",
       "      <td>4.6</td>\n",
       "      <td>3.1</td>\n",
       "      <td>1.5</td>\n",
       "      <td>0.2</td>\n",
       "      <td>Setosa</td>\n",
       "    </tr>\n",
       "    <tr>\n",
       "      <th>4</th>\n",
       "      <td>5.0</td>\n",
       "      <td>3.6</td>\n",
       "      <td>1.4</td>\n",
       "      <td>0.2</td>\n",
       "      <td>Setosa</td>\n",
       "    </tr>\n",
       "    <tr>\n",
       "      <th>5</th>\n",
       "      <td>5.4</td>\n",
       "      <td>3.9</td>\n",
       "      <td>1.7</td>\n",
       "      <td>0.4</td>\n",
       "      <td>Setosa</td>\n",
       "    </tr>\n",
       "    <tr>\n",
       "      <th>6</th>\n",
       "      <td>4.6</td>\n",
       "      <td>3.4</td>\n",
       "      <td>1.4</td>\n",
       "      <td>0.3</td>\n",
       "      <td>Setosa</td>\n",
       "    </tr>\n",
       "    <tr>\n",
       "      <th>7</th>\n",
       "      <td>5.0</td>\n",
       "      <td>3.4</td>\n",
       "      <td>1.5</td>\n",
       "      <td>0.2</td>\n",
       "      <td>Setosa</td>\n",
       "    </tr>\n",
       "  </tbody>\n",
       "</table>\n",
       "</div>"
      ],
      "text/plain": [
       "   sepal.length  sepal.width  petal.length  petal.width variety\n",
       "0           5.1          3.5           1.4          0.2  Setosa\n",
       "1           4.9          3.0           1.4          0.2  Setosa\n",
       "2           4.7          3.2           1.3          0.2  Setosa\n",
       "3           4.6          3.1           1.5          0.2  Setosa\n",
       "4           5.0          3.6           1.4          0.2  Setosa\n",
       "5           5.4          3.9           1.7          0.4  Setosa\n",
       "6           4.6          3.4           1.4          0.3  Setosa\n",
       "7           5.0          3.4           1.5          0.2  Setosa"
      ]
     },
     "execution_count": 50,
     "metadata": {},
     "output_type": "execute_result"
    }
   ],
   "source": [
    "iris.head(8) # get the first 8 ( remember that we start to count with 0)"
   ]
  },
  {
   "cell_type": "code",
   "execution_count": 52,
   "id": "04498393",
   "metadata": {},
   "outputs": [
    {
     "data": {
      "text/html": [
       "<div>\n",
       "<style scoped>\n",
       "    .dataframe tbody tr th:only-of-type {\n",
       "        vertical-align: middle;\n",
       "    }\n",
       "\n",
       "    .dataframe tbody tr th {\n",
       "        vertical-align: top;\n",
       "    }\n",
       "\n",
       "    .dataframe thead th {\n",
       "        text-align: right;\n",
       "    }\n",
       "</style>\n",
       "<table border=\"1\" class=\"dataframe\">\n",
       "  <thead>\n",
       "    <tr style=\"text-align: right;\">\n",
       "      <th></th>\n",
       "      <th>sepal.length</th>\n",
       "      <th>sepal.width</th>\n",
       "      <th>petal.length</th>\n",
       "      <th>petal.width</th>\n",
       "      <th>variety</th>\n",
       "    </tr>\n",
       "  </thead>\n",
       "  <tbody>\n",
       "    <tr>\n",
       "      <th>140</th>\n",
       "      <td>6.7</td>\n",
       "      <td>3.1</td>\n",
       "      <td>5.6</td>\n",
       "      <td>2.4</td>\n",
       "      <td>Virginica</td>\n",
       "    </tr>\n",
       "    <tr>\n",
       "      <th>141</th>\n",
       "      <td>6.9</td>\n",
       "      <td>3.1</td>\n",
       "      <td>5.1</td>\n",
       "      <td>2.3</td>\n",
       "      <td>Virginica</td>\n",
       "    </tr>\n",
       "    <tr>\n",
       "      <th>142</th>\n",
       "      <td>5.8</td>\n",
       "      <td>2.7</td>\n",
       "      <td>5.1</td>\n",
       "      <td>1.9</td>\n",
       "      <td>Virginica</td>\n",
       "    </tr>\n",
       "    <tr>\n",
       "      <th>143</th>\n",
       "      <td>6.8</td>\n",
       "      <td>3.2</td>\n",
       "      <td>5.9</td>\n",
       "      <td>2.3</td>\n",
       "      <td>Virginica</td>\n",
       "    </tr>\n",
       "    <tr>\n",
       "      <th>144</th>\n",
       "      <td>6.7</td>\n",
       "      <td>3.3</td>\n",
       "      <td>5.7</td>\n",
       "      <td>2.5</td>\n",
       "      <td>Virginica</td>\n",
       "    </tr>\n",
       "    <tr>\n",
       "      <th>145</th>\n",
       "      <td>6.7</td>\n",
       "      <td>3.0</td>\n",
       "      <td>5.2</td>\n",
       "      <td>2.3</td>\n",
       "      <td>Virginica</td>\n",
       "    </tr>\n",
       "    <tr>\n",
       "      <th>146</th>\n",
       "      <td>6.3</td>\n",
       "      <td>2.5</td>\n",
       "      <td>5.0</td>\n",
       "      <td>1.9</td>\n",
       "      <td>Virginica</td>\n",
       "    </tr>\n",
       "    <tr>\n",
       "      <th>147</th>\n",
       "      <td>6.5</td>\n",
       "      <td>3.0</td>\n",
       "      <td>5.2</td>\n",
       "      <td>2.0</td>\n",
       "      <td>Virginica</td>\n",
       "    </tr>\n",
       "    <tr>\n",
       "      <th>148</th>\n",
       "      <td>6.2</td>\n",
       "      <td>3.4</td>\n",
       "      <td>5.4</td>\n",
       "      <td>2.3</td>\n",
       "      <td>Virginica</td>\n",
       "    </tr>\n",
       "    <tr>\n",
       "      <th>149</th>\n",
       "      <td>5.9</td>\n",
       "      <td>3.0</td>\n",
       "      <td>5.1</td>\n",
       "      <td>1.8</td>\n",
       "      <td>Virginica</td>\n",
       "    </tr>\n",
       "  </tbody>\n",
       "</table>\n",
       "</div>"
      ],
      "text/plain": [
       "     sepal.length  sepal.width  petal.length  petal.width    variety\n",
       "140           6.7          3.1           5.6          2.4  Virginica\n",
       "141           6.9          3.1           5.1          2.3  Virginica\n",
       "142           5.8          2.7           5.1          1.9  Virginica\n",
       "143           6.8          3.2           5.9          2.3  Virginica\n",
       "144           6.7          3.3           5.7          2.5  Virginica\n",
       "145           6.7          3.0           5.2          2.3  Virginica\n",
       "146           6.3          2.5           5.0          1.9  Virginica\n",
       "147           6.5          3.0           5.2          2.0  Virginica\n",
       "148           6.2          3.4           5.4          2.3  Virginica\n",
       "149           5.9          3.0           5.1          1.8  Virginica"
      ]
     },
     "execution_count": 52,
     "metadata": {},
     "output_type": "execute_result"
    }
   ],
   "source": [
    "iris.tail(10)"
   ]
  },
  {
   "cell_type": "code",
   "execution_count": 55,
   "id": "aee0f0ef",
   "metadata": {},
   "outputs": [
    {
     "data": {
      "text/plain": [
       "sepal.length    float64\n",
       "sepal.width     float64\n",
       "petal.length    float64\n",
       "petal.width     float64\n",
       "variety          object\n",
       "dtype: object"
      ]
     },
     "execution_count": 55,
     "metadata": {},
     "output_type": "execute_result"
    }
   ],
   "source": [
    "iris.dtypes"
   ]
  },
  {
   "cell_type": "markdown",
   "id": "1b35f9f7",
   "metadata": {},
   "source": [
    "#### Work with Excel file\n"
   ]
  },
  {
   "cell_type": "code",
   "execution_count": 59,
   "id": "37bdcdea",
   "metadata": {},
   "outputs": [],
   "source": [
    "iris.to_excel(\"iris.xlsx\", sheet_name=\"iris\", index=False)"
   ]
  },
  {
   "cell_type": "code",
   "execution_count": 61,
   "id": "27309454",
   "metadata": {},
   "outputs": [],
   "source": [
    "irisFromExcel = pd.read_excel(\"iris.xlsx\", sheet_name=\"iris\")"
   ]
  },
  {
   "cell_type": "markdown",
   "id": "a2ec9566",
   "metadata": {},
   "source": [
    "#### DataFrame Information"
   ]
  },
  {
   "cell_type": "code",
   "execution_count": 65,
   "id": "29c88b3d",
   "metadata": {},
   "outputs": [
    {
     "name": "stdout",
     "output_type": "stream",
     "text": [
      "<class 'pandas.core.frame.DataFrame'>\n",
      "RangeIndex: 150 entries, 0 to 149\n",
      "Data columns (total 5 columns):\n",
      " #   Column        Non-Null Count  Dtype  \n",
      "---  ------        --------------  -----  \n",
      " 0   sepal.length  150 non-null    float64\n",
      " 1   sepal.width   150 non-null    float64\n",
      " 2   petal.length  150 non-null    float64\n",
      " 3   petal.width   150 non-null    float64\n",
      " 4   variety       150 non-null    object \n",
      "dtypes: float64(4), object(1)\n",
      "memory usage: 6.0+ KB\n"
     ]
    }
   ],
   "source": [
    "iris.info()"
   ]
  },
  {
   "cell_type": "markdown",
   "id": "40cd1cc4",
   "metadata": {},
   "source": [
    "#### Getting a subset from the dataframe"
   ]
  },
  {
   "cell_type": "code",
   "execution_count": 66,
   "id": "1c12039c",
   "metadata": {},
   "outputs": [],
   "source": [
    "sepalLength = iris[\"sepal.length\"]"
   ]
  },
  {
   "cell_type": "code",
   "execution_count": 67,
   "id": "c2e450bd",
   "metadata": {},
   "outputs": [
    {
     "data": {
      "text/plain": [
       "0    5.1\n",
       "1    4.9\n",
       "2    4.7\n",
       "3    4.6\n",
       "4    5.0\n",
       "Name: sepal.length, dtype: float64"
      ]
     },
     "execution_count": 67,
     "metadata": {},
     "output_type": "execute_result"
    }
   ],
   "source": [
    "sepalLength.head()"
   ]
  },
  {
   "cell_type": "code",
   "execution_count": 68,
   "id": "c4ae0c49",
   "metadata": {},
   "outputs": [
    {
     "data": {
      "text/plain": [
       "pandas.core.series.Series"
      ]
     },
     "execution_count": 68,
     "metadata": {},
     "output_type": "execute_result"
    }
   ],
   "source": [
    "type(sepalLength)"
   ]
  },
  {
   "cell_type": "markdown",
   "id": "9321ef5b",
   "metadata": {},
   "source": [
    "#### Modify with shape ( for deeper data understanding )"
   ]
  },
  {
   "cell_type": "code",
   "execution_count": 69,
   "id": "2f0e642d",
   "metadata": {},
   "outputs": [
    {
     "data": {
      "text/plain": [
       "(150,)"
      ]
     },
     "execution_count": 69,
     "metadata": {},
     "output_type": "execute_result"
    }
   ],
   "source": [
    "iris[\"sepal.length\"].shape"
   ]
  },
  {
   "cell_type": "code",
   "execution_count": 71,
   "id": "8833c822",
   "metadata": {},
   "outputs": [
    {
     "data": {
      "text/plain": [
       "(150,)"
      ]
     },
     "execution_count": 71,
     "metadata": {},
     "output_type": "execute_result"
    }
   ],
   "source": [
    "iris[\"variety\"].shape"
   ]
  },
  {
   "cell_type": "code",
   "execution_count": 74,
   "id": "384101a0",
   "metadata": {},
   "outputs": [
    {
     "data": {
      "text/html": [
       "<div>\n",
       "<style scoped>\n",
       "    .dataframe tbody tr th:only-of-type {\n",
       "        vertical-align: middle;\n",
       "    }\n",
       "\n",
       "    .dataframe tbody tr th {\n",
       "        vertical-align: top;\n",
       "    }\n",
       "\n",
       "    .dataframe thead th {\n",
       "        text-align: right;\n",
       "    }\n",
       "</style>\n",
       "<table border=\"1\" class=\"dataframe\">\n",
       "  <thead>\n",
       "    <tr style=\"text-align: right;\">\n",
       "      <th></th>\n",
       "      <th>sepal.length</th>\n",
       "      <th>variety</th>\n",
       "    </tr>\n",
       "  </thead>\n",
       "  <tbody>\n",
       "    <tr>\n",
       "      <th>0</th>\n",
       "      <td>5.1</td>\n",
       "      <td>Setosa</td>\n",
       "    </tr>\n",
       "    <tr>\n",
       "      <th>1</th>\n",
       "      <td>4.9</td>\n",
       "      <td>Setosa</td>\n",
       "    </tr>\n",
       "    <tr>\n",
       "      <th>2</th>\n",
       "      <td>4.7</td>\n",
       "      <td>Setosa</td>\n",
       "    </tr>\n",
       "    <tr>\n",
       "      <th>3</th>\n",
       "      <td>4.6</td>\n",
       "      <td>Setosa</td>\n",
       "    </tr>\n",
       "    <tr>\n",
       "      <th>4</th>\n",
       "      <td>5.0</td>\n",
       "      <td>Setosa</td>\n",
       "    </tr>\n",
       "  </tbody>\n",
       "</table>\n",
       "</div>"
      ],
      "text/plain": [
       "   sepal.length variety\n",
       "0           5.1  Setosa\n",
       "1           4.9  Setosa\n",
       "2           4.7  Setosa\n",
       "3           4.6  Setosa\n",
       "4           5.0  Setosa"
      ]
     },
     "execution_count": 74,
     "metadata": {},
     "output_type": "execute_result"
    }
   ],
   "source": [
    "sepalLengt_Variety = iris[[\"sepal.length\",\"variety\"]]\n",
    "sepalLengt_Variety.head()"
   ]
  },
  {
   "cell_type": "code",
   "execution_count": 76,
   "id": "26f6ad69",
   "metadata": {},
   "outputs": [
    {
     "data": {
      "text/plain": [
       "(150, 2)"
      ]
     },
     "execution_count": 76,
     "metadata": {},
     "output_type": "execute_result"
    }
   ],
   "source": [
    "iris[[\"sepal.length\", \"variety\"]].shape"
   ]
  },
  {
   "cell_type": "markdown",
   "id": "8187275c",
   "metadata": {},
   "source": [
    "#### filter specific rows from a DataFrame"
   ]
  },
  {
   "cell_type": "code",
   "execution_count": 86,
   "id": "b2b11b89",
   "metadata": {},
   "outputs": [],
   "source": [
    "rowsAbove90 = iris[iris[\"sepal.length\"] > 3]  #filter rows for specific feature condition"
   ]
  },
  {
   "cell_type": "code",
   "execution_count": 88,
   "id": "940954c1",
   "metadata": {},
   "outputs": [
    {
     "data": {
      "text/html": [
       "<div>\n",
       "<style scoped>\n",
       "    .dataframe tbody tr th:only-of-type {\n",
       "        vertical-align: middle;\n",
       "    }\n",
       "\n",
       "    .dataframe tbody tr th {\n",
       "        vertical-align: top;\n",
       "    }\n",
       "\n",
       "    .dataframe thead th {\n",
       "        text-align: right;\n",
       "    }\n",
       "</style>\n",
       "<table border=\"1\" class=\"dataframe\">\n",
       "  <thead>\n",
       "    <tr style=\"text-align: right;\">\n",
       "      <th></th>\n",
       "      <th>sepal.length</th>\n",
       "      <th>sepal.width</th>\n",
       "      <th>petal.length</th>\n",
       "      <th>petal.width</th>\n",
       "      <th>variety</th>\n",
       "    </tr>\n",
       "  </thead>\n",
       "  <tbody>\n",
       "    <tr>\n",
       "      <th>0</th>\n",
       "      <td>5.1</td>\n",
       "      <td>3.5</td>\n",
       "      <td>1.4</td>\n",
       "      <td>0.2</td>\n",
       "      <td>Setosa</td>\n",
       "    </tr>\n",
       "    <tr>\n",
       "      <th>1</th>\n",
       "      <td>4.9</td>\n",
       "      <td>3.0</td>\n",
       "      <td>1.4</td>\n",
       "      <td>0.2</td>\n",
       "      <td>Setosa</td>\n",
       "    </tr>\n",
       "    <tr>\n",
       "      <th>2</th>\n",
       "      <td>4.7</td>\n",
       "      <td>3.2</td>\n",
       "      <td>1.3</td>\n",
       "      <td>0.2</td>\n",
       "      <td>Setosa</td>\n",
       "    </tr>\n",
       "    <tr>\n",
       "      <th>3</th>\n",
       "      <td>4.6</td>\n",
       "      <td>3.1</td>\n",
       "      <td>1.5</td>\n",
       "      <td>0.2</td>\n",
       "      <td>Setosa</td>\n",
       "    </tr>\n",
       "    <tr>\n",
       "      <th>4</th>\n",
       "      <td>5.0</td>\n",
       "      <td>3.6</td>\n",
       "      <td>1.4</td>\n",
       "      <td>0.2</td>\n",
       "      <td>Setosa</td>\n",
       "    </tr>\n",
       "  </tbody>\n",
       "</table>\n",
       "</div>"
      ],
      "text/plain": [
       "   sepal.length  sepal.width  petal.length  petal.width variety\n",
       "0           5.1          3.5           1.4          0.2  Setosa\n",
       "1           4.9          3.0           1.4          0.2  Setosa\n",
       "2           4.7          3.2           1.3          0.2  Setosa\n",
       "3           4.6          3.1           1.5          0.2  Setosa\n",
       "4           5.0          3.6           1.4          0.2  Setosa"
      ]
     },
     "execution_count": 88,
     "metadata": {},
     "output_type": "execute_result"
    }
   ],
   "source": [
    "rowsAbove90.head()"
   ]
  },
  {
   "cell_type": "markdown",
   "id": "e18bbd4e",
   "metadata": {},
   "source": [
    "#### Filter selection deeper "
   ]
  },
  {
   "cell_type": "code",
   "execution_count": 95,
   "id": "c7912b07",
   "metadata": {},
   "outputs": [
    {
     "data": {
      "text/plain": [
       "0      False\n",
       "1      False\n",
       "2      False\n",
       "3      False\n",
       "4      False\n",
       "       ...  \n",
       "145    False\n",
       "146     True\n",
       "147    False\n",
       "148    False\n",
       "149    False\n",
       "Name: sepal.width, Length: 150, dtype: bool"
      ]
     },
     "execution_count": 95,
     "metadata": {},
     "output_type": "execute_result"
    }
   ],
   "source": [
    "rowsAbove90[\"sepal.width\"] < 3.0"
   ]
  },
  {
   "cell_type": "code",
   "execution_count": 97,
   "id": "cdb6481a",
   "metadata": {},
   "outputs": [],
   "source": [
    "variety_Setosa = iris[iris[\"variety\"].isin([\"Setosa\"])]"
   ]
  },
  {
   "cell_type": "code",
   "execution_count": 99,
   "id": "00a8dadd",
   "metadata": {},
   "outputs": [
    {
     "data": {
      "text/plain": [
       "(50, 5)"
      ]
     },
     "execution_count": 99,
     "metadata": {},
     "output_type": "execute_result"
    }
   ],
   "source": [
    "variety_Setosa #get the result data\n",
    "\n"
   ]
  },
  {
   "cell_type": "code",
   "execution_count": 101,
   "id": "34d67fdd",
   "metadata": {},
   "outputs": [
    {
     "data": {
      "text/plain": [
       "(50, 5)"
      ]
     },
     "execution_count": 101,
     "metadata": {},
     "output_type": "execute_result"
    }
   ],
   "source": [
    "variety_Setosa.shape #get result size"
   ]
  },
  {
   "cell_type": "markdown",
   "id": "eec60f8d",
   "metadata": {},
   "source": [
    "#### More specific Search with more parameters"
   ]
  },
  {
   "cell_type": "code",
   "execution_count": 103,
   "id": "09238d30",
   "metadata": {},
   "outputs": [],
   "source": [
    "sepalLength_sepalWidth= iris[(iris[\"sepal.length\"] == 2) | (iris[\"sepal.width\"] == 3)]"
   ]
  },
  {
   "cell_type": "code",
   "execution_count": 106,
   "id": "9e889e95",
   "metadata": {},
   "outputs": [
    {
     "data": {
      "text/html": [
       "<div>\n",
       "<style scoped>\n",
       "    .dataframe tbody tr th:only-of-type {\n",
       "        vertical-align: middle;\n",
       "    }\n",
       "\n",
       "    .dataframe tbody tr th {\n",
       "        vertical-align: top;\n",
       "    }\n",
       "\n",
       "    .dataframe thead th {\n",
       "        text-align: right;\n",
       "    }\n",
       "</style>\n",
       "<table border=\"1\" class=\"dataframe\">\n",
       "  <thead>\n",
       "    <tr style=\"text-align: right;\">\n",
       "      <th></th>\n",
       "      <th>sepal.length</th>\n",
       "      <th>sepal.width</th>\n",
       "      <th>petal.length</th>\n",
       "      <th>petal.width</th>\n",
       "      <th>variety</th>\n",
       "    </tr>\n",
       "  </thead>\n",
       "  <tbody>\n",
       "    <tr>\n",
       "      <th>1</th>\n",
       "      <td>4.9</td>\n",
       "      <td>3.0</td>\n",
       "      <td>1.4</td>\n",
       "      <td>0.2</td>\n",
       "      <td>Setosa</td>\n",
       "    </tr>\n",
       "    <tr>\n",
       "      <th>12</th>\n",
       "      <td>4.8</td>\n",
       "      <td>3.0</td>\n",
       "      <td>1.4</td>\n",
       "      <td>0.1</td>\n",
       "      <td>Setosa</td>\n",
       "    </tr>\n",
       "    <tr>\n",
       "      <th>13</th>\n",
       "      <td>4.3</td>\n",
       "      <td>3.0</td>\n",
       "      <td>1.1</td>\n",
       "      <td>0.1</td>\n",
       "      <td>Setosa</td>\n",
       "    </tr>\n",
       "    <tr>\n",
       "      <th>25</th>\n",
       "      <td>5.0</td>\n",
       "      <td>3.0</td>\n",
       "      <td>1.6</td>\n",
       "      <td>0.2</td>\n",
       "      <td>Setosa</td>\n",
       "    </tr>\n",
       "    <tr>\n",
       "      <th>38</th>\n",
       "      <td>4.4</td>\n",
       "      <td>3.0</td>\n",
       "      <td>1.3</td>\n",
       "      <td>0.2</td>\n",
       "      <td>Setosa</td>\n",
       "    </tr>\n",
       "  </tbody>\n",
       "</table>\n",
       "</div>"
      ],
      "text/plain": [
       "    sepal.length  sepal.width  petal.length  petal.width variety\n",
       "1            4.9          3.0           1.4          0.2  Setosa\n",
       "12           4.8          3.0           1.4          0.1  Setosa\n",
       "13           4.3          3.0           1.1          0.1  Setosa\n",
       "25           5.0          3.0           1.6          0.2  Setosa\n",
       "38           4.4          3.0           1.3          0.2  Setosa"
      ]
     },
     "execution_count": 106,
     "metadata": {},
     "output_type": "execute_result"
    }
   ],
   "source": [
    "sepalLength_sepalWidth.head()"
   ]
  },
  {
   "cell_type": "code",
   "execution_count": 107,
   "id": "3e10e68c",
   "metadata": {},
   "outputs": [
    {
     "data": {
      "text/plain": [
       "(26, 5)"
      ]
     },
     "execution_count": 107,
     "metadata": {},
     "output_type": "execute_result"
    }
   ],
   "source": [
    "sepalLength_sepalWidth.shape"
   ]
  },
  {
   "cell_type": "markdown",
   "id": "93c24e9c",
   "metadata": {},
   "source": [
    "#### specific rows and columns"
   ]
  },
  {
   "cell_type": "code",
   "execution_count": 119,
   "id": "2446de5a",
   "metadata": {},
   "outputs": [],
   "source": [
    "sepalLengthPetalWidth = iris.loc[iris[\"sepal.length\"] < 4.5, \"petal.width\"]"
   ]
  },
  {
   "cell_type": "code",
   "execution_count": 121,
   "id": "92455c15",
   "metadata": {},
   "outputs": [
    {
     "data": {
      "text/plain": [
       "(4,)"
      ]
     },
     "execution_count": 121,
     "metadata": {},
     "output_type": "execute_result"
    }
   ],
   "source": [
    "sepalLengthPetalWidth.shape\n"
   ]
  },
  {
   "cell_type": "code",
   "execution_count": 122,
   "id": "a6417fe7",
   "metadata": {},
   "outputs": [
    {
     "data": {
      "text/plain": [
       "8     0.2\n",
       "13    0.1\n",
       "38    0.2\n",
       "42    0.2\n",
       "Name: petal.width, dtype: float64"
      ]
     },
     "execution_count": 122,
     "metadata": {},
     "output_type": "execute_result"
    }
   ],
   "source": [
    "sepalLengthPetalWidth.head()"
   ]
  },
  {
   "cell_type": "markdown",
   "id": "abea8c55",
   "metadata": {},
   "source": [
    "#### Specific rows with specific colomns"
   ]
  },
  {
   "cell_type": "code",
   "execution_count": 127,
   "id": "b43814bf",
   "metadata": {},
   "outputs": [],
   "source": [
    "petalWidthVariety = iris.iloc[9:26, 3:5] "
   ]
  },
  {
   "cell_type": "code",
   "execution_count": 129,
   "id": "eb27fe21",
   "metadata": {},
   "outputs": [
    {
     "data": {
      "text/plain": [
       "(17, 2)"
      ]
     },
     "execution_count": 129,
     "metadata": {},
     "output_type": "execute_result"
    }
   ],
   "source": [
    "petalWidthVariety.shape"
   ]
  },
  {
   "cell_type": "code",
   "execution_count": 131,
   "id": "bacb3735",
   "metadata": {},
   "outputs": [
    {
     "data": {
      "text/html": [
       "<div>\n",
       "<style scoped>\n",
       "    .dataframe tbody tr th:only-of-type {\n",
       "        vertical-align: middle;\n",
       "    }\n",
       "\n",
       "    .dataframe tbody tr th {\n",
       "        vertical-align: top;\n",
       "    }\n",
       "\n",
       "    .dataframe thead th {\n",
       "        text-align: right;\n",
       "    }\n",
       "</style>\n",
       "<table border=\"1\" class=\"dataframe\">\n",
       "  <thead>\n",
       "    <tr style=\"text-align: right;\">\n",
       "      <th></th>\n",
       "      <th>petal.width</th>\n",
       "      <th>variety</th>\n",
       "    </tr>\n",
       "  </thead>\n",
       "  <tbody>\n",
       "    <tr>\n",
       "      <th>9</th>\n",
       "      <td>0.1</td>\n",
       "      <td>Setosa</td>\n",
       "    </tr>\n",
       "    <tr>\n",
       "      <th>10</th>\n",
       "      <td>0.2</td>\n",
       "      <td>Setosa</td>\n",
       "    </tr>\n",
       "    <tr>\n",
       "      <th>11</th>\n",
       "      <td>0.2</td>\n",
       "      <td>Setosa</td>\n",
       "    </tr>\n",
       "    <tr>\n",
       "      <th>12</th>\n",
       "      <td>0.1</td>\n",
       "      <td>Setosa</td>\n",
       "    </tr>\n",
       "    <tr>\n",
       "      <th>13</th>\n",
       "      <td>0.1</td>\n",
       "      <td>Setosa</td>\n",
       "    </tr>\n",
       "  </tbody>\n",
       "</table>\n",
       "</div>"
      ],
      "text/plain": [
       "    petal.width variety\n",
       "9           0.1  Setosa\n",
       "10          0.2  Setosa\n",
       "11          0.2  Setosa\n",
       "12          0.1  Setosa\n",
       "13          0.1  Setosa"
      ]
     },
     "execution_count": 131,
     "metadata": {},
     "output_type": "execute_result"
    }
   ],
   "source": [
    "petalWidthVariety.head()"
   ]
  },
  {
   "cell_type": "markdown",
   "id": "8db149c6",
   "metadata": {},
   "source": [
    "#### Search for parameter"
   ]
  },
  {
   "cell_type": "code",
   "execution_count": 150,
   "id": "d586096b",
   "metadata": {},
   "outputs": [],
   "source": [
    "iris.iloc[0:140, 2] = 3.2"
   ]
  },
  {
   "cell_type": "code",
   "execution_count": 152,
   "id": "b1948029",
   "metadata": {},
   "outputs": [
    {
     "data": {
      "text/html": [
       "<div>\n",
       "<style scoped>\n",
       "    .dataframe tbody tr th:only-of-type {\n",
       "        vertical-align: middle;\n",
       "    }\n",
       "\n",
       "    .dataframe tbody tr th {\n",
       "        vertical-align: top;\n",
       "    }\n",
       "\n",
       "    .dataframe thead th {\n",
       "        text-align: right;\n",
       "    }\n",
       "</style>\n",
       "<table border=\"1\" class=\"dataframe\">\n",
       "  <thead>\n",
       "    <tr style=\"text-align: right;\">\n",
       "      <th></th>\n",
       "      <th>sepal.length</th>\n",
       "      <th>sepal.width</th>\n",
       "      <th>petal.length</th>\n",
       "      <th>petal.width</th>\n",
       "      <th>variety</th>\n",
       "    </tr>\n",
       "  </thead>\n",
       "  <tbody>\n",
       "    <tr>\n",
       "      <th>0</th>\n",
       "      <td>5.1</td>\n",
       "      <td>3.5</td>\n",
       "      <td>3.2</td>\n",
       "      <td>3.0</td>\n",
       "      <td>Setosa</td>\n",
       "    </tr>\n",
       "    <tr>\n",
       "      <th>1</th>\n",
       "      <td>4.9</td>\n",
       "      <td>3.0</td>\n",
       "      <td>3.2</td>\n",
       "      <td>3.0</td>\n",
       "      <td>Setosa</td>\n",
       "    </tr>\n",
       "    <tr>\n",
       "      <th>2</th>\n",
       "      <td>4.7</td>\n",
       "      <td>3.2</td>\n",
       "      <td>3.2</td>\n",
       "      <td>3.0</td>\n",
       "      <td>Setosa</td>\n",
       "    </tr>\n",
       "    <tr>\n",
       "      <th>3</th>\n",
       "      <td>4.6</td>\n",
       "      <td>3.1</td>\n",
       "      <td>3.2</td>\n",
       "      <td>3.0</td>\n",
       "      <td>Setosa</td>\n",
       "    </tr>\n",
       "    <tr>\n",
       "      <th>4</th>\n",
       "      <td>5.0</td>\n",
       "      <td>3.6</td>\n",
       "      <td>3.2</td>\n",
       "      <td>3.0</td>\n",
       "      <td>Setosa</td>\n",
       "    </tr>\n",
       "    <tr>\n",
       "      <th>...</th>\n",
       "      <td>...</td>\n",
       "      <td>...</td>\n",
       "      <td>...</td>\n",
       "      <td>...</td>\n",
       "      <td>...</td>\n",
       "    </tr>\n",
       "    <tr>\n",
       "      <th>145</th>\n",
       "      <td>6.7</td>\n",
       "      <td>3.0</td>\n",
       "      <td>3.0</td>\n",
       "      <td>2.3</td>\n",
       "      <td>Virginica</td>\n",
       "    </tr>\n",
       "    <tr>\n",
       "      <th>146</th>\n",
       "      <td>6.3</td>\n",
       "      <td>2.5</td>\n",
       "      <td>3.0</td>\n",
       "      <td>1.9</td>\n",
       "      <td>Virginica</td>\n",
       "    </tr>\n",
       "    <tr>\n",
       "      <th>147</th>\n",
       "      <td>6.5</td>\n",
       "      <td>3.0</td>\n",
       "      <td>3.0</td>\n",
       "      <td>2.0</td>\n",
       "      <td>Virginica</td>\n",
       "    </tr>\n",
       "    <tr>\n",
       "      <th>148</th>\n",
       "      <td>6.2</td>\n",
       "      <td>3.4</td>\n",
       "      <td>3.0</td>\n",
       "      <td>2.3</td>\n",
       "      <td>Virginica</td>\n",
       "    </tr>\n",
       "    <tr>\n",
       "      <th>149</th>\n",
       "      <td>5.9</td>\n",
       "      <td>3.0</td>\n",
       "      <td>3.0</td>\n",
       "      <td>1.8</td>\n",
       "      <td>Virginica</td>\n",
       "    </tr>\n",
       "  </tbody>\n",
       "</table>\n",
       "<p>150 rows × 5 columns</p>\n",
       "</div>"
      ],
      "text/plain": [
       "     sepal.length  sepal.width petal.length petal.width    variety\n",
       "0             5.1          3.5          3.2         3.0     Setosa\n",
       "1             4.9          3.0          3.2         3.0     Setosa\n",
       "2             4.7          3.2          3.2         3.0     Setosa\n",
       "3             4.6          3.1          3.2         3.0     Setosa\n",
       "4             5.0          3.6          3.2         3.0     Setosa\n",
       "..            ...          ...          ...         ...        ...\n",
       "145           6.7          3.0          3.0         2.3  Virginica\n",
       "146           6.3          2.5          3.0         1.9  Virginica\n",
       "147           6.5          3.0          3.0         2.0  Virginica\n",
       "148           6.2          3.4          3.0         2.3  Virginica\n",
       "149           5.9          3.0          3.0         1.8  Virginica\n",
       "\n",
       "[150 rows x 5 columns]"
      ]
     },
     "execution_count": 152,
     "metadata": {},
     "output_type": "execute_result"
    }
   ],
   "source": [
    "iris"
   ]
  },
  {
   "cell_type": "code",
   "execution_count": 153,
   "id": "af8bc88c",
   "metadata": {},
   "outputs": [
    {
     "data": {
      "text/plain": [
       "<AxesSubplot:>"
      ]
     },
     "execution_count": 153,
     "metadata": {},
     "output_type": "execute_result"
    },
    {
     "data": {
      "image/png": "[encoded data removed]",
      "text/plain": [
       "<Figure size 432x288 with 1 Axes>"
      ]
     },
     "metadata": {
      "needs_background": "light"
     },
     "output_type": "display_data"
    }
   ],
   "source": [
    "iris.plot()"
   ]
  },
  {
   "cell_type": "code",
   "execution_count": 156,
   "id": "ee040b46",
   "metadata": {},
   "outputs": [
    {
     "data": {
      "text/plain": [
       "<AxesSubplot:>"
      ]
     },
     "execution_count": 156,
     "metadata": {},
     "output_type": "execute_result"
    },
    {
     "data": {
      "image/png": "[encoded data removed]",
      "text/plain": [
       "<Figure size 432x288 with 1 Axes>"
      ]
     },
     "metadata": {
      "needs_background": "light"
     },
     "output_type": "display_data"
    }
   ],
   "source": [
    "iris[\"sepal.width\"].plot()"
   ]
  },
  {
   "cell_type": "code",
   "execution_count": 193,
   "id": "59bfd98a",
   "metadata": {},
   "outputs": [
    {
     "data": {
      "image/png": "[encoded data removed]",
      "text/plain": [
       "<Figure size 432x288 with 1 Axes>"
      ]
     },
     "metadata": {
      "needs_background": "light"
     },
     "output_type": "display_data"
    }
   ],
   "source": [
    "result = iris.plot.scatter(x='sepal.width',\n",
    "                  y='sepal.length',\n",
    "                  c= 'petal.length',\n",
    "                  alpha =0.7,\n",
    "                  colormap='viridis')"
   ]
  },
  {
   "cell_type": "code",
   "execution_count": 196,
   "id": "f367e4ee",
   "metadata": {},
   "outputs": [
    {
     "data": {
      "text/plain": [
       "<AxesSubplot:>"
      ]
     },
     "execution_count": 196,
     "metadata": {},
     "output_type": "execute_result"
    },
    {
     "data": {
      "image/png": "[encoded data removed]",
      "text/plain": [
       "<Figure size 432x288 with 1 Axes>"
      ]
     },
     "metadata": {
      "needs_background": "light"
     },
     "output_type": "display_data"
    }
   ],
   "source": [
    "iris.plot.box()"
   ]
  },
  {
   "cell_type": "code",
   "execution_count": 197,
   "id": "c353ea78",
   "metadata": {},
   "outputs": [
    {
     "data": {
      "image/png": "[encoded data removed]",
      "text/plain": [
       "<Figure size 864x288 with 2 Axes>"
      ]
     },
     "metadata": {
      "needs_background": "light"
     },
     "output_type": "display_data"
    }
   ],
   "source": [
    "axs = iris.plot.area(figsize=(12, 4), subplots=True)"
   ]
  },
  {
   "cell_type": "code",
   "execution_count": 207,
   "id": "3a50c21e",
   "metadata": {},
   "outputs": [
    {
     "data": {
      "text/plain": [
       "<AxesSubplot:>"
      ]
     },
     "execution_count": 207,
     "metadata": {},
     "output_type": "execute_result"
    },
    {
     "data": {
      "image/png": "[encoded data removed]",
      "text/plain": [
       "<Figure size 432x288 with 2 Axes>"
      ]
     },
     "metadata": {
      "needs_background": "light"
     },
     "output_type": "display_data"
    }
   ],
   "source": [
    "iris[\"sepal.length\"].plot(style=\"b\")\n",
    "iris[\"sepal.width\"].plot(secondary_y=True, style=\"g\")"
   ]
  },
  {
   "cell_type": "code",
   "execution_count": 209,
   "id": "5a90bc3d",
   "metadata": {},
   "outputs": [
    {
     "data": {
      "image/png": "[encoded data removed]",
      "text/plain": [
       "<Figure size 504x504 with 2 Axes>"
      ]
     },
     "metadata": {
      "needs_background": "light"
     },
     "output_type": "display_data"
    }
   ],
   "source": [
    "iris.plot(subplots=True, figsize=(7, 7));"
   ]
  },
  {
   "cell_type": "code",
   "execution_count": 216,
   "id": "ea9cc29c",
   "metadata": {},
   "outputs": [
    {
     "data": {
      "image/png": "[encoded data removed]",
      "text/plain": [
       "<Figure size 504x504 with 4 Axes>"
      ]
     },
     "metadata": {
      "needs_background": "light"
     },
     "output_type": "display_data"
    }
   ],
   "source": [
    "iris.plot(subplots=True, layout=(2, 2), figsize=(7, 7), sharex=True);"
   ]
  },
  {
   "cell_type": "code",
   "execution_count": null,
   "id": "0f0aba68",
   "metadata": {},
   "outputs": [],
   "source": [
    "iris.plot(colormap=\"cubehelix\")"
   ]
  },
  {
   "cell_type": "code",
   "execution_count": 230,
   "id": "25362ab0",
   "metadata": {},
   "outputs": [
    {
     "data": {
      "text/html": [
       "<style type=\"text/css\">\n",
       "</style>\n",
       "<table id=\"T_c9f21_\">\n",
       "  <thead>\n",
       "    <tr>\n",
       "      <th class=\"index_name level0\" >Model:</th>\n",
       "      <th class=\"col_heading level0 col0\" colspan=\"2\">Decision Tree</th>\n",
       "      <th class=\"col_heading level0 col2\" colspan=\"2\">Regression</th>\n",
       "      <th class=\"col_heading level0 col4\" colspan=\"2\">Random</th>\n",
       "    </tr>\n",
       "    <tr>\n",
       "      <th class=\"index_name level1\" >Predicted:</th>\n",
       "      <th class=\"col_heading level1 col0\" >Setosa</th>\n",
       "      <th class=\"col_heading level1 col1\" >Non-Setosa</th>\n",
       "      <th class=\"col_heading level1 col2\" >Setosa</th>\n",
       "      <th class=\"col_heading level1 col3\" >Non-Setosa</th>\n",
       "      <th class=\"col_heading level1 col4\" >Setosa</th>\n",
       "      <th class=\"col_heading level1 col5\" >Non-Setosa</th>\n",
       "    </tr>\n",
       "    <tr>\n",
       "      <th class=\"index_name level0\" >Actual Label:</th>\n",
       "      <th class=\"blank col0\" >&nbsp;</th>\n",
       "      <th class=\"blank col1\" >&nbsp;</th>\n",
       "      <th class=\"blank col2\" >&nbsp;</th>\n",
       "      <th class=\"blank col3\" >&nbsp;</th>\n",
       "      <th class=\"blank col4\" >&nbsp;</th>\n",
       "      <th class=\"blank col5\" >&nbsp;</th>\n",
       "    </tr>\n",
       "  </thead>\n",
       "  <tbody>\n",
       "    <tr>\n",
       "      <th id=\"T_c9f21_level0_row0\" class=\"row_heading level0 row0\" >Setosa</th>\n",
       "      <td id=\"T_c9f21_row0_col0\" class=\"data row0 col0\" >nan</td>\n",
       "      <td id=\"T_c9f21_row0_col1\" class=\"data row0 col1\" >nan</td>\n",
       "      <td id=\"T_c9f21_row0_col2\" class=\"data row0 col2\" >nan</td>\n",
       "      <td id=\"T_c9f21_row0_col3\" class=\"data row0 col3\" >nan</td>\n",
       "      <td id=\"T_c9f21_row0_col4\" class=\"data row0 col4\" >nan</td>\n",
       "      <td id=\"T_c9f21_row0_col5\" class=\"data row0 col5\" >nan</td>\n",
       "    </tr>\n",
       "    <tr>\n",
       "      <th id=\"T_c9f21_level0_row1\" class=\"row_heading level0 row1\" >Non-Stosa</th>\n",
       "      <td id=\"T_c9f21_row1_col0\" class=\"data row1 col0\" >nan</td>\n",
       "      <td id=\"T_c9f21_row1_col1\" class=\"data row1 col1\" >nan</td>\n",
       "      <td id=\"T_c9f21_row1_col2\" class=\"data row1 col2\" >nan</td>\n",
       "      <td id=\"T_c9f21_row1_col3\" class=\"data row1 col3\" >nan</td>\n",
       "      <td id=\"T_c9f21_row1_col4\" class=\"data row1 col4\" >nan</td>\n",
       "      <td id=\"T_c9f21_row1_col5\" class=\"data row1 col5\" >nan</td>\n",
       "    </tr>\n",
       "  </tbody>\n",
       "</table>\n"
      ],
      "text/plain": [
       "<pandas.io.formats.style.Styler at 0x214807d2100>"
      ]
     },
     "execution_count": 230,
     "metadata": {},
     "output_type": "execute_result"
    }
   ],
   "source": [
    "import pandas as pd\n",
    "import numpy as np\n",
    "\n",
    "df = pd.DataFrame([iris[\"sepal.width\"], iris[\"sepal.length\"]],\n",
    "                  index=pd.Index(['Setosa', 'Non-Stosa'], name='Actual Label:'),\n",
    "                  columns=pd.MultiIndex.from_product([['Decision Tree', 'Regression', 'Random'],['Setosa', 'Non-Setosa']], names=['Model:', 'Predicted:']))\n",
    "df.style"
   ]
  },
  {
   "cell_type": "markdown",
   "id": "8d700839",
   "metadata": {},
   "source": [
    "#### create new columns derived from existing columns"
   ]
  },
  {
   "cell_type": "code",
   "execution_count": 239,
   "id": "fb523ac0",
   "metadata": {},
   "outputs": [],
   "source": [
    "iris[\"sepal.SUM\"] = iris[\"sepal.width\"] * 1.882"
   ]
  },
  {
   "cell_type": "code",
   "execution_count": 241,
   "id": "c20e9f34",
   "metadata": {},
   "outputs": [
    {
     "data": {
      "text/html": [
       "<div>\n",
       "<style scoped>\n",
       "    .dataframe tbody tr th:only-of-type {\n",
       "        vertical-align: middle;\n",
       "    }\n",
       "\n",
       "    .dataframe tbody tr th {\n",
       "        vertical-align: top;\n",
       "    }\n",
       "\n",
       "    .dataframe thead th {\n",
       "        text-align: right;\n",
       "    }\n",
       "</style>\n",
       "<table border=\"1\" class=\"dataframe\">\n",
       "  <thead>\n",
       "    <tr style=\"text-align: right;\">\n",
       "      <th></th>\n",
       "      <th>sepal.length</th>\n",
       "      <th>sepal.width</th>\n",
       "      <th>petal.length</th>\n",
       "      <th>petal.width</th>\n",
       "      <th>variety</th>\n",
       "      <th>sepal.SUM</th>\n",
       "    </tr>\n",
       "  </thead>\n",
       "  <tbody>\n",
       "    <tr>\n",
       "      <th>0</th>\n",
       "      <td>5.1</td>\n",
       "      <td>3.5</td>\n",
       "      <td>3.2</td>\n",
       "      <td>3.0</td>\n",
       "      <td>Setosa</td>\n",
       "      <td>6.5870</td>\n",
       "    </tr>\n",
       "    <tr>\n",
       "      <th>1</th>\n",
       "      <td>4.9</td>\n",
       "      <td>3.0</td>\n",
       "      <td>3.2</td>\n",
       "      <td>3.0</td>\n",
       "      <td>Setosa</td>\n",
       "      <td>5.6460</td>\n",
       "    </tr>\n",
       "    <tr>\n",
       "      <th>2</th>\n",
       "      <td>4.7</td>\n",
       "      <td>3.2</td>\n",
       "      <td>3.2</td>\n",
       "      <td>3.0</td>\n",
       "      <td>Setosa</td>\n",
       "      <td>6.0224</td>\n",
       "    </tr>\n",
       "    <tr>\n",
       "      <th>3</th>\n",
       "      <td>4.6</td>\n",
       "      <td>3.1</td>\n",
       "      <td>3.2</td>\n",
       "      <td>3.0</td>\n",
       "      <td>Setosa</td>\n",
       "      <td>5.8342</td>\n",
       "    </tr>\n",
       "    <tr>\n",
       "      <th>4</th>\n",
       "      <td>5.0</td>\n",
       "      <td>3.6</td>\n",
       "      <td>3.2</td>\n",
       "      <td>3.0</td>\n",
       "      <td>Setosa</td>\n",
       "      <td>6.7752</td>\n",
       "    </tr>\n",
       "  </tbody>\n",
       "</table>\n",
       "</div>"
      ],
      "text/plain": [
       "   sepal.length  sepal.width petal.length petal.width variety  sepal.SUM\n",
       "0           5.1          3.5          3.2         3.0  Setosa     6.5870\n",
       "1           4.9          3.0          3.2         3.0  Setosa     5.6460\n",
       "2           4.7          3.2          3.2         3.0  Setosa     6.0224\n",
       "3           4.6          3.1          3.2         3.0  Setosa     5.8342\n",
       "4           5.0          3.6          3.2         3.0  Setosa     6.7752"
      ]
     },
     "execution_count": 241,
     "metadata": {},
     "output_type": "execute_result"
    }
   ],
   "source": [
    "iris.head()"
   ]
  },
  {
   "cell_type": "code",
   "execution_count": 242,
   "id": "ed5719aa",
   "metadata": {},
   "outputs": [],
   "source": [
    "iris[\"sepal.Ratio\"] =iris[\"sepal.width\"] / iris[\"sepal.length\"]"
   ]
  },
  {
   "cell_type": "code",
   "execution_count": 244,
   "id": "5ef0b0d3",
   "metadata": {},
   "outputs": [
    {
     "data": {
      "text/html": [
       "<div>\n",
       "<style scoped>\n",
       "    .dataframe tbody tr th:only-of-type {\n",
       "        vertical-align: middle;\n",
       "    }\n",
       "\n",
       "    .dataframe tbody tr th {\n",
       "        vertical-align: top;\n",
       "    }\n",
       "\n",
       "    .dataframe thead th {\n",
       "        text-align: right;\n",
       "    }\n",
       "</style>\n",
       "<table border=\"1\" class=\"dataframe\">\n",
       "  <thead>\n",
       "    <tr style=\"text-align: right;\">\n",
       "      <th></th>\n",
       "      <th>sepal.length</th>\n",
       "      <th>sepal.width</th>\n",
       "      <th>petal.length</th>\n",
       "      <th>petal.width</th>\n",
       "      <th>variety</th>\n",
       "      <th>sepal.SUM</th>\n",
       "      <th>sepal.Ratio</th>\n",
       "    </tr>\n",
       "  </thead>\n",
       "  <tbody>\n",
       "    <tr>\n",
       "      <th>0</th>\n",
       "      <td>5.1</td>\n",
       "      <td>3.5</td>\n",
       "      <td>3.2</td>\n",
       "      <td>3.0</td>\n",
       "      <td>Setosa</td>\n",
       "      <td>6.5870</td>\n",
       "      <td>0.686275</td>\n",
       "    </tr>\n",
       "    <tr>\n",
       "      <th>1</th>\n",
       "      <td>4.9</td>\n",
       "      <td>3.0</td>\n",
       "      <td>3.2</td>\n",
       "      <td>3.0</td>\n",
       "      <td>Setosa</td>\n",
       "      <td>5.6460</td>\n",
       "      <td>0.612245</td>\n",
       "    </tr>\n",
       "    <tr>\n",
       "      <th>2</th>\n",
       "      <td>4.7</td>\n",
       "      <td>3.2</td>\n",
       "      <td>3.2</td>\n",
       "      <td>3.0</td>\n",
       "      <td>Setosa</td>\n",
       "      <td>6.0224</td>\n",
       "      <td>0.680851</td>\n",
       "    </tr>\n",
       "    <tr>\n",
       "      <th>3</th>\n",
       "      <td>4.6</td>\n",
       "      <td>3.1</td>\n",
       "      <td>3.2</td>\n",
       "      <td>3.0</td>\n",
       "      <td>Setosa</td>\n",
       "      <td>5.8342</td>\n",
       "      <td>0.673913</td>\n",
       "    </tr>\n",
       "    <tr>\n",
       "      <th>4</th>\n",
       "      <td>5.0</td>\n",
       "      <td>3.6</td>\n",
       "      <td>3.2</td>\n",
       "      <td>3.0</td>\n",
       "      <td>Setosa</td>\n",
       "      <td>6.7752</td>\n",
       "      <td>0.720000</td>\n",
       "    </tr>\n",
       "  </tbody>\n",
       "</table>\n",
       "</div>"
      ],
      "text/plain": [
       "   sepal.length  sepal.width petal.length petal.width variety  sepal.SUM  \\\n",
       "0           5.1          3.5          3.2         3.0  Setosa     6.5870   \n",
       "1           4.9          3.0          3.2         3.0  Setosa     5.6460   \n",
       "2           4.7          3.2          3.2         3.0  Setosa     6.0224   \n",
       "3           4.6          3.1          3.2         3.0  Setosa     5.8342   \n",
       "4           5.0          3.6          3.2         3.0  Setosa     6.7752   \n",
       "\n",
       "   sepal.Ratio  \n",
       "0     0.686275  \n",
       "1     0.612245  \n",
       "2     0.680851  \n",
       "3     0.673913  \n",
       "4     0.720000  "
      ]
     },
     "execution_count": 244,
     "metadata": {},
     "output_type": "execute_result"
    }
   ],
   "source": [
    "iris.head()"
   ]
  },
  {
   "cell_type": "markdown",
   "id": "05af8b8d",
   "metadata": {},
   "source": [
    "#### rename the data columns"
   ]
  },
  {
   "cell_type": "code",
   "execution_count": 253,
   "id": "9e504165",
   "metadata": {},
   "outputs": [],
   "source": [
    "iris_renamend = iris.rename(columns={\"sepal.Ratio\" : \"Test\"})"
   ]
  },
  {
   "cell_type": "code",
   "execution_count": 255,
   "id": "5ff93896",
   "metadata": {},
   "outputs": [
    {
     "data": {
      "text/html": [
       "<div>\n",
       "<style scoped>\n",
       "    .dataframe tbody tr th:only-of-type {\n",
       "        vertical-align: middle;\n",
       "    }\n",
       "\n",
       "    .dataframe tbody tr th {\n",
       "        vertical-align: top;\n",
       "    }\n",
       "\n",
       "    .dataframe thead th {\n",
       "        text-align: right;\n",
       "    }\n",
       "</style>\n",
       "<table border=\"1\" class=\"dataframe\">\n",
       "  <thead>\n",
       "    <tr style=\"text-align: right;\">\n",
       "      <th></th>\n",
       "      <th>sepal.length</th>\n",
       "      <th>sepal.width</th>\n",
       "      <th>petal.length</th>\n",
       "      <th>petal.width</th>\n",
       "      <th>variety</th>\n",
       "      <th>sepal.SUM</th>\n",
       "      <th>Test</th>\n",
       "    </tr>\n",
       "  </thead>\n",
       "  <tbody>\n",
       "    <tr>\n",
       "      <th>0</th>\n",
       "      <td>5.1</td>\n",
       "      <td>3.5</td>\n",
       "      <td>3.2</td>\n",
       "      <td>3.0</td>\n",
       "      <td>Setosa</td>\n",
       "      <td>6.5870</td>\n",
       "      <td>0.686275</td>\n",
       "    </tr>\n",
       "    <tr>\n",
       "      <th>1</th>\n",
       "      <td>4.9</td>\n",
       "      <td>3.0</td>\n",
       "      <td>3.2</td>\n",
       "      <td>3.0</td>\n",
       "      <td>Setosa</td>\n",
       "      <td>5.6460</td>\n",
       "      <td>0.612245</td>\n",
       "    </tr>\n",
       "    <tr>\n",
       "      <th>2</th>\n",
       "      <td>4.7</td>\n",
       "      <td>3.2</td>\n",
       "      <td>3.2</td>\n",
       "      <td>3.0</td>\n",
       "      <td>Setosa</td>\n",
       "      <td>6.0224</td>\n",
       "      <td>0.680851</td>\n",
       "    </tr>\n",
       "    <tr>\n",
       "      <th>3</th>\n",
       "      <td>4.6</td>\n",
       "      <td>3.1</td>\n",
       "      <td>3.2</td>\n",
       "      <td>3.0</td>\n",
       "      <td>Setosa</td>\n",
       "      <td>5.8342</td>\n",
       "      <td>0.673913</td>\n",
       "    </tr>\n",
       "    <tr>\n",
       "      <th>4</th>\n",
       "      <td>5.0</td>\n",
       "      <td>3.6</td>\n",
       "      <td>3.2</td>\n",
       "      <td>3.0</td>\n",
       "      <td>Setosa</td>\n",
       "      <td>6.7752</td>\n",
       "      <td>0.720000</td>\n",
       "    </tr>\n",
       "  </tbody>\n",
       "</table>\n",
       "</div>"
      ],
      "text/plain": [
       "   sepal.length  sepal.width petal.length petal.width variety  sepal.SUM  \\\n",
       "0           5.1          3.5          3.2         3.0  Setosa     6.5870   \n",
       "1           4.9          3.0          3.2         3.0  Setosa     5.6460   \n",
       "2           4.7          3.2          3.2         3.0  Setosa     6.0224   \n",
       "3           4.6          3.1          3.2         3.0  Setosa     5.8342   \n",
       "4           5.0          3.6          3.2         3.0  Setosa     6.7752   \n",
       "\n",
       "       Test  \n",
       "0  0.686275  \n",
       "1  0.612245  \n",
       "2  0.680851  \n",
       "3  0.673913  \n",
       "4  0.720000  "
      ]
     },
     "execution_count": 255,
     "metadata": {},
     "output_type": "execute_result"
    }
   ],
   "source": [
    "iris_renamend.head()"
   ]
  },
  {
   "cell_type": "markdown",
   "id": "4067b58c",
   "metadata": {},
   "source": [
    "#### calculate summary statistics"
   ]
  },
  {
   "cell_type": "code",
   "execution_count": 259,
   "id": "1ad1366c",
   "metadata": {},
   "outputs": [
    {
     "data": {
      "text/plain": [
       "3.057333333333334"
      ]
     },
     "execution_count": 259,
     "metadata": {},
     "output_type": "execute_result"
    }
   ],
   "source": [
    "iris[\"sepal.width\"].mean()"
   ]
  },
  {
   "cell_type": "code",
   "execution_count": 261,
   "id": "aaf957a8",
   "metadata": {},
   "outputs": [
    {
     "data": {
      "text/plain": [
       "3.0"
      ]
     },
     "execution_count": 261,
     "metadata": {},
     "output_type": "execute_result"
    }
   ],
   "source": [
    "iris[\"sepal.width\"].median()"
   ]
  },
  {
   "cell_type": "code",
   "execution_count": 266,
   "id": "aef1bce3",
   "metadata": {},
   "outputs": [
    {
     "data": {
      "text/plain": [
       "sepal.width     3.0\n",
       "sepal.length    5.8\n",
       "dtype: float64"
      ]
     },
     "execution_count": 266,
     "metadata": {},
     "output_type": "execute_result"
    }
   ],
   "source": [
    "iris[[\"sepal.width\",\"sepal.length\"]].median()"
   ]
  },
  {
   "cell_type": "code",
   "execution_count": 272,
   "id": "9cfc47d3",
   "metadata": {},
   "outputs": [
    {
     "data": {
      "text/html": [
       "<div>\n",
       "<style scoped>\n",
       "    .dataframe tbody tr th:only-of-type {\n",
       "        vertical-align: middle;\n",
       "    }\n",
       "\n",
       "    .dataframe tbody tr th {\n",
       "        vertical-align: top;\n",
       "    }\n",
       "\n",
       "    .dataframe thead th {\n",
       "        text-align: right;\n",
       "    }\n",
       "</style>\n",
       "<table border=\"1\" class=\"dataframe\">\n",
       "  <thead>\n",
       "    <tr style=\"text-align: right;\">\n",
       "      <th></th>\n",
       "      <th>sepal.width</th>\n",
       "      <th>sepal.length</th>\n",
       "    </tr>\n",
       "  </thead>\n",
       "  <tbody>\n",
       "    <tr>\n",
       "      <th>min</th>\n",
       "      <td>2.000000</td>\n",
       "      <td>4.300000</td>\n",
       "    </tr>\n",
       "    <tr>\n",
       "      <th>max</th>\n",
       "      <td>4.400000</td>\n",
       "      <td>7.900000</td>\n",
       "    </tr>\n",
       "    <tr>\n",
       "      <th>median</th>\n",
       "      <td>3.000000</td>\n",
       "      <td>5.800000</td>\n",
       "    </tr>\n",
       "    <tr>\n",
       "      <th>skew</th>\n",
       "      <td>0.318966</td>\n",
       "      <td>NaN</td>\n",
       "    </tr>\n",
       "    <tr>\n",
       "      <th>mean</th>\n",
       "      <td>NaN</td>\n",
       "      <td>5.843333</td>\n",
       "    </tr>\n",
       "  </tbody>\n",
       "</table>\n",
       "</div>"
      ],
      "text/plain": [
       "        sepal.width  sepal.length\n",
       "min        2.000000      4.300000\n",
       "max        4.400000      7.900000\n",
       "median     3.000000      5.800000\n",
       "skew       0.318966           NaN\n",
       "mean            NaN      5.843333"
      ]
     },
     "execution_count": 272,
     "metadata": {},
     "output_type": "execute_result"
    }
   ],
   "source": [
    "iris.agg(\n",
    "    {\n",
    "        \"sepal.width\": [\"min\", \"max\", \"median\", \"skew\"],\n",
    "         \"sepal.length\": [\"min\", \"max\", \"median\", \"mean\"],\n",
    "    }\n",
    ")"
   ]
  },
  {
   "cell_type": "code",
   "execution_count": 285,
   "id": "d3d82bd1",
   "metadata": {},
   "outputs": [
    {
     "ename": "TypeError",
     "evalue": "'method' object is not subscriptable",
     "output_type": "error",
     "traceback": [
      "\u001b[1;31m---------------------------------------------------------------------------\u001b[0m",
      "\u001b[1;31mTypeError\u001b[0m                                 Traceback (most recent call last)",
      "\u001b[1;32m~\\AppData\\Local\\Temp/ipykernel_10944/833286416.py\u001b[0m in \u001b[0;36m<module>\u001b[1;34m\u001b[0m\n\u001b[1;32m----> 1\u001b[1;33m \u001b[0miris\u001b[0m\u001b[1;33m.\u001b[0m\u001b[0mgroupby\u001b[0m\u001b[1;33m[\u001b[0m\u001b[1;34m\"petal.width\"\u001b[0m\u001b[1;33m]\u001b[0m\u001b[1;33m.\u001b[0m\u001b[0mmean\u001b[0m\u001b[1;33m(\u001b[0m\u001b[1;33m)\u001b[0m\u001b[1;33m\u001b[0m\u001b[1;33m\u001b[0m\u001b[0m\n\u001b[0m",
      "\u001b[1;31mTypeError\u001b[0m: 'method' object is not subscriptable"
     ]
    }
   ],
   "source": [
    "iris.groupby[\"petal.width\"].mean()"
   ]
  },
  {
   "cell_type": "code",
   "execution_count": 286,
   "id": "40e60918",
   "metadata": {},
   "outputs": [
    {
     "data": {
      "text/plain": [
       "' https://pandas.pydata.org/docs/user_guide/groupby.html#groupby '"
      ]
     },
     "execution_count": 286,
     "metadata": {},
     "output_type": "execute_result"
    }
   ],
   "source": [
    "''' https://pandas.pydata.org/docs/user_guide/groupby.html#groupby '''"
   ]
  },
  {
   "cell_type": "code",
   "execution_count": 288,
   "id": "56ca1124",
   "metadata": {},
   "outputs": [
    {
     "data": {
      "text/html": [
       "<div>\n",
       "<style scoped>\n",
       "    .dataframe tbody tr th:only-of-type {\n",
       "        vertical-align: middle;\n",
       "    }\n",
       "\n",
       "    .dataframe tbody tr th {\n",
       "        vertical-align: top;\n",
       "    }\n",
       "\n",
       "    .dataframe thead th {\n",
       "        text-align: right;\n",
       "    }\n",
       "</style>\n",
       "<table border=\"1\" class=\"dataframe\">\n",
       "  <thead>\n",
       "    <tr style=\"text-align: right;\">\n",
       "      <th></th>\n",
       "      <th>sepal.length</th>\n",
       "      <th>sepal.width</th>\n",
       "      <th>petal.length</th>\n",
       "      <th>petal.width</th>\n",
       "      <th>variety</th>\n",
       "    </tr>\n",
       "  </thead>\n",
       "  <tbody>\n",
       "    <tr>\n",
       "      <th>0</th>\n",
       "      <td>5.1</td>\n",
       "      <td>3.5</td>\n",
       "      <td>1.4</td>\n",
       "      <td>0.2</td>\n",
       "      <td>Setosa</td>\n",
       "    </tr>\n",
       "    <tr>\n",
       "      <th>27</th>\n",
       "      <td>5.2</td>\n",
       "      <td>3.5</td>\n",
       "      <td>1.5</td>\n",
       "      <td>0.2</td>\n",
       "      <td>Setosa</td>\n",
       "    </tr>\n",
       "    <tr>\n",
       "      <th>28</th>\n",
       "      <td>5.2</td>\n",
       "      <td>3.4</td>\n",
       "      <td>1.4</td>\n",
       "      <td>0.2</td>\n",
       "      <td>Setosa</td>\n",
       "    </tr>\n",
       "    <tr>\n",
       "      <th>29</th>\n",
       "      <td>4.7</td>\n",
       "      <td>3.2</td>\n",
       "      <td>1.6</td>\n",
       "      <td>0.2</td>\n",
       "      <td>Setosa</td>\n",
       "    </tr>\n",
       "    <tr>\n",
       "      <th>30</th>\n",
       "      <td>4.8</td>\n",
       "      <td>3.1</td>\n",
       "      <td>1.6</td>\n",
       "      <td>0.2</td>\n",
       "      <td>Setosa</td>\n",
       "    </tr>\n",
       "    <tr>\n",
       "      <th>...</th>\n",
       "      <td>...</td>\n",
       "      <td>...</td>\n",
       "      <td>...</td>\n",
       "      <td>...</td>\n",
       "      <td>...</td>\n",
       "    </tr>\n",
       "    <tr>\n",
       "      <th>119</th>\n",
       "      <td>6.0</td>\n",
       "      <td>2.2</td>\n",
       "      <td>5.0</td>\n",
       "      <td>1.5</td>\n",
       "      <td>Virginica</td>\n",
       "    </tr>\n",
       "    <tr>\n",
       "      <th>120</th>\n",
       "      <td>6.9</td>\n",
       "      <td>3.2</td>\n",
       "      <td>5.7</td>\n",
       "      <td>2.3</td>\n",
       "      <td>Virginica</td>\n",
       "    </tr>\n",
       "    <tr>\n",
       "      <th>121</th>\n",
       "      <td>5.6</td>\n",
       "      <td>2.8</td>\n",
       "      <td>4.9</td>\n",
       "      <td>2.0</td>\n",
       "      <td>Virginica</td>\n",
       "    </tr>\n",
       "    <tr>\n",
       "      <th>111</th>\n",
       "      <td>6.4</td>\n",
       "      <td>2.7</td>\n",
       "      <td>5.3</td>\n",
       "      <td>1.9</td>\n",
       "      <td>Virginica</td>\n",
       "    </tr>\n",
       "    <tr>\n",
       "      <th>149</th>\n",
       "      <td>5.9</td>\n",
       "      <td>3.0</td>\n",
       "      <td>5.1</td>\n",
       "      <td>1.8</td>\n",
       "      <td>Virginica</td>\n",
       "    </tr>\n",
       "  </tbody>\n",
       "</table>\n",
       "<p>150 rows × 5 columns</p>\n",
       "</div>"
      ],
      "text/plain": [
       "     sepal.length  sepal.width  petal.length  petal.width    variety\n",
       "0             5.1          3.5           1.4          0.2     Setosa\n",
       "27            5.2          3.5           1.5          0.2     Setosa\n",
       "28            5.2          3.4           1.4          0.2     Setosa\n",
       "29            4.7          3.2           1.6          0.2     Setosa\n",
       "30            4.8          3.1           1.6          0.2     Setosa\n",
       "..            ...          ...           ...          ...        ...\n",
       "119           6.0          2.2           5.0          1.5  Virginica\n",
       "120           6.9          3.2           5.7          2.3  Virginica\n",
       "121           5.6          2.8           4.9          2.0  Virginica\n",
       "111           6.4          2.7           5.3          1.9  Virginica\n",
       "149           5.9          3.0           5.1          1.8  Virginica\n",
       "\n",
       "[150 rows x 5 columns]"
      ]
     },
     "execution_count": 288,
     "metadata": {},
     "output_type": "execute_result"
    }
   ],
   "source": [
    "iris.sort_values(by=\"variety\")"
   ]
  },
  {
   "cell_type": "code",
   "execution_count": 289,
   "id": "6a671696",
   "metadata": {},
   "outputs": [
    {
     "data": {
      "text/html": [
       "<div>\n",
       "<style scoped>\n",
       "    .dataframe tbody tr th:only-of-type {\n",
       "        vertical-align: middle;\n",
       "    }\n",
       "\n",
       "    .dataframe tbody tr th {\n",
       "        vertical-align: top;\n",
       "    }\n",
       "\n",
       "    .dataframe thead th {\n",
       "        text-align: right;\n",
       "    }\n",
       "</style>\n",
       "<table border=\"1\" class=\"dataframe\">\n",
       "  <thead>\n",
       "    <tr style=\"text-align: right;\">\n",
       "      <th></th>\n",
       "      <th>sepal.length</th>\n",
       "      <th>sepal.width</th>\n",
       "      <th>petal.length</th>\n",
       "      <th>petal.width</th>\n",
       "      <th>variety</th>\n",
       "    </tr>\n",
       "  </thead>\n",
       "  <tbody>\n",
       "    <tr>\n",
       "      <th>15</th>\n",
       "      <td>5.7</td>\n",
       "      <td>4.4</td>\n",
       "      <td>1.5</td>\n",
       "      <td>0.4</td>\n",
       "      <td>Setosa</td>\n",
       "    </tr>\n",
       "    <tr>\n",
       "      <th>33</th>\n",
       "      <td>5.5</td>\n",
       "      <td>4.2</td>\n",
       "      <td>1.4</td>\n",
       "      <td>0.2</td>\n",
       "      <td>Setosa</td>\n",
       "    </tr>\n",
       "    <tr>\n",
       "      <th>32</th>\n",
       "      <td>5.2</td>\n",
       "      <td>4.1</td>\n",
       "      <td>1.5</td>\n",
       "      <td>0.1</td>\n",
       "      <td>Setosa</td>\n",
       "    </tr>\n",
       "    <tr>\n",
       "      <th>14</th>\n",
       "      <td>5.8</td>\n",
       "      <td>4.0</td>\n",
       "      <td>1.2</td>\n",
       "      <td>0.2</td>\n",
       "      <td>Setosa</td>\n",
       "    </tr>\n",
       "    <tr>\n",
       "      <th>5</th>\n",
       "      <td>5.4</td>\n",
       "      <td>3.9</td>\n",
       "      <td>1.7</td>\n",
       "      <td>0.4</td>\n",
       "      <td>Setosa</td>\n",
       "    </tr>\n",
       "  </tbody>\n",
       "</table>\n",
       "</div>"
      ],
      "text/plain": [
       "    sepal.length  sepal.width  petal.length  petal.width variety\n",
       "15           5.7          4.4           1.5          0.4  Setosa\n",
       "33           5.5          4.2           1.4          0.2  Setosa\n",
       "32           5.2          4.1           1.5          0.1  Setosa\n",
       "14           5.8          4.0           1.2          0.2  Setosa\n",
       "5            5.4          3.9           1.7          0.4  Setosa"
      ]
     },
     "execution_count": 289,
     "metadata": {},
     "output_type": "execute_result"
    }
   ],
   "source": [
    "iris.sort_values(by=['sepal.width', 'petal.width'], ascending=False).head()"
   ]
  },
  {
   "cell_type": "markdown",
   "id": "de8c6a4f",
   "metadata": {},
   "source": [
    "#### Concatenating "
   ]
  },
  {
   "cell_type": "code",
   "execution_count": 296,
   "id": "82c3d1f5",
   "metadata": {},
   "outputs": [
    {
     "ename": "SyntaxError",
     "evalue": "invalid syntax (Temp/ipykernel_10944/314446961.py, line 1)",
     "output_type": "error",
     "traceback": [
      "\u001b[1;36m  File \u001b[1;32m\"C:\\Users\\color\\AppData\\Local\\Temp/ipykernel_10944/314446961.py\"\u001b[1;36m, line \u001b[1;32m1\u001b[0m\n\u001b[1;33m    https://pandas.pydata.org/docs/getting_started/intro_tutorials/08_combine_dataframes.html\u001b[0m\n\u001b[1;37m          ^\u001b[0m\n\u001b[1;31mSyntaxError\u001b[0m\u001b[1;31m:\u001b[0m invalid syntax\n"
     ]
    }
   ],
   "source": [
    "https://pandas.pydata.org/docs/getting_started/intro_tutorials/08_combine_dataframes.html"
   ]
  }
 ],
 "metadata": {
  "kernelspec": {
   "display_name": "Python 3 (ipykernel)",
   "language": "python",
   "name": "python3"
  },
  "language_info": {
   "codemirror_mode": {
    "name": "ipython",
    "version": 3
   },
   "file_extension": ".py",
   "mimetype": "text/x-python",
   "name": "python",
   "nbconvert_exporter": "python",
   "pygments_lexer": "ipython3",
   "version": "3.8.12"
  }
 },
 "nbformat": 4,
 "nbformat_minor": 5
}
