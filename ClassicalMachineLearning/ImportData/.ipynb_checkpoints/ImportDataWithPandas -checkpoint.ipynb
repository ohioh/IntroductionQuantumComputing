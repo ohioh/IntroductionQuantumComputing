{
 "cells": [
  {
   "cell_type": "code",
   "execution_count": 1,
   "id": "5e784f33",
   "metadata": {},
   "outputs": [],
   "source": [
    "##########################################################################################################################\n",
    "#* \n",
    "#*   Import Data with Pandas\n",
    "#*   @author Tjark Ziehm\n",
    "#*   @version 0.01 25.11.2021\n",
    "#*\n",
    "#*   We all know about arrays from math or matrices. The way we can transform data are very similar and helpful to understand\n",
    "#*   them. This is an important Part of DataScience work and is influencing the result at our work result much.\n",
    "#*   Here we will now look how to import data from a file in a well form ( dataframe ). After this step we have to controll the\n",
    "#*   data in quality, maybe transform / splitt them and clean up. So lets start\n",
    "#*\n",
    "#*   @version pandas 1.3.0 \n",
    "#*\n",
    "##########################################################################################################################"
   ]
  },
  {
   "cell_type": "code",
   "execution_count": 28,
   "id": "4d3eeff1",
   "metadata": {},
   "outputs": [],
   "source": [
    "import pandas as pd\n",
    "import numpy as np"
   ]
  },
  {
   "cell_type": "code",
   "execution_count": 29,
   "id": "1dcdc8f0",
   "metadata": {},
   "outputs": [],
   "source": [
    "givenData = [ 1,3,5 ]  #The way how an array ( or list ) is represented in python [array] ( not numpy/pandas yet)\n",
    "givenData2 = [[2,3,4],[5,6,7],[8,9,10]]"
   ]
  },
  {
   "cell_type": "code",
   "execution_count": 30,
   "id": "7a768b7b",
   "metadata": {},
   "outputs": [
    {
     "name": "stdout",
     "output_type": "stream",
     "text": [
      "[1, 3, 5]\n"
     ]
    },
    {
     "data": {
      "text/plain": [
       "list"
      ]
     },
     "execution_count": 30,
     "metadata": {},
     "output_type": "execute_result"
    }
   ],
   "source": [
    "print(givenData)\n",
    "type(givenData)"
   ]
  },
  {
   "cell_type": "code",
   "execution_count": 9,
   "id": "5a7cf63f",
   "metadata": {},
   "outputs": [],
   "source": [
    "#Now lets make the array more powerfull with new dimension\n"
   ]
  },
  {
   "cell_type": "code",
   "execution_count": 31,
   "id": "1e56e460",
   "metadata": {},
   "outputs": [],
   "source": [
    "dim2Array = pd.array([[2,3,4],[5,6,7],[8,9,10]])"
   ]
  },
  {
   "cell_type": "code",
   "execution_count": 32,
   "id": "3e6e7e7a",
   "metadata": {},
   "outputs": [],
   "source": [
    "dim2ArrayfromPythonArray = pd.array(givenData2)"
   ]
  },
  {
   "cell_type": "code",
   "execution_count": null,
   "id": "c747f5cc",
   "metadata": {},
   "outputs": [],
   "source": [
    "# we are very free to define panda arrays as we need"
   ]
  },
  {
   "cell_type": "code",
   "execution_count": 33,
   "id": "01aaed32",
   "metadata": {},
   "outputs": [
    {
     "data": {
      "text/plain": [
       "<PandasArray>\n",
       "[[2, 3, 4], [5, 6, 7], [8, 9, 10]]\n",
       "Length: 3, dtype: object"
      ]
     },
     "execution_count": 33,
     "metadata": {},
     "output_type": "execute_result"
    }
   ],
   "source": [
    "dim2Array"
   ]
  },
  {
   "cell_type": "code",
   "execution_count": 34,
   "id": "d31b1784",
   "metadata": {},
   "outputs": [
    {
     "data": {
      "text/plain": [
       "<PandasArray>\n",
       "[[2, 3, 4], [5, 6, 7], [8, 9, 10]]\n",
       "Length: 3, dtype: object"
      ]
     },
     "execution_count": 34,
     "metadata": {},
     "output_type": "execute_result"
    }
   ],
   "source": [
    "dim2ArrayfromPythonArray"
   ]
  },
  {
   "cell_type": "code",
   "execution_count": 37,
   "id": "d5001de5",
   "metadata": {},
   "outputs": [],
   "source": [
    "# Not very challenging yet"
   ]
  },
  {
   "cell_type": "code",
   "execution_count": 38,
   "id": "09066f64",
   "metadata": {},
   "outputs": [],
   "source": [
    "#here we see about the need to connect the tool numpy and pandas"
   ]
  },
  {
   "cell_type": "code",
   "execution_count": 40,
   "id": "87d480f2",
   "metadata": {},
   "outputs": [],
   "source": [
    "column1 =  np.linspace(1,10,1)  #numpy create a list from 1 till 10 in steps of 1"
   ]
  },
  {
   "cell_type": "code",
   "execution_count": 42,
   "id": "74a944ec",
   "metadata": {},
   "outputs": [],
   "source": [
    "column2 = column1 * column1"
   ]
  },
  {
   "cell_type": "code",
   "execution_count": 41,
   "id": "904c6a58",
   "metadata": {},
   "outputs": [],
   "source": [
    "column3 =  np.sqrt(column1)"
   ]
  },
  {
   "cell_type": "code",
   "execution_count": null,
   "id": "5ac57db4",
   "metadata": {},
   "outputs": [],
   "source": []
  },
  {
   "cell_type": "code",
   "execution_count": null,
   "id": "5596be48",
   "metadata": {},
   "outputs": [],
   "source": []
  }
 ],
 "metadata": {
  "kernelspec": {
   "display_name": "Python 3 (ipykernel)",
   "language": "python",
   "name": "python3"
  },
  "language_info": {
   "codemirror_mode": {
    "name": "ipython",
    "version": 3
   },
   "file_extension": ".py",
   "mimetype": "text/x-python",
   "name": "python",
   "nbconvert_exporter": "python",
   "pygments_lexer": "ipython3",
   "version": "3.8.12"
  }
 },
 "nbformat": 4,
 "nbformat_minor": 5
}
