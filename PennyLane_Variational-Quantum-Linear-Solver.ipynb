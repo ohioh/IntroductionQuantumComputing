{
 "cells": [
  {
   "cell_type": "code",
   "execution_count": null,
   "id": "fa279e7b",
   "metadata": {},
   "outputs": [],
   "source": [
    "#####################################################################################\n",
    "#\n",
    "#    Variational Classifier for Iris DataSet\n",
    "#    Text: Tjark Ziehm\n",
    "#    Creater: Xanadu/Pennylane-Team\n",
    "#    Link: https://pennylane.ai/qml/demos/tutorial_variational_classifier.html\n",
    "#    https://arxiv.org/abs/1909.05820\n",
    "#    @Doc: Circuit-centric quantum classifiers\n",
    "#          https://arxiv.org/abs/1804.00633\n",
    "#    @Doc: Classification with Quantum Neural Networks on Near Term Processors \n",
    "#          https://arxiv.org/abs/1802.06002\n",
    "#    @Doc: Transformation of quantum states using uniformly controlled rotations\n",
    "#          https://arxiv.org/abs/quant-ph/0407010\n",
    "#\n",
    "#    @Start-Point: Check out weights and bias \n",
    "#####################################################################################"
   ]
  },
  {
   "cell_type": "code",
   "execution_count": 73,
   "id": "43812405",
   "metadata": {},
   "outputs": [],
   "source": [
    "import pennylane as qml\n",
    "from pennylane import numpy as np\n",
    "from pennylane.optimize import NesterovMomentumOptimizer\n",
    "import matplotlib.pyplot as plt"
   ]
  },
  {
   "cell_type": "code",
   "execution_count": 74,
   "id": "a407e4d4",
   "metadata": {},
   "outputs": [],
   "source": [
    "dev = qml.device(\"default.qubit\", wires=4)\n",
    "#dev = qml.device('qiskit.ibmq', wires=2, backend='ibmq_qasm_simulator', ibmqx_token=\"XXX\")\n",
    "#dev = qml.device('qiskit.ibmq', wires=2, backend='ibmq_belem', ibmq_token='296fc16080cc606c0bb86162f5457f196367d2724ca54e461e0f80289935ef5d65e889307678d1be77f04d024aabc1ecfc1a6e433d3c031ada645d6ffaed3f75', hub='ibm-q', group='open', project='main')\n",
    "#dev = qml.device('qiskit.ibmq', wires=4, backend='ibmq_belem', ibmq_token='296fc16080cc606c0bb86162f5457f196367d2724ca54e461e0f80289935ef5d65e889307678d1be77f04d024aabc1ecfc1a6e433d3c031ada645d6ffaed3f75', hub='ibm-q', group='open', project='main')"
   ]
  },
  {
   "cell_type": "code",
   "execution_count": 75,
   "id": "490960c8",
   "metadata": {},
   "outputs": [],
   "source": [
    "def layer(W):\n",
    "\n",
    "    qml.Rot(W[0, 0], W[0, 1], W[0, 2], wires=0)\n",
    "    qml.Rot(W[1, 0], W[1, 1], W[1, 2], wires=1)\n",
    "    qml.Rot(W[2, 0], W[2, 1], W[2, 2], wires=2)\n",
    "    qml.Rot(W[3, 0], W[3, 1], W[3, 2], wires=3)\n",
    "\n",
    "    #\n",
    "    qml.CNOT(wires=[0, 1])\n",
    "    qml.CNOT(wires=[1, 2])\n",
    "    qml.CNOT(wires=[2, 3])\n",
    "    qml.CNOT(wires=[3, 0])"
   ]
  },
  {
   "cell_type": "code",
   "execution_count": 76,
   "id": "baa8c8aa",
   "metadata": {},
   "outputs": [],
   "source": [
    "def statepreparation(x):\n",
    "    qml.BasisState(x, wires=[0, 1, 2, 3])"
   ]
  },
  {
   "cell_type": "code",
   "execution_count": 77,
   "id": "7082aba6",
   "metadata": {},
   "outputs": [],
   "source": [
    "@qml.qnode(dev)\n",
    "def circuit(weights, x):\n",
    "\n",
    "    statepreparation(x)\n",
    "\n",
    "    for W in weights:\n",
    "        layer(W)\n",
    "\n",
    "    return qml.expval(qml.PauliZ(0))"
   ]
  },
  {
   "cell_type": "code",
   "execution_count": 78,
   "id": "9e056e33",
   "metadata": {},
   "outputs": [],
   "source": [
    "def variational_classifier(weights, bias, x):\n",
    "    return circuit(weights, x) + bias"
   ]
  },
  {
   "cell_type": "markdown",
   "id": "e330ef89",
   "metadata": {},
   "source": [
    "####################################---COST---################################################"
   ]
  },
  {
   "cell_type": "code",
   "execution_count": 79,
   "id": "dd22d4c7",
   "metadata": {},
   "outputs": [],
   "source": [
    "def square_loss(labels, predictions):\n",
    "    loss = 0\n",
    "    for l, p in zip(labels, predictions):\n",
    "        loss = loss + (l - p) ** 2\n",
    "\n",
    "    loss = loss / len(labels)\n",
    "    return loss"
   ]
  },
  {
   "cell_type": "code",
   "execution_count": 80,
   "id": "f8e16ac4",
   "metadata": {},
   "outputs": [],
   "source": [
    "def accuracy(labels, predictions):\n",
    "    loss = 0\n",
    "    for l, p in zip(labels, predictions):\n",
    "        if abs(l - p) < 1e-5:\n",
    "            loss = loss + 1\n",
    "    loss = loss / len(labels)\n",
    "\n",
    "    return loss"
   ]
  },
  {
   "cell_type": "code",
   "execution_count": 81,
   "id": "8af1f679",
   "metadata": {},
   "outputs": [],
   "source": [
    "def cost(weights, bias, X, Y):\n",
    "    predictions = [variational_classifier(weights, bias, x) for x in X]\n",
    "    return square_loss(Y, predictions)"
   ]
  },
  {
   "cell_type": "markdown",
   "id": "d3a0e817",
   "metadata": {},
   "source": [
    "#############################################---OPTIMIZATION---#########################################"
   ]
  },
  {
   "cell_type": "code",
   "execution_count": 82,
   "id": "f9fa84a0",
   "metadata": {},
   "outputs": [
    {
     "name": "stdout",
     "output_type": "stream",
     "text": [
      "X = [0. 0. 0. 0.], Y = -1\n",
      "X = [0. 0. 0. 1.], Y =  1\n",
      "X = [0. 0. 1. 0.], Y =  1\n",
      "X = [0. 0. 1. 1.], Y = -1\n",
      "X = [0. 1. 0. 0.], Y =  1\n",
      "...\n"
     ]
    }
   ],
   "source": [
    "data = np.loadtxt(\"./DataSet/parity.txt\")\n",
    "\n",
    "X = np.array(data[:, :-1], requires_grad=False)\n",
    "Y = np.array(data[:, -1], requires_grad=False)\n",
    "Y = Y * 2 - np.ones(len(Y))  # shift label from {0, 1} to {-1, 1}\n",
    "\n",
    "for i in range(5):\n",
    "    print(\"X = {}, Y = {: d}\".format(X[i], int(Y[i])))\n",
    "\n",
    "print(\"...\")"
   ]
  },
  {
   "cell_type": "code",
   "execution_count": 83,
   "id": "340fe534",
   "metadata": {},
   "outputs": [
    {
     "name": "stdout",
     "output_type": "stream",
     "text": [
      "[[[ 0.01764052  0.00400157  0.00978738]\n",
      "  [ 0.02240893  0.01867558 -0.00977278]\n",
      "  [ 0.00950088 -0.00151357 -0.00103219]\n",
      "  [ 0.00410599  0.00144044  0.01454274]]\n",
      "\n",
      " [[ 0.00761038  0.00121675  0.00443863]\n",
      "  [ 0.00333674  0.01494079 -0.00205158]\n",
      "  [ 0.00313068 -0.00854096 -0.0255299 ]\n",
      "  [ 0.00653619  0.00864436 -0.00742165]]] 0.0\n"
     ]
    }
   ],
   "source": [
    "np.random.seed(0)\n",
    "num_qubits = 4\n",
    "num_layers = 2\n",
    "weights_init = 0.01 * np.random.randn(num_layers, num_qubits, 3, requires_grad=True)\n",
    "bias_init = np.array(0.0, requires_grad=True)\n",
    "\n",
    "print(weights_init, bias_init)"
   ]
  },
  {
   "cell_type": "code",
   "execution_count": 84,
   "id": "c5535d82",
   "metadata": {},
   "outputs": [],
   "source": [
    "opt = NesterovMomentumOptimizer(0.5)\n",
    "batch_size = 5"
   ]
  },
  {
   "cell_type": "code",
   "execution_count": 85,
   "id": "611e0a9d",
   "metadata": {},
   "outputs": [
    {
     "name": "stdout",
     "output_type": "stream",
     "text": [
      "Iter:     1 | Cost: 3.4316870 | Accuracy: 0.5000000 \n",
      "Iter:     2 | Cost: 1.9629282 | Accuracy: 0.5000000 \n",
      "Iter:     3 | Cost: 1.9031910 | Accuracy: 0.5000000 \n",
      "Iter:     4 | Cost: 1.4901403 | Accuracy: 0.5000000 \n",
      "Iter:     5 | Cost: 1.0419545 | Accuracy: 0.5625000 \n",
      "Iter:     6 | Cost: 1.1658436 | Accuracy: 0.5625000 \n",
      "Iter:     7 | Cost: 1.0753435 | Accuracy: 0.2500000 \n",
      "Iter:     8 | Cost: 1.0436117 | Accuracy: 0.5000000 \n",
      "Iter:     9 | Cost: 1.1603091 | Accuracy: 0.5000000 \n",
      "Iter:    10 | Cost: 1.5647173 | Accuracy: 0.5000000 \n",
      "Iter:    11 | Cost: 1.1816245 | Accuracy: 0.5625000 \n",
      "Iter:    12 | Cost: 1.2258440 | Accuracy: 0.5625000 \n",
      "Iter:    13 | Cost: 1.4274154 | Accuracy: 0.5000000 \n",
      "Iter:    14 | Cost: 1.1572937 | Accuracy: 0.5000000 \n",
      "Iter:    15 | Cost: 1.0808071 | Accuracy: 0.5000000 \n",
      "Iter:    16 | Cost: 1.1649666 | Accuracy: 0.5000000 \n",
      "Iter:    17 | Cost: 1.0913943 | Accuracy: 0.5000000 \n",
      "Iter:    18 | Cost: 1.0378557 | Accuracy: 0.5000000 \n",
      "Iter:    19 | Cost: 0.9384940 | Accuracy: 0.5000000 \n",
      "Iter:    20 | Cost: 1.1848015 | Accuracy: 0.5000000 \n",
      "Iter:    21 | Cost: 0.8862833 | Accuracy: 0.6250000 \n",
      "Iter:    22 | Cost: 0.9887387 | Accuracy: 0.5000000 \n",
      "Iter:    23 | Cost: 0.5190163 | Accuracy: 1.0000000 \n",
      "Iter:    24 | Cost: 0.1339147 | Accuracy: 1.0000000 \n",
      "Iter:    25 | Cost: 0.0474970 | Accuracy: 1.0000000 \n"
     ]
    }
   ],
   "source": [
    "weights = weights_init\n",
    "bias = bias_init\n",
    "\n",
    "for it in range(25):\n",
    "\n",
    "    # Update the weights by one optimizer step\n",
    "    batch_index = np.random.randint(0, len(X), (batch_size,))\n",
    "    X_batch = X[batch_index]\n",
    "    Y_batch = Y[batch_index]\n",
    "    weights, bias, _, _ = opt.step(cost, weights, bias, X_batch, Y_batch)\n",
    "\n",
    "    # Compute accuracy\n",
    "    predictions = [np.sign(variational_classifier(weights, bias, x)) for x in X]\n",
    "    acc = accuracy(Y, predictions)\n",
    "\n",
    "    print(\n",
    "        \"Iter: {:5d} | Cost: {:0.7f} | Accuracy: {:0.7f} \".format(\n",
    "            it + 1, cost(weights, bias, X, Y), acc\n",
    "        )\n",
    "    )"
   ]
  },
  {
   "cell_type": "markdown",
   "id": "7526fdea",
   "metadata": {},
   "source": [
    "#################################---Iris classification---#############################################"
   ]
  },
  {
   "cell_type": "code",
   "execution_count": 36,
   "id": "fcbed12c",
   "metadata": {},
   "outputs": [],
   "source": [
    "dev = qml.device(\"default.qubit\", wires=2)"
   ]
  },
  {
   "cell_type": "markdown",
   "id": "40a21860",
   "metadata": {},
   "source": [
    "## qml.RY\n",
    "@Documentation: https://pennylane.readthedocs.io/en/stable/code/api/pennylane.RY.html?highlight=ry#pennylane.RY\n",
    "\n",
    " class RY(phi, wires)[source]\n",
    "\n",
    "    Bases: pennylane.operation.Operation\n",
    "\n",
    "    The single qubit Y rotation\n",
    "    Ry(ϕ)=e−iϕσy/2=[cos(ϕ/2)−sin(ϕ/2)sin(ϕ/2)cos(ϕ/2)].\n",
    "\n",
    "Details:\n",
    "\n",
    "    Number of wires: 1\n",
    "\n",
    "    Number of parameters: 1\n",
    "\n",
    "    Gradient recipe: ddϕf(Ry(ϕ))=12[f(Ry(ϕ+π/2))−f(Ry(ϕ−π/2))]\n",
    "\n",
    "where f is an expectation value depending on Ry(ϕ)\n",
    "\n",
    "    .\n",
    "\n",
    "Parameters\n",
    "\n",
    "        phi (float) – rotation angle ϕ\n",
    "\n",
    "wires (Sequence[int] or int) – the wire the operation acts on"
   ]
  },
  {
   "attachments": {
    "image.png": {
     "image/png": "[encoded data removed]"
    }
   },
   "cell_type": "markdown",
   "id": "0a2769b9",
   "metadata": {},
   "source": [
    "## PauliX\n",
    "@Documenation: \n",
    "https://pennylane.readthedocs.io/en/stable/code/api/pennylane.PauliX.html?highlight=paulix#qml-paulix\n",
    "\n",
    "Bases: pennylane.operation.Observable, pennylane.operation.Operation\n",
    "\n",
    "The Pauli X operator\n",
    "\n",
    "\n",
    "Details:\n",
    "\n",
    "    Number of wires: 1\n",
    "\n",
    "    Number of parameters: 0\n",
    "\n",
    "Parameters\n",
    "\n",
    "    wires (Sequence[int] or int) – the wire the operation acts on\n",
    "![image.png](attachment:image.png)"
   ]
  },
  {
   "cell_type": "code",
   "execution_count": 37,
   "id": "f8c23233",
   "metadata": {},
   "outputs": [],
   "source": [
    "def get_angles(x):\n",
    "\n",
    "    beta0 = 2 * np.arcsin(np.sqrt(x[1] ** 2) / np.sqrt(x[0] ** 2 + x[1] ** 2 + 1e-12))\n",
    "    beta1 = 2 * np.arcsin(np.sqrt(x[3] ** 2) / np.sqrt(x[2] ** 2 + x[3] ** 2 + 1e-12))\n",
    "    beta2 = 2 * np.arcsin(\n",
    "        np.sqrt(x[2] ** 2 + x[3] ** 2)\n",
    "        / np.sqrt(x[0] ** 2 + x[1] ** 2 + x[2] ** 2 + x[3] ** 2)\n",
    "    )\n",
    "\n",
    "    return np.array([beta2, -beta1 / 2, beta1 / 2, -beta0 / 2, beta0 / 2])\n",
    "\n",
    "\n",
    "def statepreparation(a):\n",
    "    qml.RY(a[0], wires=0)\n",
    "\n",
    "    qml.CNOT(wires=[0, 1])\n",
    "    qml.RY(a[1], wires=1)\n",
    "    qml.CNOT(wires=[0, 1])\n",
    "    qml.RY(a[2], wires=1)\n",
    "\n",
    "    qml.PauliX(wires=0)\n",
    "    qml.CNOT(wires=[0, 1])\n",
    "    qml.RY(a[3], wires=1)\n",
    "    qml.CNOT(wires=[0, 1])\n",
    "    qml.RY(a[4], wires=1)\n",
    "    qml.PauliX(wires=0)"
   ]
  },
  {
   "cell_type": "code",
   "execution_count": 67,
   "id": "93b1d0db",
   "metadata": {},
   "outputs": [
    {
     "name": "stdout",
     "output_type": "stream",
     "text": [
      "x               :  [0.53896774 0.79503606 0.27826503 0.        ]\n",
      "angles          :  [ 0.56397465 -0.          0.         -0.97504604  0.97504604]\n",
      "amplitude vector:  [ 5.38967743e-01  7.95036065e-01  2.78265032e-01 -2.77555756e-17]\n"
     ]
    }
   ],
   "source": [
    "x = np.array([0.53896774, 0.79503606, 0.27826503, 0.0], requires_grad=False)\n",
    "ang = get_angles(x)\n",
    "\n",
    "\n",
    "@qml.qnode(dev)\n",
    "def test(angles):\n",
    "\n",
    "    statepreparation(angles)\n",
    "\n",
    "    return qml.expval(qml.PauliZ(0))\n",
    "\n",
    "\n",
    "test(ang)\n",
    "\n",
    "print(\"x               : \", x)\n",
    "print(\"angles          : \", ang)\n",
    "print(\"amplitude vector: \", np.real(dev.state))"
   ]
  },
  {
   "cell_type": "markdown",
   "id": "c6b28498",
   "metadata": {},
   "source": [
    "## qml.Rot\n",
    "@Documenation: https://pennylane.readthedocs.io/en/stable/code/api/pennylane.Rot.html?highlight=qml%20rot#pennylane.Rot\n",
    "        \n",
    "        class Rot(phi, theta, omega, wires)[source]\n",
    "\n",
    "    Bases: pennylane.operation.Operation\n",
    "\n",
    "    Arbitrary single qubit rotation\n",
    "    R(ϕ,θ,ω)=RZ(ω)RY(θ)RZ(ϕ)=[e−i(ϕ+ω)/2cos(θ/2)−ei(ϕ−ω)/2sin(θ/2)e−i(ϕ−ω)/2sin(θ/2)ei(ϕ+ω)/2cos(θ/2)].\n",
    "\n",
    "Details:\n",
    "\n",
    "    Number of wires: 1\n",
    "\n",
    "    Number of parameters: 3\n",
    "\n",
    "    Gradient recipe: ddϕf(R(ϕ,θ,ω))=12[f(R(ϕ+π/2,θ,ω))−f(R(ϕ−π/2,θ,ω))]\n",
    "\n",
    "where f is an expectation value depending on R(ϕ,θ,ω). This gradient recipe applies for each angle argument {ϕ,θ,ω}. "
   ]
  },
  {
   "attachments": {
    "image.png": {
     "image/png": "[encoded data removed]"
    }
   },
   "cell_type": "markdown",
   "id": "134543e4",
   "metadata": {},
   "source": [
    "## CNOT \n",
    "@Documentation: https://pennylane.readthedocs.io/en/stable/code/api/pennylane.CNOT.html?highlight=cnot#pennylane.CNOT\n",
    "\n",
    "![image.png](attachment:image.png)"
   ]
  },
  {
   "cell_type": "code",
   "execution_count": 39,
   "id": "4468e2e1",
   "metadata": {},
   "outputs": [],
   "source": [
    "def layer(W):\n",
    "    qml.Rot(W[0, 0], W[0, 1], W[0, 2], wires=0)\n",
    "    qml.Rot(W[1, 0], W[1, 1], W[1, 2], wires=1)\n",
    "    qml.CNOT(wires=[0, 1])"
   ]
  },
  {
   "cell_type": "markdown",
   "id": "7f2f4034",
   "metadata": {},
   "source": [
    "## expval\n",
    "@Documentation: https://pennylane.readthedocs.io/en/stable/code/api/pennylane.Device.html?highlight=expval#pennylane.Device.expval\n",
    " \n",
    " abstract expval(observable, wires, par)[source]\n",
    "\n",
    "    Returns the expectation value of observable on specified wires.\n",
    "\n",
    "    Note: all arguments accept _lists_, which indicate a tensor product of observables.\n",
    "\n",
    "    Parameters\n",
    "\n",
    "            observable (str or list[str]) – name of the observable(s)\n",
    "\n",
    "            wires (Wires) – wires the observable(s) are to be measured on\n",
    "\n",
    "            par (tuple or list[tuple]]) – parameters for the observable(s)\n",
    "\n",
    "    Returns\n",
    "\n",
    "        expectation value ⟨A⟩=⟨ψ|A|ψ⟩\n",
    "\n",
    "Return type\n",
    "\n",
    "    float\n"
   ]
  },
  {
   "cell_type": "markdown",
   "id": "842eff5d",
   "metadata": {},
   "source": [
    "## qml.PauliZ\n",
    "@Documentation:https://pennylane.readthedocs.io/en/stable/code/api/pennylane.PauliZ.html?highlight=qml%20pauliz#pennylane.PauliZ"
   ]
  },
  {
   "cell_type": "code",
   "execution_count": 40,
   "id": "e2c9e5fc",
   "metadata": {},
   "outputs": [],
   "source": [
    "@qml.qnode(dev)\n",
    "\n",
    "def circuit(weights, angles):\n",
    "    statepreparation(angles)\n",
    "\n",
    "    for W in weights:\n",
    "        layer(W)\n",
    "\n",
    "    return qml.expval(qml.PauliZ(0))\n",
    "\n",
    "\n",
    "def variational_classifier(weights, bias, angles):\n",
    "    return circuit(weights, angles) + bias\n",
    "\n",
    "\n",
    "def cost(weights, bias, features, labels):\n",
    "    predictions = [variational_classifier(weights, bias, f) for f in features]\n",
    "    return square_loss(labels, predictions)\n",
    "\n"
   ]
  },
  {
   "cell_type": "markdown",
   "id": "29da2770",
   "metadata": {},
   "source": [
    "#######################################---DATA---######################################################\n"
   ]
  },
  {
   "cell_type": "code",
   "execution_count": 62,
   "id": "f70dde3f",
   "metadata": {},
   "outputs": [
    {
     "name": "stdout",
     "output_type": "stream",
     "text": [
      "First X sample (original)  : [0.4  0.75]\n",
      "First X sample (padded)    : [0.4  0.75 0.3  0.  ]\n",
      "First X sample (normalized): [0.44376016 0.83205029 0.33282012 0.        ]\n",
      "First features sample      : [ 0.67858523 -0.          0.         -1.080839    1.080839  ]\n"
     ]
    }
   ],
   "source": [
    "data = np.loadtxt(\"iris_classes1and2_scaled.txt\")\n",
    "X = data[:, 0:2]\n",
    "print(\"First X sample (original)  :\", X[0])\n",
    "\n",
    "# pad the vectors to size 2^2 with constant values\n",
    "padding = 0.3 * np.ones((len(X), 1))\n",
    "X_pad = np.c_[np.c_[X, padding], np.zeros((len(X), 1))]\n",
    "print(\"First X sample (padded)    :\", X_pad[0])\n",
    "\n",
    "# normalize each input\n",
    "normalization = np.sqrt(np.sum(X_pad ** 2, -1))\n",
    "X_norm = (X_pad.T / normalization).T\n",
    "print(\"First X sample (normalized):\", X_norm[0])\n",
    "\n",
    "# angles for state preparation are new features\n",
    "features = np.array([get_angles(x) for x in X_norm], requires_grad=False)\n",
    "print(\"First features sample      :\", features[0])\n",
    "\n",
    "Y = data[:, -1]"
   ]
  },
  {
   "cell_type": "code",
   "execution_count": 66,
   "id": "3d358afb",
   "metadata": {},
   "outputs": [
    {
     "data": {
      "image/png": "[encoded data removed]",
      "text/plain": [
       "<Figure size 432x288 with 1 Axes>"
      ]
     },
     "metadata": {},
     "output_type": "display_data"
    },
    {
     "data": {
      "image/png": "[encoded data removed]",
      "text/plain": [
       "<Figure size 432x288 with 1 Axes>"
      ]
     },
     "metadata": {},
     "output_type": "display_data"
    },
    {
     "data": {
      "image/png": "[encoded data removed]",
      "text/plain": [
       "<Figure size 432x288 with 1 Axes>"
      ]
     },
     "metadata": {},
     "output_type": "display_data"
    }
   ],
   "source": [
    "################################---ORIGINAL DATA---##################################################\n",
    "plt.figure()\n",
    "plt.scatter(X[:, 0][Y == 1], X[:, 1][Y == 1], c=\"b\", marker=\"o\", edgecolors=\"k\")\n",
    "plt.scatter(X[:, 0][Y == -1], X[:, 1][Y == -1], c=\"r\", marker=\"o\", edgecolors=\"k\")\n",
    "plt.title(\"Original data\")\n",
    "plt.show()\n",
    "\n",
    "plt.figure()\n",
    "dim1 = 0\n",
    "dim2 = 1\n",
    "\n",
    "\n",
    "####################################---Padded and normalised data---#######################################################\n",
    "plt.scatter(\n",
    "    X_norm[:, dim1][Y == 1], X_norm[:, dim2][Y == 1], c=\"b\", marker=\"o\", edgecolors=\"k\"\n",
    ")\n",
    "plt.scatter(\n",
    "    X_norm[:, dim1][Y == -1], X_norm[:, dim2][Y == -1], c=\"r\", marker=\"o\", edgecolors=\"k\"\n",
    ")\n",
    "plt.title(\"Padded and normalised data (dims {} and {})\".format(dim1, dim2))\n",
    "plt.show()\n",
    "\n",
    "\n",
    "#######################################---Feature vectors ---#############################################################\n",
    "plt.figure()\n",
    "dim1 = 0\n",
    "dim2 = 3\n",
    "plt.scatter(\n",
    "    features[:, dim1][Y == 1], features[:, dim2][Y == 1], c=\"b\", marker=\"o\", edgecolors=\"k\"\n",
    ")\n",
    "\n",
    "plt.scatter(\n",
    "    features[:, dim1][Y == -1], features[:, dim2][Y == -1], c=\"r\", marker=\"o\", edgecolors=\"k\"\n",
    ")\n",
    "plt.title(\"Feature vectors (dims {} and {})\".format(dim1, dim2))\n",
    "plt.show()"
   ]
  },
  {
   "cell_type": "code",
   "execution_count": 44,
   "id": "ba112b53",
   "metadata": {},
   "outputs": [],
   "source": [
    "np.random.seed(0)\n",
    "num_data = len(Y)\n",
    "num_train = int(0.75 * num_data)\n",
    "\n",
    "index = np.random.permutation(range(num_data))\n",
    "\n",
    "feats_train = features[index[:num_train]]\n",
    "Y_train = Y[index[:num_train]]\n",
    "feats_val = features[index[num_train:]]\n",
    "Y_val = Y[index[num_train:]]\n",
    "\n",
    "# We need these later for plotting\n",
    "X_train = X[index[:num_train]]\n",
    "X_val = X[index[num_train:]]\n",
    "\n"
   ]
  },
  {
   "cell_type": "markdown",
   "id": "201bab59",
   "metadata": {},
   "source": [
    "################################################---Optimization---#####################################\n"
   ]
  },
  {
   "cell_type": "code",
   "execution_count": 45,
   "id": "da9bc295",
   "metadata": {},
   "outputs": [],
   "source": [
    "num_qubits = 2\n",
    "num_layers = 6\n",
    "\n",
    "weights_init = 0.01 * np.random.randn(num_layers, num_qubits, 3, requires_grad=True)\n",
    "bias_init = np.array(0.0, requires_grad=True)"
   ]
  },
  {
   "cell_type": "code",
   "execution_count": 46,
   "id": "b5152e90",
   "metadata": {},
   "outputs": [
    {
     "name": "stdout",
     "output_type": "stream",
     "text": [
      "Iter:     1 | Cost: 1.4449876 | Acc train: 0.4933333 | Acc validation: 0.5600000 \n",
      "Iter:     2 | Cost: 1.3288168 | Acc train: 0.4933333 | Acc validation: 0.5600000 \n",
      "Iter:     3 | Cost: 1.1438640 | Acc train: 0.4666667 | Acc validation: 0.5600000 \n",
      "Iter:     4 | Cost: 0.9629895 | Acc train: 0.4933333 | Acc validation: 0.6000000 \n",
      "Iter:     5 | Cost: 0.8777729 | Acc train: 0.6266667 | Acc validation: 0.8000000 \n",
      "Iter:     6 | Cost: 0.8555420 | Acc train: 0.6933333 | Acc validation: 0.7600000 \n",
      "Iter:     7 | Cost: 0.8482482 | Acc train: 0.6933333 | Acc validation: 0.6400000 \n",
      "Iter:     8 | Cost: 0.8176933 | Acc train: 0.7066667 | Acc validation: 0.6400000 \n",
      "Iter:     9 | Cost: 0.8393902 | Acc train: 0.6000000 | Acc validation: 0.6400000 \n",
      "Iter:    10 | Cost: 0.8793692 | Acc train: 0.5333333 | Acc validation: 0.4400000 \n",
      "Iter:    11 | Cost: 0.9425004 | Acc train: 0.5200000 | Acc validation: 0.4400000 \n",
      "Iter:    12 | Cost: 0.9176394 | Acc train: 0.5200000 | Acc validation: 0.4400000 \n",
      "Iter:    13 | Cost: 0.8477939 | Acc train: 0.5333333 | Acc validation: 0.4800000 \n",
      "Iter:    14 | Cost: 0.7779621 | Acc train: 0.6533333 | Acc validation: 0.5600000 \n",
      "Iter:    15 | Cost: 0.7286028 | Acc train: 0.8933333 | Acc validation: 0.9600000 \n",
      "Iter:    16 | Cost: 0.7405859 | Acc train: 0.8266667 | Acc validation: 0.9200000 \n",
      "Iter:    17 | Cost: 0.7719512 | Acc train: 0.6666667 | Acc validation: 0.7200000 \n",
      "Iter:    18 | Cost: 0.8163515 | Acc train: 0.6400000 | Acc validation: 0.6400000 \n",
      "Iter:    19 | Cost: 0.8514615 | Acc train: 0.6133333 | Acc validation: 0.6000000 \n",
      "Iter:    20 | Cost: 0.8229288 | Acc train: 0.6533333 | Acc validation: 0.6400000 \n",
      "Iter:    21 | Cost: 0.7660915 | Acc train: 0.7200000 | Acc validation: 0.7600000 \n",
      "Iter:    22 | Cost: 0.7325217 | Acc train: 0.8266667 | Acc validation: 0.8800000 \n",
      "Iter:    23 | Cost: 0.7208242 | Acc train: 0.9066667 | Acc validation: 0.9600000 \n",
      "Iter:    24 | Cost: 0.7441354 | Acc train: 0.6266667 | Acc validation: 0.5200000 \n",
      "Iter:    25 | Cost: 0.8269789 | Acc train: 0.5200000 | Acc validation: 0.4400000 \n",
      "Iter:    26 | Cost: 0.8649807 | Acc train: 0.5200000 | Acc validation: 0.4400000 \n",
      "Iter:    27 | Cost: 0.8309270 | Acc train: 0.5200000 | Acc validation: 0.4400000 \n",
      "Iter:    28 | Cost: 0.7818150 | Acc train: 0.5600000 | Acc validation: 0.4800000 \n",
      "Iter:    29 | Cost: 0.7266230 | Acc train: 0.7066667 | Acc validation: 0.6800000 \n",
      "Iter:    30 | Cost: 0.6909544 | Acc train: 0.8666667 | Acc validation: 0.8000000 \n",
      "Iter:    31 | Cost: 0.6851911 | Acc train: 0.9066667 | Acc validation: 0.9200000 \n",
      "Iter:    32 | Cost: 0.6809084 | Acc train: 0.8800000 | Acc validation: 1.0000000 \n",
      "Iter:    33 | Cost: 0.6996602 | Acc train: 0.7733333 | Acc validation: 0.8000000 \n",
      "Iter:    34 | Cost: 0.7178726 | Acc train: 0.6933333 | Acc validation: 0.7600000 \n",
      "Iter:    35 | Cost: 0.7064017 | Acc train: 0.7866667 | Acc validation: 0.7600000 \n",
      "Iter:    36 | Cost: 0.6833334 | Acc train: 0.7866667 | Acc validation: 0.8000000 \n",
      "Iter:    37 | Cost: 0.6637393 | Acc train: 0.8666667 | Acc validation: 0.9600000 \n",
      "Iter:    38 | Cost: 0.6299606 | Acc train: 0.9333333 | Acc validation: 1.0000000 \n",
      "Iter:    39 | Cost: 0.6241087 | Acc train: 0.9200000 | Acc validation: 0.9600000 \n",
      "Iter:    40 | Cost: 0.6217834 | Acc train: 0.8933333 | Acc validation: 0.8400000 \n",
      "Iter:    41 | Cost: 0.6101126 | Acc train: 0.8800000 | Acc validation: 0.8000000 \n",
      "Iter:    42 | Cost: 0.5916136 | Acc train: 0.8800000 | Acc validation: 0.8400000 \n",
      "Iter:    43 | Cost: 0.5810581 | Acc train: 0.8533333 | Acc validation: 0.8800000 \n",
      "Iter:    44 | Cost: 0.5608579 | Acc train: 0.9333333 | Acc validation: 1.0000000 \n",
      "Iter:    45 | Cost: 0.5633935 | Acc train: 0.9733333 | Acc validation: 1.0000000 \n",
      "Iter:    46 | Cost: 0.5546930 | Acc train: 0.9733333 | Acc validation: 0.9200000 \n",
      "Iter:    47 | Cost: 0.5519526 | Acc train: 0.9600000 | Acc validation: 0.9200000 \n",
      "Iter:    48 | Cost: 0.5990946 | Acc train: 0.7600000 | Acc validation: 0.8800000 \n",
      "Iter:    49 | Cost: 0.6222323 | Acc train: 0.6933333 | Acc validation: 0.7200000 \n",
      "Iter:    50 | Cost: 0.6030290 | Acc train: 0.7200000 | Acc validation: 0.7600000 \n",
      "Iter:    51 | Cost: 0.5109908 | Acc train: 0.9466667 | Acc validation: 0.9200000 \n",
      "Iter:    52 | Cost: 0.4514927 | Acc train: 1.0000000 | Acc validation: 1.0000000 \n",
      "Iter:    53 | Cost: 0.4171121 | Acc train: 0.9866667 | Acc validation: 1.0000000 \n",
      "Iter:    54 | Cost: 0.3954177 | Acc train: 0.9333333 | Acc validation: 0.9600000 \n",
      "Iter:    55 | Cost: 0.4116009 | Acc train: 0.8933333 | Acc validation: 0.8800000 \n",
      "Iter:    56 | Cost: 0.4091115 | Acc train: 0.8800000 | Acc validation: 0.8800000 \n",
      "Iter:    57 | Cost: 0.4171586 | Acc train: 0.8933333 | Acc validation: 0.8400000 \n",
      "Iter:    58 | Cost: 0.4088247 | Acc train: 0.8933333 | Acc validation: 0.8400000 \n",
      "Iter:    59 | Cost: 0.3852078 | Acc train: 0.8933333 | Acc validation: 0.8400000 \n",
      "Iter:    60 | Cost: 0.3664819 | Acc train: 0.9066667 | Acc validation: 0.8400000 \n"
     ]
    }
   ],
   "source": [
    "opt = NesterovMomentumOptimizer(0.01)\n",
    "batch_size = 5\n",
    "\n",
    "# train the variational classifier\n",
    "weights = weights_init\n",
    "bias = bias_init\n",
    "for it in range(60):\n",
    "\n",
    "    # Update the weights by one optimizer step\n",
    "    batch_index = np.random.randint(0, num_train, (batch_size,))\n",
    "    feats_train_batch = feats_train[batch_index]\n",
    "    Y_train_batch = Y_train[batch_index]\n",
    "    weights, bias, _, _ = opt.step(cost, weights, bias, feats_train_batch, Y_train_batch)\n",
    "\n",
    "    # Compute predictions on train and validation set\n",
    "    predictions_train = [np.sign(variational_classifier(weights, bias, f)) for f in feats_train]\n",
    "    predictions_val = [np.sign(variational_classifier(weights, bias, f)) for f in feats_val]\n",
    "\n",
    "    # Compute accuracy on train and validation set\n",
    "    acc_train = accuracy(Y_train, predictions_train)\n",
    "    acc_val = accuracy(Y_val, predictions_val)\n",
    "\n",
    "    print(\n",
    "        \"Iter: {:5d} | Cost: {:0.7f} | Acc train: {:0.7f} | Acc validation: {:0.7f} \"\n",
    "        \"\".format(it + 1, cost(weights, bias, features, Y), acc_train, acc_val)\n",
    "    )"
   ]
  },
  {
   "cell_type": "code",
   "execution_count": 47,
   "id": "0ba510ea",
   "metadata": {},
   "outputs": [
    {
     "name": "stdout",
     "output_type": "stream",
     "text": [
      "Iter:     1 | Cost: 1.4704972 | Acc train: 0.4933333 | Acc validation: 0.5600000 \n",
      "Iter:     2 | Cost: 1.3860199 | Acc train: 0.4933333 | Acc validation: 0.5600000 \n",
      "Iter:     3 | Cost: 1.2558518 | Acc train: 0.4800000 | Acc validation: 0.5600000 \n",
      "Iter:     4 | Cost: 1.1445366 | Acc train: 0.4533333 | Acc validation: 0.5600000 \n",
      "Iter:     5 | Cost: 1.0190900 | Acc train: 0.4933333 | Acc validation: 0.5600000 \n",
      "Iter:     6 | Cost: 0.9136252 | Acc train: 0.5600000 | Acc validation: 0.6000000 \n",
      "Iter:     7 | Cost: 0.8675915 | Acc train: 0.5733333 | Acc validation: 0.7600000 \n",
      "Iter:     8 | Cost: 0.8246878 | Acc train: 0.7333333 | Acc validation: 0.7600000 \n",
      "Iter:     9 | Cost: 0.8076533 | Acc train: 0.7466667 | Acc validation: 0.8400000 \n",
      "Iter:    10 | Cost: 0.7896491 | Acc train: 0.8133333 | Acc validation: 0.8800000 \n",
      "Iter:    11 | Cost: 0.7647349 | Acc train: 0.8000000 | Acc validation: 0.8400000 \n",
      "Iter:    12 | Cost: 0.7708343 | Acc train: 0.8000000 | Acc validation: 0.6800000 \n",
      "Iter:    13 | Cost: 0.7698876 | Acc train: 0.7600000 | Acc validation: 0.7200000 \n",
      "Iter:    14 | Cost: 0.7398649 | Acc train: 0.8533333 | Acc validation: 0.7200000 \n",
      "Iter:    15 | Cost: 0.7227598 | Acc train: 0.8666667 | Acc validation: 1.0000000 \n",
      "Iter:    16 | Cost: 0.7221025 | Acc train: 0.8133333 | Acc validation: 0.9200000 \n",
      "Iter:    17 | Cost: 0.7393154 | Acc train: 0.7600000 | Acc validation: 0.7600000 \n",
      "Iter:    18 | Cost: 0.7254268 | Acc train: 0.7866667 | Acc validation: 0.8800000 \n",
      "Iter:    19 | Cost: 0.7202479 | Acc train: 0.8133333 | Acc validation: 0.8800000 \n",
      "Iter:    20 | Cost: 0.7292276 | Acc train: 0.8533333 | Acc validation: 1.0000000 \n",
      "Iter:    21 | Cost: 0.7367582 | Acc train: 0.8533333 | Acc validation: 0.9600000 \n",
      "Iter:    22 | Cost: 0.7206735 | Acc train: 0.8800000 | Acc validation: 0.9600000 \n",
      "Iter:    23 | Cost: 0.7219434 | Acc train: 0.8400000 | Acc validation: 0.9200000 \n",
      "Iter:    24 | Cost: 0.7162219 | Acc train: 0.8533333 | Acc validation: 1.0000000 \n",
      "Iter:    25 | Cost: 0.7003936 | Acc train: 0.8533333 | Acc validation: 0.9600000 \n",
      "Iter:    26 | Cost: 0.7085129 | Acc train: 0.8266667 | Acc validation: 0.9200000 \n",
      "Iter:    27 | Cost: 0.7147811 | Acc train: 0.8000000 | Acc validation: 0.8000000 \n",
      "Iter:    28 | Cost: 0.7211069 | Acc train: 0.7466667 | Acc validation: 0.7600000 \n",
      "Iter:    29 | Cost: 0.7316165 | Acc train: 0.6933333 | Acc validation: 0.7600000 \n",
      "Iter:    30 | Cost: 0.7191199 | Acc train: 0.7066667 | Acc validation: 0.7200000 \n",
      "Iter:    31 | Cost: 0.7156418 | Acc train: 0.7066667 | Acc validation: 0.7600000 \n",
      "Iter:    32 | Cost: 0.6923428 | Acc train: 0.7466667 | Acc validation: 0.8400000 \n",
      "Iter:    33 | Cost: 0.6575109 | Acc train: 0.8800000 | Acc validation: 0.9200000 \n",
      "Iter:    34 | Cost: 0.6491788 | Acc train: 0.8800000 | Acc validation: 0.9600000 \n",
      "Iter:    35 | Cost: 0.6517474 | Acc train: 0.9066667 | Acc validation: 0.9600000 \n",
      "Iter:    36 | Cost: 0.6733981 | Acc train: 0.8133333 | Acc validation: 0.7600000 \n",
      "Iter:    37 | Cost: 0.6657258 | Acc train: 0.8533333 | Acc validation: 0.8000000 \n",
      "Iter:    38 | Cost: 0.6435870 | Acc train: 0.8400000 | Acc validation: 0.8000000 \n",
      "Iter:    39 | Cost: 0.6540714 | Acc train: 0.8400000 | Acc validation: 0.8000000 \n",
      "Iter:    40 | Cost: 0.6083882 | Acc train: 0.9066667 | Acc validation: 0.9600000 \n",
      "Iter:    41 | Cost: 0.5774411 | Acc train: 0.9200000 | Acc validation: 1.0000000 \n",
      "Iter:    42 | Cost: 0.5539659 | Acc train: 0.9200000 | Acc validation: 1.0000000 \n",
      "Iter:    43 | Cost: 0.5518353 | Acc train: 0.9200000 | Acc validation: 1.0000000 \n",
      "Iter:    44 | Cost: 0.5302196 | Acc train: 0.9333333 | Acc validation: 1.0000000 \n",
      "Iter:    45 | Cost: 0.5122588 | Acc train: 0.9466667 | Acc validation: 1.0000000 \n",
      "Iter:    46 | Cost: 0.4947080 | Acc train: 0.9333333 | Acc validation: 1.0000000 \n",
      "Iter:    47 | Cost: 0.4905519 | Acc train: 0.9333333 | Acc validation: 1.0000000 \n",
      "Iter:    48 | Cost: 0.4580757 | Acc train: 0.9466667 | Acc validation: 1.0000000 \n",
      "Iter:    49 | Cost: 0.4370923 | Acc train: 0.9466667 | Acc validation: 1.0000000 \n",
      "Iter:    50 | Cost: 0.4077286 | Acc train: 0.9733333 | Acc validation: 1.0000000 \n",
      "Iter:    51 | Cost: 0.3893658 | Acc train: 0.9733333 | Acc validation: 1.0000000 \n",
      "Iter:    52 | Cost: 0.3695749 | Acc train: 0.9733333 | Acc validation: 1.0000000 \n",
      "Iter:    53 | Cost: 0.3559330 | Acc train: 0.9866667 | Acc validation: 1.0000000 \n",
      "Iter:    54 | Cost: 0.3398317 | Acc train: 0.9733333 | Acc validation: 1.0000000 \n",
      "Iter:    55 | Cost: 0.3291862 | Acc train: 1.0000000 | Acc validation: 1.0000000 \n",
      "Iter:    56 | Cost: 0.3037759 | Acc train: 1.0000000 | Acc validation: 1.0000000 \n",
      "Iter:    57 | Cost: 0.2940758 | Acc train: 1.0000000 | Acc validation: 1.0000000 \n",
      "Iter:    58 | Cost: 0.2905583 | Acc train: 1.0000000 | Acc validation: 1.0000000 \n",
      "Iter:    59 | Cost: 0.2756061 | Acc train: 1.0000000 | Acc validation: 1.0000000 \n",
      "Iter:    60 | Cost: 0.2710285 | Acc train: 1.0000000 | Acc validation: 1.0000000 \n"
     ]
    }
   ],
   "source": [
    "opt = NesterovMomentumOptimizer(0.01)\n",
    "batch_size = 5\n",
    "\n",
    "# train the variational classifier\n",
    "weights = weights_init\n",
    "bias = bias_init\n",
    "for it in range(60):\n",
    "\n",
    "    # Update the weights by one optimizer step\n",
    "    batch_index = np.random.randint(0, num_train, (batch_size,))\n",
    "    feats_train_batch = feats_train[batch_index]\n",
    "    Y_train_batch = Y_train[batch_index]\n",
    "    weights, bias, _, _ = opt.step(cost, weights, bias, feats_train_batch, Y_train_batch)\n",
    "\n",
    "    # Compute predictions on train and validation set\n",
    "    predictions_train = [np.sign(variational_classifier(weights, bias, f)) for f in feats_train]\n",
    "    predictions_val = [np.sign(variational_classifier(weights, bias, f)) for f in feats_val]\n",
    "\n",
    "    # Compute accuracy on train and validation set\n",
    "    acc_train = accuracy(Y_train, predictions_train)\n",
    "    acc_val = accuracy(Y_val, predictions_val)\n",
    "\n",
    "    print(\n",
    "        \"Iter: {:5d} | Cost: {:0.7f} | Acc train: {:0.7f} | Acc validation: {:0.7f} \"\n",
    "        \"\".format(it + 1, cost(weights, bias, features, Y), acc_train, acc_val)\n",
    "    )"
   ]
  },
  {
   "cell_type": "code",
   "execution_count": 48,
   "id": "18ce9f6c",
   "metadata": {},
   "outputs": [
    {
     "name": "stdout",
     "output_type": "stream",
     "text": [
      "Iter:     1 | Cost: 1.4737312 | Acc train: 0.4933333 | Acc validation: 0.5600000 \n",
      "Iter:     2 | Cost: 1.4063648 | Acc train: 0.4933333 | Acc validation: 0.5600000 \n",
      "Iter:     3 | Cost: 1.2912109 | Acc train: 0.4800000 | Acc validation: 0.5600000 \n",
      "Iter:     4 | Cost: 1.1576565 | Acc train: 0.4666667 | Acc validation: 0.5600000 \n",
      "Iter:     5 | Cost: 1.0328578 | Acc train: 0.4666667 | Acc validation: 0.5600000 \n",
      "Iter:     6 | Cost: 0.9306218 | Acc train: 0.5466667 | Acc validation: 0.6000000 \n",
      "Iter:     7 | Cost: 0.8741653 | Acc train: 0.5866667 | Acc validation: 0.7600000 \n",
      "Iter:     8 | Cost: 0.8523267 | Acc train: 0.6533333 | Acc validation: 0.7600000 \n",
      "Iter:     9 | Cost: 0.8077440 | Acc train: 0.7733333 | Acc validation: 0.8000000 \n",
      "Iter:    10 | Cost: 0.7950194 | Acc train: 0.7866667 | Acc validation: 0.8000000 \n",
      "Iter:    11 | Cost: 0.7972902 | Acc train: 0.8000000 | Acc validation: 0.7600000 \n",
      "Iter:    12 | Cost: 0.7814186 | Acc train: 0.7200000 | Acc validation: 0.6800000 \n",
      "Iter:    13 | Cost: 0.7859598 | Acc train: 0.6800000 | Acc validation: 0.6400000 \n",
      "Iter:    14 | Cost: 0.7735701 | Acc train: 0.7066667 | Acc validation: 0.6800000 \n",
      "Iter:    15 | Cost: 0.7646014 | Acc train: 0.7066667 | Acc validation: 0.6800000 \n",
      "Iter:    16 | Cost: 0.7404200 | Acc train: 0.8400000 | Acc validation: 0.8400000 \n",
      "Iter:    17 | Cost: 0.7161320 | Acc train: 0.8800000 | Acc validation: 0.9600000 \n",
      "Iter:    18 | Cost: 0.7049987 | Acc train: 0.8666667 | Acc validation: 0.9200000 \n",
      "Iter:    19 | Cost: 0.7149605 | Acc train: 0.8400000 | Acc validation: 0.9200000 \n",
      "Iter:    20 | Cost: 0.7225878 | Acc train: 0.8133333 | Acc validation: 0.9200000 \n",
      "Iter:    21 | Cost: 0.7301039 | Acc train: 0.8266667 | Acc validation: 0.9600000 \n",
      "Iter:    22 | Cost: 0.7281265 | Acc train: 0.8533333 | Acc validation: 1.0000000 \n",
      "Iter:    23 | Cost: 0.7293252 | Acc train: 0.8400000 | Acc validation: 0.9200000 \n",
      "Iter:    24 | Cost: 0.7297544 | Acc train: 0.8533333 | Acc validation: 1.0000000 \n",
      "Iter:    25 | Cost: 0.7259859 | Acc train: 0.8533333 | Acc validation: 0.9200000 \n",
      "Iter:    26 | Cost: 0.7300953 | Acc train: 0.8266667 | Acc validation: 0.9200000 \n",
      "Iter:    27 | Cost: 0.7345986 | Acc train: 0.7866667 | Acc validation: 0.8000000 \n",
      "Iter:    28 | Cost: 0.7760429 | Acc train: 0.6933333 | Acc validation: 0.6800000 \n",
      "Iter:    29 | Cost: 0.7876267 | Acc train: 0.6533333 | Acc validation: 0.6400000 \n",
      "Iter:    30 | Cost: 0.8079318 | Acc train: 0.6266667 | Acc validation: 0.6000000 \n",
      "Iter:    31 | Cost: 0.7759945 | Acc train: 0.6400000 | Acc validation: 0.6400000 \n",
      "Iter:    32 | Cost: 0.7272952 | Acc train: 0.7066667 | Acc validation: 0.7600000 \n",
      "Iter:    33 | Cost: 0.6842903 | Acc train: 0.8400000 | Acc validation: 0.9200000 \n",
      "Iter:    34 | Cost: 0.7009911 | Acc train: 0.8400000 | Acc validation: 0.8000000 \n",
      "Iter:    35 | Cost: 0.7770369 | Acc train: 0.5600000 | Acc validation: 0.4800000 \n",
      "Iter:    36 | Cost: 0.8613288 | Acc train: 0.5200000 | Acc validation: 0.4400000 \n",
      "Iter:    37 | Cost: 0.8829290 | Acc train: 0.5333333 | Acc validation: 0.4400000 \n",
      "Iter:    38 | Cost: 0.8782206 | Acc train: 0.5200000 | Acc validation: 0.4400000 \n",
      "Iter:    39 | Cost: 0.8736423 | Acc train: 0.5200000 | Acc validation: 0.4400000 \n",
      "Iter:    40 | Cost: 0.8435549 | Acc train: 0.5333333 | Acc validation: 0.4400000 \n",
      "Iter:    41 | Cost: 0.7267389 | Acc train: 0.5600000 | Acc validation: 0.4800000 \n",
      "Iter:    42 | Cost: 0.6554198 | Acc train: 0.8533333 | Acc validation: 0.8000000 \n",
      "Iter:    43 | Cost: 0.6239467 | Acc train: 0.9466667 | Acc validation: 0.9600000 \n",
      "Iter:    44 | Cost: 0.5953853 | Acc train: 0.9333333 | Acc validation: 1.0000000 \n",
      "Iter:    45 | Cost: 0.5919484 | Acc train: 0.9200000 | Acc validation: 0.9200000 \n",
      "Iter:    46 | Cost: 0.6000110 | Acc train: 0.8666667 | Acc validation: 0.9200000 \n",
      "Iter:    47 | Cost: 0.6080506 | Acc train: 0.8133333 | Acc validation: 0.8800000 \n",
      "Iter:    48 | Cost: 0.6164311 | Acc train: 0.8133333 | Acc validation: 0.8000000 \n",
      "Iter:    49 | Cost: 0.6118553 | Acc train: 0.7733333 | Acc validation: 0.8000000 \n",
      "Iter:    50 | Cost: 0.5973878 | Acc train: 0.7866667 | Acc validation: 0.7600000 \n",
      "Iter:    51 | Cost: 0.5503805 | Acc train: 0.8266667 | Acc validation: 0.9200000 \n",
      "Iter:    52 | Cost: 0.5294833 | Acc train: 0.9066667 | Acc validation: 0.9200000 \n",
      "Iter:    53 | Cost: 0.4993213 | Acc train: 0.9466667 | Acc validation: 0.9200000 \n",
      "Iter:    54 | Cost: 0.4766252 | Acc train: 0.9600000 | Acc validation: 0.9600000 \n",
      "Iter:    55 | Cost: 0.4564279 | Acc train: 0.9866667 | Acc validation: 1.0000000 \n",
      "Iter:    56 | Cost: 0.4476974 | Acc train: 0.9866667 | Acc validation: 1.0000000 \n",
      "Iter:    57 | Cost: 0.4294898 | Acc train: 0.9600000 | Acc validation: 1.0000000 \n",
      "Iter:    58 | Cost: 0.4249316 | Acc train: 0.9600000 | Acc validation: 0.9600000 \n",
      "Iter:    59 | Cost: 0.4156957 | Acc train: 0.9600000 | Acc validation: 1.0000000 \n",
      "Iter:    60 | Cost: 0.3872288 | Acc train: 0.9600000 | Acc validation: 1.0000000 \n"
     ]
    }
   ],
   "source": [
    "opt = NesterovMomentumOptimizer(0.01)\n",
    "batch_size = 5\n",
    "\n",
    "# train the variational classifier\n",
    "weights = weights_init\n",
    "bias = bias_init\n",
    "for it in range(60):\n",
    "\n",
    "    # Update the weights by one optimizer step\n",
    "    batch_index = np.random.randint(0, num_train, (batch_size,))\n",
    "    feats_train_batch = feats_train[batch_index]\n",
    "    Y_train_batch = Y_train[batch_index]\n",
    "    weights, bias, _, _ = opt.step(cost, weights, bias, feats_train_batch, Y_train_batch)\n",
    "\n",
    "    # Compute predictions on train and validation set\n",
    "    predictions_train = [np.sign(variational_classifier(weights, bias, f)) for f in feats_train]\n",
    "    predictions_val = [np.sign(variational_classifier(weights, bias, f)) for f in feats_val]\n",
    "\n",
    "    # Compute accuracy on train and validation set\n",
    "    acc_train = accuracy(Y_train, predictions_train)\n",
    "    acc_val = accuracy(Y_val, predictions_val)\n",
    "\n",
    "    print(\n",
    "        \"Iter: {:5d} | Cost: {:0.7f} | Acc train: {:0.7f} | Acc validation: {:0.7f} \"\n",
    "        \"\".format(it + 1, cost(weights, bias, features, Y), acc_train, acc_val)\n",
    "    )"
   ]
  },
  {
   "cell_type": "code",
   "execution_count": 56,
   "id": "6c5bc18b",
   "metadata": {},
   "outputs": [
    {
     "data": {
      "text/plain": [
       "<Figure size 432x288 with 0 Axes>"
      ]
     },
     "metadata": {},
     "output_type": "display_data"
    }
   ],
   "source": [
    "plt.figure()\n",
    "cm = plt.cm.RdBu\n",
    "\n",
    "# make data for decision regions\n",
    "xx, yy = np.meshgrid(np.linspace(0.0, 1.5, 20), np.linspace(0.0, 1.5, 20))\n",
    "X_grid = [np.array([x, y]) for x, y in zip(xx.flatten(), yy.flatten())]\n",
    "\n",
    "# preprocess grid points like data inputs above\n",
    "padding = 0.3 * np.ones((len(X_grid), 1))\n",
    "X_grid = np.c_[np.c_[X_grid, padding], np.zeros((len(X_grid), 1))]  # pad each input\n",
    "normalization = np.sqrt(np.sum(X_grid ** 2, -1))\n",
    "X_grid = (X_grid.T / normalization).T  # normalize each input\n",
    "features_grid = np.array(\n",
    "    [get_angles(x) for x in X_grid]\n",
    ")  # angles for state preparation are new features\n",
    "\n",
    "predictions_grid = [variational_classifier(weights, bias, f) for f in features_grid]\n",
    "Z = np.reshape(predictions_grid, xx.shape)\n"
   ]
  },
  {
   "cell_type": "code",
   "execution_count": 57,
   "id": "399fc167",
   "metadata": {},
   "outputs": [
    {
     "data": {
      "image/png": "[encoded data removed]",
      "text/plain": [
       "<Figure size 432x288 with 2 Axes>"
      ]
     },
     "metadata": {},
     "output_type": "display_data"
    }
   ],
   "source": [
    "\n",
    "# plot decision regions\n",
    "cnt = plt.contourf(\n",
    "    xx, yy, Z, levels=np.arange(-1, 1.1, 0.1), cmap=cm, alpha=0.8, extend=\"both\"\n",
    ")\n",
    "plt.contour(\n",
    "    xx, yy, Z, levels=[0.0], colors=(\"black\",), linestyles=(\"--\",), linewidths=(0.8,)\n",
    ")\n",
    "plt.colorbar(cnt, ticks=[-1, 0, 1])\n",
    "\n",
    "# plot data\n",
    "plt.scatter(\n",
    "    X_train[:, 0][Y_train == 1],\n",
    "    X_train[:, 1][Y_train == 1],\n",
    "    c=\"b\",\n",
    "    marker=\"o\",\n",
    "    edgecolors=\"k\",\n",
    "    label=\"class 1 train\",\n",
    ")\n",
    "\n",
    "plt.scatter(\n",
    "    X_val[:, 0][Y_val == 1],\n",
    "    X_val[:, 1][Y_val == 1],\n",
    "    c=\"b\",\n",
    "    marker=\"^\",\n",
    "    edgecolors=\"k\",\n",
    "    label=\"class 1 validation\",\n",
    ")\n",
    "plt.scatter(\n",
    "    X_train[:, 0][Y_train == -1],\n",
    "    X_train[:, 1][Y_train == -1],\n",
    "    c=\"r\",\n",
    "    marker=\"o\",\n",
    "    edgecolors=\"k\",\n",
    "    label=\"class -1 train\",\n",
    ")\n",
    "\n",
    "plt.scatter(\n",
    "    X_val[:, 0][Y_val == -1],\n",
    "    X_val[:, 1][Y_val == -1],\n",
    "    c=\"r\",\n",
    "    marker=\"^\",\n",
    "    edgecolors=\"k\",\n",
    "    label=\"class -1 validation\",\n",
    ")\n",
    "\n",
    "plt.legend()\n",
    "plt.show()"
   ]
  }
 ],
 "metadata": {
  "kernelspec": {
   "display_name": "Python 3 (Spyder)",
   "language": "python3",
   "name": "python3"
  },
  "language_info": {
   "codemirror_mode": {
    "name": "ipython",
    "version": 3
   },
   "file_extension": ".py",
   "mimetype": "text/x-python",
   "name": "python",
   "nbconvert_exporter": "python",
   "pygments_lexer": "ipython3",
   "version": "3.8.12"
  }
 },
 "nbformat": 4,
 "nbformat_minor": 5
}
