{
 "cells": [
  {
   "cell_type": "code",
   "execution_count": 3,
   "id": "33652424",
   "metadata": {},
   "outputs": [
    {
     "data": {
      "text/plain": [
       "'  \\n   Author: Tjark Ziehm\\n   Kontakt: tjark.ziehm@ohioh.de\\n   Date: August 2021\\n   Version: 0.0.0\\n    \\n   Tag 2 - Quantum Computing\\n\\n    LernZiel:   \\n                    Neben den Basiskonfigurationen und dem Grundverständnis der Tools wie Anaconda ist die \\n                    Verbindung zu der Hardware ein elementarer Schritt. Das Ziel ist es Jupyter-Notebook mit \\n                    einer Quantum-Hardware zu verbinden und erste Test vornehmen zu können.\\n                    Dafür benötigen wir das Verständnis für ein geordneten Code und das Wissen um die Verarbeitung \\n                    der Daten in unserem Code. \\n                    \\n                    1. Kommentare & Dokumentation\\n                    1.1 Versionierung und GitKraken\\n                    2. Struktur und Refactoring\\n                    3. Code-Planung\\n                    4. Quantum in Code-Form\\n                    5. Ergebnisse Verarbeiten\\n                    \\n    Ergänzung:      Clean-Code: https://github.com/ohioh/CleanCode\\n    Verweise:       PennyLane: https://pennylane.readthedocs.io/en/stable/introduction/pennylane.html\\n                    \\n'"
      ]
     },
     "execution_count": 3,
     "metadata": {},
     "output_type": "execute_result"
    }
   ],
   "source": [
    "###############################################--- Construction & Fire---###########################################\n",
    "\"\"\"  \n",
    "   Author: Tjark Ziehm\n",
    "   Kontakt: tjark.ziehm@ohioh.de\n",
    "   Date: August 2021\n",
    "   Version: 0.0.0\n",
    "    \n",
    "   Tag 2 - Quantum Computing\n",
    "\n",
    "    LernZiel:   \n",
    "                    Neben den Basiskonfigurationen und dem Grundverständnis der Tools wie Anaconda ist die \n",
    "                    Verbindung zu der Hardware ein elementarer Schritt. Das Ziel ist es Jupyter-Notebook mit \n",
    "                    einer Quantum-Hardware zu verbinden und erste Test vornehmen zu können.\n",
    "                    Dafür benötigen wir das Verständnis für ein geordneten Code und das Wissen um die Verarbeitung \n",
    "                    der Daten in unserem Code. \n",
    "                    \n",
    "                    1. Kommentare & Dokumentation\n",
    "                    1.1 Versionierung und GitKraken\n",
    "                    2. Struktur und Refactoring\n",
    "                    3. Code-Planung\n",
    "                    4. Quantum in Code-Form\n",
    "                    5. Ergebnisse Verarbeiten\n",
    "                    \n",
    "    Ergänzung:      Clean-Code: https://github.com/ohioh/CleanCode\n",
    "    Verweise:       PennyLane: https://pennylane.readthedocs.io/en/stable/introduction/pennylane.html\n",
    "    Vertiefung:     https://de.wikipedia.org/wiki/Quantengatter\n",
    "                    \n",
    "                    \n",
    "\"\"\"    \n",
    "###################################################################################################################"
   ]
  },
  {
   "cell_type": "code",
   "execution_count": 2,
   "id": "2ef0dce3",
   "metadata": {},
   "outputs": [],
   "source": [
    "###############################################--- Import---#######################################################\n",
    "\"\"\"\n",
    "Import Statements binden in die Python-Envirment benötigte Tools ein. Die \"Verwaltungsebene\" von Anaconda bietet eine \n",
    "gezielte Kontrolle über die Versionierung und das Zusammenspiel sowie Anpassbarkeit der benötigten Tools.\n",
    "Um diese dann aktiv im Code zu nutzen benötigt man das \"Import-Statement\", das gleichzeitig auch Namensgeber für den Aufruf\n",
    "im Code ist -> Import +[Name der Bibliothek] + as -> \"Ruf-Name\" für den Code  [qml = quantum machine learning]\n",
    "\n",
    "\"\"\"\n",
    "import pennylane as qml\n"
   ]
  },
  {
   "cell_type": "code",
   "execution_count": 3,
   "id": "5346ea66",
   "metadata": {},
   "outputs": [],
   "source": [
    "###############################################--- Functions---#####################################################\n",
    "\"\"\" \n",
    "Funktionen sind aufrufbare Konstrukte für die Verarbeitung von Methoden. So können wir Methoden aus der Pennylane\n",
    "Bibliothek nutzen um eigenen Quantum-Berechnungen zusammen zu stellen und zu verknüpfen.\n",
    "Ein riesiger Mehrwert ist die wiederverwendbarkeit von Funktionen, so dass man sich im Verlauf der Code-Entwicklung\n",
    "nicht wiederholen muss, sondern einfach den Funktionsaufruf einbinden kann. Das spart Zeilen an Code,Rechenleistung\n",
    "und verbessert die Lesbarkeit. Daher ist es sehr wichtig sich über den Einsatzzweck einer Funktion gedanken zu machen,\n",
    "das gewünschte Ergebnis zu definieren und zu dokumentieren. Durch die Dokumentation kommt ein oft unterschätzter Mehrwert \n",
    "in den Code. Die Qualität steigt durch die Lesbarkeit bzw. Verständlichkeit und Wieder-Verwendbarkeit für einen Selbst und\n",
    "Dritte.\n",
    "Scope: Da ein Computer wie in Baukästen sich einzelne Klassen und Funktionen anschaut und verknüpft, nutzen die \n",
    "Programmiesprachen wie Python einen Scope. Dies ist der Blickwinkel bzw Sichthorizont aus dem sich der Handlungsrahmen \n",
    "einer Funktion etc ergibt. In der Praxis heißt es, dass man im Scope einer Funktion ist und daher schauen muss ob ander \n",
    "Scopes verfübar sind. Wenn man z.B. über zwei Funktion hinweg Information austauschen will ist dies nur möglich wenn man eine\n",
    "übergeordnete sogenannte globale Variable hat, da jede Funktion für sich selbst einen geschlossenen privaten Scope hat.\n",
    "Rückgabewert: Der Rückage-Wert ist optional und kann nach Bedarf eingebunden werden. z.B. kann man mit einer Funktion eine\n",
    "LED anschalten. Da benötigt man nicht zwingend ein Rückgabewert. Bei einer Berechnung hingegen kann ein Rückgabewert wichtig sein.\n",
    "Der Einsatz des Rückgabewertes ist oftmals eine Abwegungssache, die durch die Vorlieben des Programmierers*in entschieden wird.\n",
    "Als Programmierer*in hat man nämlich mit etwas Erfahrung eine Vielzahl an Möglichkeiten um das gewünschte Ziel zu erreichen.\n",
    "Vertiefung: \n",
    "            - https://www.w3schools.com/python/python_functions.asp\n",
    "            - https://www.python.org/doc/\n",
    "\"\"\"\n",
    "\n",
    "def my_quantum_function(x, y):\n",
    "    qml.RZ(x, wires=0)\n",
    "    qml.CNOT(wires=[0,1])\n",
    "    qml.RY(y, wires=1)\n",
    "    return qml.expval(qml.PauliZ(1))"
   ]
  },
  {
   "cell_type": "code",
   "execution_count": null,
   "id": "56f04547",
   "metadata": {},
   "outputs": [],
   "source": [
    "###############################################--- computational device---#####################################################\n",
    "\"\"\"\n",
    "Das Laden eines Geräts\n",
    "\"\"\"\n",
    "\n",
    "#dev = qml.device('default.qubit', wires=2, shots=1000)"
   ]
  },
  {
   "cell_type": "code",
   "execution_count": 4,
   "id": "ccb9cc4c",
   "metadata": {},
   "outputs": [],
   "source": [
    "###############################################---Batches of shots---#####################################################\n",
    "\"\"\"\n",
    "\"\"\"\n",
    "#using the first 5 shots, second set of 10 shots, and final 1000 shots, separately.\n",
    "shots_list = [5, 10, 1000]\n",
    "dev = qml.device('default.qubit', wires=2, shots=shots_list)"
   ]
  },
  {
   "cell_type": "code",
   "execution_count": 6,
   "id": "b6129c79",
   "metadata": {},
   "outputs": [
    {
     "data": {
      "text/plain": [
       "tensor([[-0.2  ,  1.   ],\n",
       "        [-0.6  ,  0.8  ],\n",
       "        [ 0.002,  0.876]], requires_grad=True)"
      ]
     },
     "execution_count": 6,
     "metadata": {},
     "output_type": "execute_result"
    }
   ],
   "source": [
    "###############################################---Berechnungen durchführen---#######################################\n",
    "\"\"\"\n",
    "\"\"\"\n",
    "# (@) an die Bibliothek (.) mit der Methode ( () ) mit folgenden Einstellungen:\n",
    "@qml.qnode(dev)\n",
    "\n",
    "# Besonderheit von Jupyter ist die Zeilenausführung\n",
    "def circuit(x):\n",
    "  qml.RX(x, wires=0)\n",
    "  qml.CNOT(wires=[0, 1])\n",
    "  return qml.expval(qml.PauliZ(0) @ qml.PauliX(1)), qml.expval(qml.PauliZ(0))\n",
    "\n",
    "#Ausführung der Funktion circuit mit dem Wert x = 0.5:\n",
    "circuit(0.5)\n"
   ]
  },
  {
   "cell_type": "code",
   "execution_count": 8,
   "id": "46a41144",
   "metadata": {},
   "outputs": [],
   "source": [
    "###############################################---Kabel-Salat lösen---####################################################\n",
    "\"\"\"\n",
    "Wires sind Berechnungswege, die man Qubits zuweisen kann und Rechenoperationen verküpfen kann.\n",
    "Dabei kann man dem gewünschten Wert ( integer) bzw Parameter übersichtlichkeitshalber benennen.\n",
    "Von Namen (strings), Zahlenwerten (integers) bis hin zu Gleitkomma-Zahlen (floats) und gemixte Typen bietet Pennylane\n",
    "mit Pyhton freie Spielraum für die Namensgebung.\n",
    "Vertiefung zu Funktionen: https://www.python-lernen.de/funktionen-in-python.htm\n",
    "\n",
    "Visualisierung: Der IBM Quantum Composer ist webbasiertes Visualisierungstool für Quantum-Anwendungen\n",
    "\"\"\"\n",
    "\n",
    "# wires= 2 wird zu wire1 und wire2\n",
    "dev = qml.device('default.qubit', wires=['wire1', 'wire2'], shots=1000)\n",
    "\n",
    "#Übersichtlichere Funktion dank lesbarer Namen:\n",
    "def my_quantum_function(x, y):\n",
    "    qml.RZ(x, wires='wire1')\n",
    "    qml.CNOT(wires=['wire1' ,'wire2'])\n",
    "    qml.RY(y, wires='wire2')\n",
    "    return qml.expval(qml.PauliZ('wire2'))"
   ]
  },
  {
   "cell_type": "code",
   "execution_count": 9,
   "id": "b9743eba",
   "metadata": {},
   "outputs": [
    {
     "ename": "NameError",
     "evalue": "name 'np' is not defined",
     "output_type": "error",
     "traceback": [
      "\u001b[0;31m---------------------------------------------------------------------------\u001b[0m",
      "\u001b[0;31mNameError\u001b[0m                                 Traceback (most recent call last)",
      "\u001b[0;32m/tmp/ipykernel_9160/2484907102.py\u001b[0m in \u001b[0;36m<module>\u001b[0;34m\u001b[0m\n\u001b[1;32m      9\u001b[0m \u001b[0;34m\u001b[0m\u001b[0m\n\u001b[1;32m     10\u001b[0m \u001b[0;31m#Nun kann der funktionsfähige Schaltplan für die Berechnungen genutzt werden indem Parameter übergeben werden\u001b[0m\u001b[0;34m\u001b[0m\u001b[0;34m\u001b[0m\u001b[0;34m\u001b[0m\u001b[0m\n\u001b[0;32m---> 11\u001b[0;31m \u001b[0mcircuit\u001b[0m\u001b[0;34m(\u001b[0m\u001b[0mnp\u001b[0m\u001b[0;34m.\u001b[0m\u001b[0mpi\u001b[0m\u001b[0;34m/\u001b[0m\u001b[0;36m4\u001b[0m\u001b[0;34m,\u001b[0m \u001b[0;36m0.7\u001b[0m\u001b[0;34m)\u001b[0m\u001b[0;34m\u001b[0m\u001b[0;34m\u001b[0m\u001b[0m\n\u001b[0m",
      "\u001b[0;31mNameError\u001b[0m: name 'np' is not defined"
     ]
    }
   ],
   "source": [
    "###############################################---Quantum-Knoten---####################################################\n",
    "\"\"\"\n",
    "Um eine Quantum-Funktion mit einem Device zu verbinden, nutzt man die Knoten bzw. Nodes.\n",
    "Diese \"Verknoten\" die Funktionen mit der Hardware und machen deinen Code Quantum-berechenbar\n",
    "\"\"\"\n",
    "\n",
    "#Die Schaltungsskizze bzw circuit bekommt eine Funktion und ein Gerät zugewiesen\n",
    "circuit = qml.QNode(my_quantum_function, dev)\n",
    "\n",
    "#Nun kann der funktionsfähige Schaltplan für die Berechnungen genutzt werden indem Parameter übergeben werden\n",
    "circuit(np.pi/4, 0.7)"
   ]
  },
  {
   "cell_type": "code",
   "execution_count": 10,
   "id": "0b49387a",
   "metadata": {},
   "outputs": [
    {
     "data": {
      "text/plain": [
       "tensor(0.768, requires_grad=True)"
      ]
     },
     "execution_count": 10,
     "metadata": {},
     "output_type": "execute_result"
    }
   ],
   "source": [
    "###############################################---Import und Namespace---###########################################\n",
    "\"\"\"\n",
    "Der Namensraum und Methode sind nicht bekannt, da sie noch nicht in den Code eingebunden sind\n",
    "- \"NameError: name 'np' is not defined \"\n",
    "np steht in der Coding-Community für Numpy mit der Methode zur Bereitstellung von Pi\n",
    "\"\"\"\n",
    "import numpy as np\n",
    "\n",
    "circuit(np.pi/4, 0.7)"
   ]
  },
  {
   "cell_type": "code",
   "execution_count": 11,
   "id": "194039a2",
   "metadata": {},
   "outputs": [
    {
     "name": "stdout",
     "output_type": "stream",
     "text": [
      " wire1: ──RZ(0.785)──╭C───────────┤     \n",
      " wire2: ─────────────╰X──RY(0.7)──┤ ⟨Z⟩ \n",
      "\n"
     ]
    }
   ],
   "source": [
    "###############################################---schnelle Visualisierungsalternative---############################\n",
    "\"\"\"\n",
    "Je nach dem wie man Code schreibt bzw. für Dokumentation oder wissenschaftliches Arbeiten nutzbar machen möchte, bieten\n",
    "sich eine Vielzahl an Optionen an. Der IBM Quantum Composer ist dafür ein mächtiges Werkzeug.\n",
    "Schnelle und einfache Visualisierungen in Jupyter sind mit der Draw Funktion möglich,die man mit print ausgeben kann\n",
    "\"\"\"\n",
    "\n",
    "print(circuit.draw())"
   ]
  },
  {
   "cell_type": "code",
   "execution_count": 26,
   "id": "5887c53f",
   "metadata": {},
   "outputs": [],
   "source": [
    "###################################################################################################################\n",
    "###############################################---ZUSAMMENFASSUNG---###############################################\n",
    "###################################################################################################################\n",
    "\n",
    "###############################################---QNode decorator---###############################################\n",
    "\"\"\"\n",
    "QNode-Dekoratoren sind die Optimierung für Berechnungen auf einem Quantum-Device. In der Node werden Python-Funktionen\n",
    "mit den PennyLane  Quantum Operationen verbunden. Der Node ersetzt die Ursprungsfuntkion, die danach nicht mehr verfügbar ist.\n",
    "\"\"\"\n",
    "dev = qml.device('default.qubit', wires=2)\n",
    "\n",
    "@qml.qnode(dev)\n",
    "\n",
    "def circuit(x):\n",
    "    qml.RZ(x, wires=0)\n",
    "    qml.CNOT(wires=[0,1])\n",
    "    qml.RY(x, wires=1)\n",
    "    return qml.expval(qml.PauliZ(1))\n",
    "\n",
    "#Die Rückgabe aus der Circuit-Funktion wird in Result gespeichert \n",
    "result = circuit(0.543)"
   ]
  },
  {
   "cell_type": "code",
   "execution_count": 30,
   "id": "cae505b9",
   "metadata": {},
   "outputs": [],
   "source": [
    "###############################################---Multi-Nodes---###################################################\n",
    "\"\"\"\n",
    "Mehr als eine Perspektive kann bei wissenschaftlichen Arbeiten wie Molekular wichtig sein. \n",
    "Auch ein Vergleich zwischen Quanten-System-Benchmark ist so möglich. Dabei ist die Vorraussätzung, dass die Funtkionssignatur identisch ist.\n",
    "Eine unabhängige Evaluation ist zwingend notwendig. Das heißt, dass die Ergebnisse der einen Funktion nicht in die Berechnung der anderen\n",
    "einfließen darf.\n",
    "\n",
    "Ausblick: https://qiskit.org/textbook/ch-applications/vqe-molecules.html\n",
    "\"\"\"\n",
    "multiNodeShotList = [5, 10, 1000]\n",
    "\n",
    "#Wichtig:\n",
    "dev1 = qml.device(\"default.qubit\", wires=2, shots=multiNodeShotList)\n",
    "dev2 = qml.device(\"default.qubit\", wires=2, shots=multiNodeShotList)\n",
    "\n",
    "#Funktion \"dev1\" Signature => parameter[0] auf wire 0, parameter[1] auf wire 1 \n",
    "# RX ist ein Gate für Rotationsoperationen\n",
    "# Das Rx-Gate ist eine Ein-Qubit-Drehung um den Winkel θ\\thetaθ (Radiant) um die x-Achse.\n",
    "# Vertiefung: https://www.quantum-inspire.com/kbase/rx-gate/\n",
    "@qml.qnode(dev1)\n",
    "def x_rotations(params):\n",
    "    qml.RX(params[0], wires=0)\n",
    "    qml.RX(params[1], wires=1)\n",
    "    qml.CNOT(wires=[0, 1])\n",
    "    return qml.expval(qml.PauliZ(0))\n",
    "\n",
    "#Funktion \"dev2\"\n",
    "# RY Das Ry-Gatter ist eine Ein-Qubit-Drehung um den Winkel θ\\thetaθ (Radiant) um die y-Achse\n",
    "@qml.qnode(dev2)\n",
    "def y_rotations(params):\n",
    "    qml.RY(params[0], wires=0)\n",
    "    qml.RY(params[1], wires=1)\n",
    "    qml.CNOT(wires=[0, 1])\n",
    "    return qml.expval(qml.Hadamard(0))"
   ]
  },
  {
   "cell_type": "code",
   "execution_count": 31,
   "id": "1163fb55",
   "metadata": {},
   "outputs": [
    {
     "data": {
      "text/plain": [
       "2"
      ]
     },
     "execution_count": 31,
     "metadata": {},
     "output_type": "execute_result"
    }
   ],
   "source": [
    "###############################################---QNode-Collection---#################################################\n",
    "qnodes = qml.QNodeCollection([x_rotations, y_rotations])\n",
    "\n",
    "#Len für die Analyse von Variablen\n",
    "len(qnodes)"
   ]
  },
  {
   "cell_type": "code",
   "execution_count": 32,
   "id": "ae0a8389",
   "metadata": {},
   "outputs": [
    {
     "data": {
      "text/plain": [
       "array([[1.   , 1.   , 0.982],\n",
       "       [0.6  , 0.8  , 0.694]])"
      ]
     },
     "execution_count": 32,
     "metadata": {},
     "output_type": "execute_result"
    }
   ],
   "source": [
    "###############################################---2-QNode-Calcualtion---###################################################\n",
    "\"\"\"\n",
    "x_rotations: @qml.qnode(dev1) wird 0.2 übergeben \n",
    "y_rotations: @qml.qnode(dev2) wird 0.1 übergeben\n",
    "\"\"\"\n",
    "\n",
    "qnodes([0.2, 0.1])"
   ]
  },
  {
   "cell_type": "code",
   "execution_count": 33,
   "id": "422c3511",
   "metadata": {},
   "outputs": [],
   "source": [
    "###############################################---creating and evaluating tools---###################################################\n",
    "\"\"\"\n",
    "Zum Erstellen und Bewerten von Quantum-Funktionen\n",
    "\"\"\"\n",
    "\n",
    "#Beispiel: ( ohne Rückgabe-Wert)\n",
    "def rotateX(params, **kwargs):\n",
    "    #control qubit \n",
    "    qml.RX(params[0], wires=0)\n",
    "    #second qubit als the target qubit\n",
    "    qml.RX(params[1], wires=1)\n",
    "    #verändert das Controll Qubit nicht und ergänzt ein Pauli-X am \"target qubit\" bei state ∣1⟩\n",
    "    # State |0⟩ verändert das \"target qubit\" nicht\n",
    "    qml.CNOT(wires=[0, 1])"
   ]
  },
  {
   "cell_type": "code",
   "execution_count": null,
   "id": "dbb5284c",
   "metadata": {},
   "outputs": [],
   "source": [
    "###############################################---Beobachtungen---#################################################\n"
   ]
  }
 ],
 "metadata": {
  "kernelspec": {
   "display_name": "Python 3 (Spyder)",
   "language": "python3",
   "name": "python3"
  },
  "language_info": {
   "codemirror_mode": {
    "name": "ipython",
    "version": 3
   },
   "file_extension": ".py",
   "mimetype": "text/x-python",
   "name": "python",
   "nbconvert_exporter": "python",
   "pygments_lexer": "ipython3",
   "version": "3.8.12"
  }
 },
 "nbformat": 4,
 "nbformat_minor": 5
}
