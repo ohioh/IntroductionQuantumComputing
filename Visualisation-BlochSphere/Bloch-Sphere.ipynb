{
 "cells": [
  {
   "cell_type": "code",
   "execution_count": null,
   "metadata": {},
   "outputs": [],
   "source": [
    "##########################################################################################\n",
    "#\n",
    "#   The Bloch-Sphere Tutorial\n",
    "#   @Author: Tjark Ziehm\n",
    "#   \n",
    "#\n",
    "#   There are some tools to visualisation of single Qubit quantum systems.\n",
    "#   3 of them I wish to present here:\n",
    "#   \n",
    "#   1.  \n",
    "#   2.\n",
    "#   3\n",
    "#\n",
    "#\n",
    "#\n",
    "#\n",
    "###########################################################################################"
   ]
  },
  {
   "cell_type": "code",
   "execution_count": null,
   "metadata": {},
   "outputs": [
    {
     "ename": "",
     "evalue": "",
     "output_type": "error",
     "traceback": [
      "\u001b[1;31mRunning cells with 'Python 3.9.7 64-bit' requires ipykernel package.\n",
      "Run the following command to install 'ipykernel' into the Python environment. \n",
      "Command: '/bin/python3 -m pip install ipykernel -U --user --force-reinstall'"
     ]
    }
   ],
   "source": [
    "import matplotlib as mpl\n",
    "from pylab import *\n",
    "from qutip import *\n",
    "from matplotlib import cm\n",
    "import imageio\n",
    "\n",
    "\n",
    "states = []\n",
    "thetas = linspace(0,pi,21)\n",
    "\n",
    "for theta in thetas:\n",
    "    states.append((cos(theta/2)*basis(2,0) + sin(theta/2)*basis(2,1)).unit())\n",
    "\n",
    "animate_bloch(states, duration=0.1, save_all=False)\n",
    "\n",
    "\n",
    "\n",
    "def animate_bloch(states, duration=0.1, save_all=False):\n",
    "\n",
    "    b = Bloch()\n",
    "    b.vector_color = ['r']\n",
    "    b.view = [-40,30]\n",
    "    images=[]\n",
    "    try:\n",
    "        length = len(states)\n",
    "    except:\n",
    "        length = 1\n",
    "        states = [states]\n",
    "    ## normalize colors to the length of data ##\n",
    "    nrm = mpl.colors.Normalize(0,length)\n",
    "    colors = cm.cool(nrm(range(length))) # options: cool, summer, winter, autumn etc.\n",
    "\n",
    "    ## customize sphere properties ##\n",
    "    b.point_color = list(colors) # options: 'r', 'g', 'b' etc.\n",
    "    b.point_marker = ['o']\n",
    "    b.point_size = [30]\n",
    "    \n",
    "    for i in range(length):\n",
    "        b.clear()\n",
    "        b.add_states(states[i])\n",
    "        b.add_states(states[:(i+1)],'point')\n",
    "        if save_all:\n",
    "            b.save(dirc='tmp') #saving images to tmp directory\n",
    "            filename=\"tmp/bloch_%01d.png\" % i\n",
    "        else:\n",
    "            filename='temp_file.png'\n",
    "            b.save(filename)\n",
    "        images.append(imageio.imread(filename))\n",
    "    imageio.mimsave('bloch_anim.gif', images, duration=duration)\n"
   ]
  },
  {
   "cell_type": "code",
   "execution_count": null,
   "metadata": {},
   "outputs": [],
   "source": [
    "states = []\n",
    "thetas = linspace(0,pi,21)\n",
    "for theta in thetas:\n",
    "    states.append((cos(theta/2)*basis(2,0) + sin(theta/2)*basis(2,1)).unit())\n",
    "\n",
    "animate_bloch(states, duration=0.1, save_all=False)"
   ]
  }
 ],
 "metadata": {
  "kernelspec": {
   "display_name": "Python 3 (ipykernel)",
   "language": "python",
   "name": "python3"
  },
  "language_info": {
   "codemirror_mode": {
    "name": "ipython",
    "version": 3
   },
   "file_extension": ".py",
   "mimetype": "text/x-python",
   "name": "python",
   "nbconvert_exporter": "python",
   "pygments_lexer": "ipython3",
   "version": "3.9.7"
  }
 },
 "nbformat": 4,
 "nbformat_minor": 2
}
